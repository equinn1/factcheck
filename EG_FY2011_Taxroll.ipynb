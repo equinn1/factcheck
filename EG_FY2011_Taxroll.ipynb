{
 "cells": [
  {
   "cell_type": "markdown",
   "metadata": {},
   "source": [
    "#  Read EG FY2011 (billed in 2010) assessed 12/31/2009\n",
    "\n",
    "Real Estate Tax Roll and write .csv\n",
    "\n",
    "E. Quinn 10/17/2017"
   ]
  },
  {
   "cell_type": "markdown",
   "metadata": {},
   "source": [
    "## convert tax roll pdf to txt\n",
    "\n",
    "pdf2txt.py -o EG_RE_Tax_Roll_assessed_12_31_2009.txt EG_RE_Tax_Roll_assessed_12_31_2009.pdf\n",
    "\n",
    "Unlike every other year, this command failed to reproduce the line breaks in the pdf, and just produced a list of fields\n",
    "\n",
    "A web-based pdf converter was used to recover the text in the pdf."
   ]
  },
  {
   "cell_type": "code",
   "execution_count": 1,
   "metadata": {
    "collapsed": true
   },
   "outputs": [],
   "source": [
    "import re\n",
    "import numpy as np\n",
    "import scipy as sc\n",
    "import pandas as pd\n",
    "import matplotlib.pyplot as plt\n",
    "import seaborn as sns\n",
    "%matplotlib inline"
   ]
  },
  {
   "cell_type": "markdown",
   "metadata": {},
   "source": [
    "## Read the FY2011 tax roll (billed 8/2010, assessed values on 12/31/2009)"
   ]
  },
  {
   "cell_type": "code",
   "execution_count": 2,
   "metadata": {},
   "outputs": [
    {
     "name": "stdout",
     "output_type": "stream",
     "text": [
      "parcel records written: 10400\n",
      "totals records written: 5174\n"
     ]
    }
   ],
   "source": [
    "with open(\"../EG_RE_Tax_Roll_assessed_12_31_2009.txt\", \"rt\") as in_file:\n",
    "    text = in_file.readlines()\n",
    "\n",
    "fcsv = open(\"../EG_RE_Tax_Roll_assessed_12_31_2009.csv\",\"w\") \n",
    "fcsv.write('\"account\",\"bill_no\",\"parcel\",\"cat\",\"state code\",\"type\",\"address\",\"valuation\",\"exemption\",\"taxbill\"\\n')\n",
    "\n",
    "tcsv = open(\"../EG_RE_Tax_Roll_assessed_12_31_2009_Totals.csv\",\"w\")\n",
    "tcsv.write('\"account\",\"total_tax\"\\n')\n",
    "\n",
    "parcel_records_out = 0\n",
    "totals_records_out = 0\n",
    "\n",
    "records_read = len(text)\n",
    "\n",
    "for line in text[0:records_read]:\n",
    "    if (len(line)==134):                                #only full lines\n",
    "        if (line[0:9].isdigit()):                       #first 9 all digits - assume this is an account number\n",
    "            account = line[0:9]                         #save account number\n",
    "            parcel=''                                   #clear old parcel ID\n",
    "        if (line.find(\"TOTALS\") == 82):\n",
    "            total_tax = (line[120:133].strip()).replace(',', '')  #read the tax amount from cols 120-133\n",
    "            outtotal = account + ',' + total_tax + '\\n'\n",
    "            tcsv.write(outtotal)\n",
    "            totals_records_out = totals_records_out + 1\n",
    "        bill_no = line[35:44].strip()                   #bill number in columns 35-44\n",
    "        cat = line[44:46].strip()                       #category in columns 44-46\n",
    "        state_code = line[47:49]                        #state code in columns 47-49\n",
    "        mid_string = line[50:97]                        #string containing parcel ID and address\n",
    "        words = mid_string.split()                      #split the string into words\n",
    "        if (len(words) > 0):                            #try to find parcel ID if it is there\n",
    "            for word in words:                          #loop through words\n",
    "                if ((len(word)==16) & (\"-\" in word)):   #looking for parcel: a 16 columns string containining '-'\n",
    "                    parcel = word                       #save parcel ID\n",
    "                    atype = mid_string[0:mid_string.find(parcel)].strip()   #everything before parcel ID is type\n",
    "                    address = mid_string[mid_string.find(parcel)+len(parcel)+1:].strip()  #address is after parcel ID\n",
    "                    tax = (line[120:133].strip()).replace(',', '')  #read the tax amount from cols 120-133\n",
    "                    if (tax == ''):                                 #spaces indicate zero tax\n",
    "                        tax = '0'\n",
    "                    exemption = (line[109:119].strip()).replace(',', '')   #read exemption from cols 109-119\n",
    "                    if (exemption == ''):                                  #spaces indicate zero exemption\n",
    "                        exemption='0'\n",
    "                    valuation = (line[98:108].strip()).replace(',', '')    #read valuation from cols 98-108\n",
    "                    outline = account + ',' + bill_no + ',' + parcel + ',' + cat + ',' + state_code + ',\"'  \\\n",
    "                    + atype + '\",\"' + address + '\",' + valuation + ',' + exemption + ',' + tax + '\\n'\n",
    "                    fcsv.write(outline)\n",
    "                    parcel_records_out = parcel_records_out+1\n",
    "                    \n",
    "fcsv.close()\n",
    "tcsv.close()\n",
    "\n",
    "print(\"parcel records written: \" + str(parcel_records_out))\n",
    "print(\"totals records written: \" + str(totals_records_out))"
   ]
  }
 ],
 "metadata": {
  "kernelspec": {
   "display_name": "Python 3",
   "language": "python",
   "name": "python3"
  },
  "language_info": {
   "codemirror_mode": {
    "name": "ipython",
    "version": 2
   },
   "file_extension": ".py",
   "mimetype": "text/x-python",
   "name": "python",
   "nbconvert_exporter": "python",
   "pygments_lexer": "ipython2",
   "version": "2.7.13"
  }
 },
 "nbformat": 4,
 "nbformat_minor": 2
}
