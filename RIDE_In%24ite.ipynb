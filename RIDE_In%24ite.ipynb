{
 "cells": [
  {
   "cell_type": "markdown",
   "metadata": {},
   "source": [
    "# RIDE InSite financial analysis"
   ]
  },
  {
   "cell_type": "code",
   "execution_count": null,
   "metadata": {},
   "outputs": [],
   "source": [
    "import re\n",
    "import numpy as np\n",
    "import scipy as sc\n",
    "import pandas as pd\n",
    "import matplotlib.pyplot as plt\n",
    "import seaborn as sns\n",
    "%matplotlib inline"
   ]
  },
  {
   "cell_type": "code",
   "execution_count": null,
   "metadata": {},
   "outputs": [],
   "source": [
    "pd.set_option(\"display.max_rows\",1000)\n",
    "pd.get_option(\"display.max_rows\")"
   ]
  },
  {
   "cell_type": "markdown",
   "metadata": {},
   "source": [
    "## 2009"
   ]
  },
  {
   "cell_type": "code",
   "execution_count": null,
   "metadata": {},
   "outputs": [],
   "source": [
    "fy09sb = pd.read_csv(\"../RIDE/In$site/Switchboard_Items_09.csv\")\n",
    "fy09sb['Year'] = 2009\n",
    "print(fy09sb.shape)\n",
    "print(fy09sb.columns)\n",
    "fy09sb.head()"
   ]
  },
  {
   "cell_type": "code",
   "execution_count": null,
   "metadata": {},
   "outputs": [],
   "source": [
    "fy09ac = pd.read_csv(\"../RIDE/In$site/tbl_alloc_categories_09.csv\")\n",
    "fy09ac['Year'] = 2009\n",
    "print(fy09ac.shape)\n",
    "print(fy09ac.columns)\n",
    "fy09ac.head()"
   ]
  },
  {
   "cell_type": "code",
   "execution_count": null,
   "metadata": {},
   "outputs": [],
   "source": [
    "fy09d = pd.read_csv(\"../RIDE/In$site/tbl_cd_district_09.csv\")\n",
    "fy09d['Year'] = 2009\n",
    "print(fy09d.shape)\n",
    "print(fy09d.columns)\n",
    "fy09d.head()"
   ]
  },
  {
   "cell_type": "code",
   "execution_count": null,
   "metadata": {},
   "outputs": [],
   "source": [
    "fy09el = pd.read_csv(\"../RIDE/In$site/tbl_cd_ed_level_09.csv\")\n",
    "fy09el['Year'] = 2009\n",
    "print(fy09el.shape)\n",
    "print(fy09el.columns)\n",
    "fy09el.head()"
   ]
  },
  {
   "cell_type": "code",
   "execution_count": null,
   "metadata": {},
   "outputs": [],
   "source": [
    "fy09f09 = pd.read_csv(\"../RIDE/In$site/tbl_cd_function_09.csv\")\n",
    "fy09f09['Year'] = 2009\n",
    "print(fy09f09.shape)\n",
    "print(fy09f09.columns)\n",
    "fy09f09.head()"
   ]
  },
  {
   "cell_type": "code",
   "execution_count": null,
   "metadata": {},
   "outputs": [],
   "source": [
    "fy09fX09 = pd.read_csv(\"../RIDE/In$site/tbl_cd_funcX_09.csv\")\n",
    "fy09fX09['Year'] = 2009\n",
    "print(fy09fX09.shape)\n",
    "print(fy09fX09.columns)\n",
    "fy09fX09.head()"
   ]
  },
  {
   "cell_type": "code",
   "execution_count": null,
   "metadata": {},
   "outputs": [],
   "source": [
    "fy09fund09 = pd.read_csv(\"../RIDE/In$site/tbl_cd_fund_09.csv\")\n",
    "fy09fund09['Year'] = 2009\n",
    "print(fy09fund09.shape)\n",
    "print(fy09fund09.columns)\n",
    "fy09fund09.head()"
   ]
  },
  {
   "cell_type": "code",
   "execution_count": null,
   "metadata": {},
   "outputs": [],
   "source": [
    "fy09pgm = pd.read_csv(\"../RIDE/In$site/tbl_cd_In$ite_program.csv\")\n",
    "fy09pgm['Year'] = 2009\n",
    "print(fy09pgm.shape)\n",
    "print(fy09pgm.columns)\n",
    "fy09pgm.head()"
   ]
  },
  {
   "cell_type": "code",
   "execution_count": null,
   "metadata": {},
   "outputs": [],
   "source": [
    "fy09l01 = pd.read_csv(\"../RIDE/In$site/tbl_cd_legacy01_09.csv\")\n",
    "fy09l01['Year'] = 2009\n",
    "print(fy09l01.shape)\n",
    "print(fy09l01.columns)\n",
    "fy09l01.head()"
   ]
  },
  {
   "cell_type": "code",
   "execution_count": null,
   "metadata": {},
   "outputs": [],
   "source": [
    "fy09l02 = pd.read_csv(\"../RIDE/In$site/tbl_cd_legacy02_09.csv\")\n",
    "fy09l02['Year'] = 2009\n",
    "print(fy09l02.shape)\n",
    "print(fy09l02.columns)\n",
    "fy09l02.head()"
   ]
  },
  {
   "cell_type": "code",
   "execution_count": null,
   "metadata": {},
   "outputs": [],
   "source": [
    "fy09d = pd.read_csv(\"../RIDE/In$site/tbl_cd_district_09.csv\")\n",
    "fy09d['Year'] = 2009\n",
    "print(fy09d.shape)\n",
    "print(fy09d.columns)\n",
    "fy09d.head()"
   ]
  },
  {
   "cell_type": "code",
   "execution_count": null,
   "metadata": {},
   "outputs": [],
   "source": [
    "fy09l03 = pd.read_csv(\"../RIDE/In$site/tbl_cd_legacy03_09.csv\")\n",
    "fy09l03['Year'] = 2009\n",
    "print(fy09l03.shape)\n",
    "print(fy09l03.columns)\n",
    "fy09l03.head()"
   ]
  },
  {
   "cell_type": "code",
   "execution_count": null,
   "metadata": {},
   "outputs": [],
   "source": [
    "fy09l04 = pd.read_csv(\"../RIDE/In$site/tbl_cd_legacy04_09.csv\")\n",
    "fy09l04['Year'] = 2009\n",
    "print(fy09l04.shape)\n",
    "print(fy09l04.columns)\n",
    "fy09l04.head()"
   ]
  },
  {
   "cell_type": "code",
   "execution_count": null,
   "metadata": {},
   "outputs": [],
   "source": [
    "fy09l05 = pd.read_csv(\"../RIDE/In$site/tbl_cd_legacy05_09.csv\")\n",
    "fy09l05['Year'] = 2009\n",
    "print(fy09l05.shape)\n",
    "print(fy09l05.columns)\n",
    "fy09l05.head()"
   ]
  },
  {
   "cell_type": "code",
   "execution_count": null,
   "metadata": {},
   "outputs": [],
   "source": [
    "fy09l06 = pd.read_csv(\"../RIDE/In$site/tbl_cd_legacy06_09.csv\")\n",
    "fy09l06['Year'] = 2009\n",
    "print(fy09l06.shape)\n",
    "print(fy09l06.columns)\n",
    "fy09l06.head()"
   ]
  },
  {
   "cell_type": "code",
   "execution_count": null,
   "metadata": {},
   "outputs": [],
   "source": [
    "fy09l07 = pd.read_csv(\"../RIDE/In$site/tbl_cd_legacy07_09.csv\")\n",
    "fy09l07['Year'] = 2009\n",
    "print(fy09l07.shape)\n",
    "print(fy09l07.columns)\n",
    "fy09l07.head()"
   ]
  },
  {
   "cell_type": "code",
   "execution_count": null,
   "metadata": {},
   "outputs": [],
   "source": [
    "fy09l08 = pd.read_csv(\"../RIDE/In$site/tbl_cd_legacy08_09.csv\")\n",
    "fy09l08['Year'] = 2009\n",
    "print(fy09l08.shape)\n",
    "print(fy09l08.columns)\n",
    "fy09l08.head()"
   ]
  },
  {
   "cell_type": "code",
   "execution_count": null,
   "metadata": {},
   "outputs": [],
   "source": [
    "fy09l09 = pd.read_csv(\"../RIDE/In$site/tbl_cd_legacy09_09.csv\")\n",
    "fy09l09['Year'] = 2009\n",
    "print(fy09l09.shape)\n",
    "print(fy09l09.columns)\n",
    "fy09l09.head()"
   ]
  },
  {
   "cell_type": "code",
   "execution_count": null,
   "metadata": {},
   "outputs": [],
   "source": [
    "fy09l10 = pd.read_csv(\"../RIDE/In$site/tbl_cd_legacy10_09.csv\")\n",
    "fy09l10['Year'] = 2009\n",
    "print(fy09l10.shape)\n",
    "print(fy09l10.columns)\n",
    "fy09l10.head()"
   ]
  },
  {
   "cell_type": "code",
   "execution_count": null,
   "metadata": {},
   "outputs": [],
   "source": [
    "fy09pgm = pd.read_csv(\"../RIDE/In$site/tbl_cd_program_09.csv\")\n",
    "fy09pgm['Year'] = 2009\n",
    "print(fy09pgm.shape)\n",
    "print(fy09pgm.columns)\n",
    "fy09pgm.head()"
   ]
  },
  {
   "cell_type": "code",
   "execution_count": null,
   "metadata": {},
   "outputs": [],
   "source": [
    "fy09progX = pd.read_csv(\"../RIDE/In$site/tbl_cd_progX_09.csv\")\n",
    "fy09progX['Year'] = 2009\n",
    "print(fy09progX.shape)\n",
    "print(fy09progX.columns)\n",
    "fy09progX.head()"
   ]
  },
  {
   "cell_type": "code",
   "execution_count": null,
   "metadata": {},
   "outputs": [],
   "source": [
    "fy09ld09 = pd.read_csv(\"../RIDE/In$site/tbl_legacy_detail_09.csv\")\n",
    "fy09ld09['Year'] = 2009\n",
    "print(fy09ld09.shape)\n",
    "print(fy09ld09.columns)\n",
    "fy09ld09.head()"
   ]
  },
  {
   "cell_type": "code",
   "execution_count": null,
   "metadata": {},
   "outputs": [],
   "source": [
    "fy09loc = pd.read_csv(\"../RIDE/In$site/tbl_location_09.csv\")\n",
    "fy09loc['Year'] = 2009\n",
    "print(fy09loc.shape)\n",
    "print(fy09loc.columns)\n",
    "fy09loc.head()"
   ]
  },
  {
   "cell_type": "code",
   "execution_count": null,
   "metadata": {},
   "outputs": [],
   "source": [
    "fy09enr = pd.read_csv(\"../RIDE/In$site/tbl_loc_pgm_enrollment_09.csv\")\n",
    "fy09enr['Year'] = 2009\n",
    "print(fy09enr.shape)\n",
    "print(fy09enr.columns)\n",
    "fy09enr.head()"
   ]
  },
  {
   "cell_type": "code",
   "execution_count": null,
   "metadata": {
    "scrolled": true
   },
   "outputs": [],
   "source": [
    "fy09sum = pd.read_csv(\"../RIDE/In$site/tbl_summary_09.csv\")\n",
    "fy09sum['Year'] = 2009\n",
    "print(fy09sum.shape)\n",
    "print(fy09sum.columns)\n",
    "fy09sum.head()"
   ]
  },
  {
   "cell_type": "markdown",
   "metadata": {},
   "source": [
    "## 2008"
   ]
  },
  {
   "cell_type": "code",
   "execution_count": null,
   "metadata": {},
   "outputs": [],
   "source": [
    "fy08sb = pd.read_csv(\"../RIDE/In$site/Switchboard_Items_08.csv\")\n",
    "fy08sb['Year'] = 2008\n",
    "print(fy08sb.shape)\n",
    "print(fy08sb.columns)\n",
    "fy08sb.head()"
   ]
  },
  {
   "cell_type": "code",
   "execution_count": null,
   "metadata": {},
   "outputs": [],
   "source": [
    "fy08ac = pd.read_csv(\"../RIDE/In$site/tbl_alloc_categories_08.csv\")\n",
    "fy08ac['Year'] = 2008\n",
    "print(fy08ac.shape)\n",
    "print(fy08ac.columns)\n",
    "fy08ac.head()"
   ]
  },
  {
   "cell_type": "code",
   "execution_count": null,
   "metadata": {},
   "outputs": [],
   "source": [
    "fy08d = pd.read_csv(\"../RIDE/In$site/tbl_cd_district_08.csv\")\n",
    "fy08d['Year'] = 2008\n",
    "print(fy08d.shape)\n",
    "print(fy08d.columns)\n",
    "fy08d.head()"
   ]
  },
  {
   "cell_type": "code",
   "execution_count": null,
   "metadata": {},
   "outputs": [],
   "source": [
    "fy08el = pd.read_csv(\"../RIDE/In$site/tbl_cd_ed_level_08.csv\")\n",
    "fy08el['Year'] = 2008\n",
    "print(fy08el.shape)\n",
    "print(fy08el.columns)\n",
    "fy08el.head()"
   ]
  },
  {
   "cell_type": "code",
   "execution_count": null,
   "metadata": {},
   "outputs": [],
   "source": [
    "fy08f09 = pd.read_csv(\"../RIDE/In$site/tbl_cd_function_08.csv\")\n",
    "fy08f09['Year'] = 2008\n",
    "print(fy08f09.shape)\n",
    "print(fy08f09.columns)\n",
    "fy08f09.head()"
   ]
  },
  {
   "cell_type": "code",
   "execution_count": null,
   "metadata": {},
   "outputs": [],
   "source": [
    "fy08fX09 = pd.read_csv(\"../RIDE/In$site/tbl_cd_funcX_08.csv\")\n",
    "fy08fX09['Year'] = 2008\n",
    "print(fy08fX09.shape)\n",
    "print(fy08fX09.columns)\n",
    "fy08fX09.head()"
   ]
  },
  {
   "cell_type": "code",
   "execution_count": null,
   "metadata": {},
   "outputs": [],
   "source": [
    "fy08fund09 = pd.read_csv(\"../RIDE/In$site/tbl_cd_fund_08.csv\")\n",
    "fy08fund09['Year'] = 2008\n",
    "print(fy08fund09.shape)\n",
    "print(fy08fund09.columns)\n",
    "fy08fund09.head()"
   ]
  },
  {
   "cell_type": "code",
   "execution_count": null,
   "metadata": {},
   "outputs": [],
   "source": [
    "fy08pgm = pd.read_csv(\"../RIDE/In$site/tbl_cd_In$ite_program.csv\")\n",
    "fy08pgm['Year'] = 2008\n",
    "print(fy08pgm.shape)\n",
    "print(fy08pgm.columns)\n",
    "fy08pgm.head()"
   ]
  },
  {
   "cell_type": "code",
   "execution_count": null,
   "metadata": {},
   "outputs": [],
   "source": [
    "fy08l01 = pd.read_csv(\"../RIDE/In$site/tbl_cd_legacy01_08.csv\")\n",
    "fy08l01['Year'] = 2008\n",
    "print(fy08l01.shape)\n",
    "print(fy08l01.columns)\n",
    "fy08l01.head()"
   ]
  },
  {
   "cell_type": "code",
   "execution_count": null,
   "metadata": {},
   "outputs": [],
   "source": [
    "fy08l02 = pd.read_csv(\"../RIDE/In$site/tbl_cd_legacy02_08.csv\")\n",
    "fy08l02['Year'] = 2008\n",
    "print(fy08l02.shape)\n",
    "print(fy08l02.columns)\n",
    "fy08l02.head()"
   ]
  },
  {
   "cell_type": "code",
   "execution_count": null,
   "metadata": {},
   "outputs": [],
   "source": [
    "fy08d = pd.read_csv(\"../RIDE/In$site/tbl_cd_district_08.csv\")\n",
    "fy08d['Year'] = 2008\n",
    "print(fy08d.shape)\n",
    "print(fy08d.columns)\n",
    "fy08d.head()"
   ]
  },
  {
   "cell_type": "code",
   "execution_count": null,
   "metadata": {},
   "outputs": [],
   "source": [
    "fy08l03 = pd.read_csv(\"../RIDE/In$site/tbl_cd_legacy03_08.csv\")\n",
    "fy08l03['Year'] = 2008\n",
    "print(fy08l03.shape)\n",
    "print(fy08l03.columns)\n",
    "fy08l03.head()"
   ]
  },
  {
   "cell_type": "code",
   "execution_count": null,
   "metadata": {},
   "outputs": [],
   "source": [
    "fy08l04 = pd.read_csv(\"../RIDE/In$site/tbl_cd_legacy04_08.csv\")\n",
    "fy08l04['Year'] = 2008\n",
    "print(fy08l04.shape)\n",
    "print(fy08l04.columns)\n",
    "fy08l04.head()"
   ]
  },
  {
   "cell_type": "code",
   "execution_count": null,
   "metadata": {},
   "outputs": [],
   "source": [
    "fy08l05 = pd.read_csv(\"../RIDE/In$site/tbl_cd_legacy05_08.csv\")\n",
    "fy08l05['Year'] = 2008\n",
    "print(fy08l05.shape)\n",
    "print(fy08l05.columns)\n",
    "fy08l05.head()"
   ]
  },
  {
   "cell_type": "code",
   "execution_count": null,
   "metadata": {},
   "outputs": [],
   "source": [
    "fy08l06 = pd.read_csv(\"../RIDE/In$site/tbl_cd_legacy06_08.csv\")\n",
    "fy08l06['Year'] = 2008\n",
    "print(fy08l06.shape)\n",
    "print(fy08l06.columns)\n",
    "fy08l06.head()"
   ]
  },
  {
   "cell_type": "code",
   "execution_count": null,
   "metadata": {},
   "outputs": [],
   "source": [
    "fy08l07 = pd.read_csv(\"../RIDE/In$site/tbl_cd_legacy07_08.csv\")\n",
    "fy08l07['Year'] = 2008\n",
    "print(fy08l07.shape)\n",
    "print(fy08l07.columns)\n",
    "fy08l07.head()"
   ]
  },
  {
   "cell_type": "code",
   "execution_count": null,
   "metadata": {},
   "outputs": [],
   "source": [
    "fy08l08 = pd.read_csv(\"../RIDE/In$site/tbl_cd_legacy08_08.csv\")\n",
    "fy08l08['Year'] = 2008\n",
    "print(fy08l08.shape)\n",
    "print(fy08l08.columns)\n",
    "fy08l08.head()"
   ]
  },
  {
   "cell_type": "code",
   "execution_count": null,
   "metadata": {},
   "outputs": [],
   "source": [
    "fy08l09 = pd.read_csv(\"../RIDE/In$site/tbl_cd_legacy09_08.csv\")\n",
    "fy08l09['Year'] = 2008\n",
    "print(fy08l09.shape)\n",
    "print(fy08l09.columns)\n",
    "fy08l09.head()"
   ]
  },
  {
   "cell_type": "code",
   "execution_count": null,
   "metadata": {},
   "outputs": [],
   "source": [
    "fy08l10 = pd.read_csv(\"../RIDE/In$site/tbl_cd_legacy10_08.csv\")\n",
    "fy08l10['Year'] = 2008\n",
    "print(fy08l10.shape)\n",
    "print(fy08l10.columns)\n",
    "fy08l10.head()"
   ]
  },
  {
   "cell_type": "code",
   "execution_count": null,
   "metadata": {},
   "outputs": [],
   "source": [
    "fy08pgm = pd.read_csv(\"../RIDE/In$site/tbl_cd_program_08.csv\")\n",
    "fy08pgm['Year'] = 2008\n",
    "print(fy08pgm.shape)\n",
    "print(fy08pgm.columns)\n",
    "fy08pgm.head()"
   ]
  },
  {
   "cell_type": "code",
   "execution_count": null,
   "metadata": {},
   "outputs": [],
   "source": [
    "fy08progX = pd.read_csv(\"../RIDE/In$site/tbl_cd_progX_08.csv\")\n",
    "fy08progX['Year'] = 2008\n",
    "print(fy08progX.shape)\n",
    "print(fy08progX.columns)\n",
    "fy08progX.head()"
   ]
  },
  {
   "cell_type": "code",
   "execution_count": null,
   "metadata": {},
   "outputs": [],
   "source": [
    "fy08ld09 = pd.read_csv(\"../RIDE/In$site/tbl_legacy_detail_08.csv\")\n",
    "fy08ld09['Year'] = 2008\n",
    "print(fy08ld09.shape)\n",
    "print(fy08ld09.columns)\n",
    "fy08ld09.head()"
   ]
  },
  {
   "cell_type": "code",
   "execution_count": null,
   "metadata": {},
   "outputs": [],
   "source": [
    "fy08loc = pd.read_csv(\"../RIDE/In$site/tbl_location_08.csv\")\n",
    "fy08loc['Year'] = 2008\n",
    "print(fy08loc.shape)\n",
    "print(fy08loc.columns)\n",
    "fy08loc.head()"
   ]
  },
  {
   "cell_type": "code",
   "execution_count": null,
   "metadata": {},
   "outputs": [],
   "source": [
    "fy08enr = pd.read_csv(\"../RIDE/In$site/tbl_loc_pgm_enrollment_08.csv\")\n",
    "fy08enr['Year'] = 2008\n",
    "print(fy08enr.shape)\n",
    "print(fy08enr.columns)\n",
    "fy08enr.head()"
   ]
  },
  {
   "cell_type": "code",
   "execution_count": null,
   "metadata": {
    "scrolled": false
   },
   "outputs": [],
   "source": [
    "fy08sum = pd.read_csv(\"../RIDE/In$site/tbl_summary_08.csv\")\n",
    "fy08sum['Year'] = 2008\n",
    "print(fy08sum.shape)\n",
    "print(fy08sum.columns)\n",
    "fy08sum.head()"
   ]
  },
  {
   "cell_type": "code",
   "execution_count": null,
   "metadata": {},
   "outputs": [],
   "source": [
    "fy09EG = fy09sum.loc[fy09sum['district_id']==9]\n",
    "fy09EG.shape"
   ]
  },
  {
   "cell_type": "code",
   "execution_count": null,
   "metadata": {},
   "outputs": [],
   "source": [
    "fy09EG.groupby(fy09EG['Year']).sum()"
   ]
  },
  {
   "cell_type": "code",
   "execution_count": null,
   "metadata": {
    "scrolled": true
   },
   "outputs": [],
   "source": [
    "fy08sum = pd.read_csv(\"../RIDE/In$site/tbl_summary_08.csv\")\n",
    "fy08sum['Year'] = 2008\n",
    "print(fy08sum.shape)\n",
    "print(fy08sum.columns)\n",
    "fy08sum.head()"
   ]
  },
  {
   "cell_type": "markdown",
   "metadata": {},
   "source": [
    "## 2007"
   ]
  },
  {
   "cell_type": "code",
   "execution_count": null,
   "metadata": {},
   "outputs": [],
   "source": [
    "fy07sb = pd.read_csv(\"../RIDE/In$site/Switchboard_Items_07.csv\")\n",
    "fy07sb['Year'] = 2007\n",
    "print(fy07sb.shape)\n",
    "print(fy07sb.columns)\n",
    "fy07sb.head()"
   ]
  },
  {
   "cell_type": "code",
   "execution_count": null,
   "metadata": {},
   "outputs": [],
   "source": [
    "fy07ac = pd.read_csv(\"../RIDE/In$site/tbl_alloc_categories_07.csv\")\n",
    "fy07ac['Year'] = 2007\n",
    "print(fy07ac.shape)\n",
    "print(fy07ac.columns)\n",
    "fy07ac.head()"
   ]
  },
  {
   "cell_type": "code",
   "execution_count": null,
   "metadata": {},
   "outputs": [],
   "source": [
    "fy07d = pd.read_csv(\"../RIDE/In$site/tbl_cd_district_07.csv\")\n",
    "fy07d['Year'] = 2007\n",
    "print(fy07d.shape)\n",
    "print(fy07d.columns)\n",
    "fy07d.head()"
   ]
  },
  {
   "cell_type": "code",
   "execution_count": null,
   "metadata": {},
   "outputs": [],
   "source": [
    "fy07el = pd.read_csv(\"../RIDE/In$site/tbl_cd_ed_level_07.csv\")\n",
    "fy07el['Year'] = 2007\n",
    "print(fy07el.shape)\n",
    "print(fy07el.columns)\n",
    "fy07el.head()"
   ]
  },
  {
   "cell_type": "code",
   "execution_count": null,
   "metadata": {},
   "outputs": [],
   "source": [
    "fy07f09 = pd.read_csv(\"../RIDE/In$site/tbl_cd_function_07.csv\")\n",
    "fy07f09['Year'] = 2007\n",
    "print(fy07f09.shape)\n",
    "print(fy07f09.columns)\n",
    "fy07f09.head()"
   ]
  },
  {
   "cell_type": "code",
   "execution_count": null,
   "metadata": {},
   "outputs": [],
   "source": [
    "fy07fX09 = pd.read_csv(\"../RIDE/In$site/tbl_cd_funcX_07.csv\")\n",
    "fy07fX09['Year'] = 2007\n",
    "print(fy07fX09.shape)\n",
    "print(fy07fX09.columns)\n",
    "fy07fX09.head()"
   ]
  },
  {
   "cell_type": "code",
   "execution_count": null,
   "metadata": {},
   "outputs": [],
   "source": [
    "fy07fund09 = pd.read_csv(\"../RIDE/In$site/tbl_cd_fund_07.csv\")\n",
    "fy07fund09['Year'] = 2007\n",
    "print(fy07fund09.shape)\n",
    "print(fy07fund09.columns)\n",
    "fy07fund09.head()"
   ]
  },
  {
   "cell_type": "code",
   "execution_count": null,
   "metadata": {},
   "outputs": [],
   "source": [
    "fy07pgm = pd.read_csv(\"../RIDE/In$site/tbl_cd_In$ite_program.csv\")\n",
    "fy07pgm['Year'] = 2007\n",
    "print(fy07pgm.shape)\n",
    "print(fy07pgm.columns)\n",
    "fy07pgm.head()"
   ]
  },
  {
   "cell_type": "code",
   "execution_count": null,
   "metadata": {},
   "outputs": [],
   "source": [
    "fy07l01 = pd.read_csv(\"../RIDE/In$site/tbl_cd_legacy01_07.csv\")\n",
    "fy07l01['Year'] = 2007\n",
    "print(fy07l01.shape)\n",
    "print(fy07l01.columns)\n",
    "fy07l01.head()"
   ]
  },
  {
   "cell_type": "code",
   "execution_count": null,
   "metadata": {},
   "outputs": [],
   "source": [
    "fy07l02 = pd.read_csv(\"../RIDE/In$site/tbl_cd_legacy02_07.csv\")\n",
    "fy07l02['Year'] = 2007\n",
    "print(fy07l02.shape)\n",
    "print(fy07l02.columns)\n",
    "fy07l02.head()"
   ]
  },
  {
   "cell_type": "code",
   "execution_count": null,
   "metadata": {},
   "outputs": [],
   "source": [
    "fy07d = pd.read_csv(\"../RIDE/In$site/tbl_cd_district_07.csv\")\n",
    "fy07d['Year'] = 2007\n",
    "print(fy07d.shape)\n",
    "print(fy07d.columns)\n",
    "fy07d.head()"
   ]
  },
  {
   "cell_type": "code",
   "execution_count": null,
   "metadata": {},
   "outputs": [],
   "source": [
    "fy07l03 = pd.read_csv(\"../RIDE/In$site/tbl_cd_legacy03_07.csv\")\n",
    "fy07l03['Year'] = 2007\n",
    "print(fy07l03.shape)\n",
    "print(fy07l03.columns)\n",
    "fy07l03.head()"
   ]
  },
  {
   "cell_type": "code",
   "execution_count": null,
   "metadata": {},
   "outputs": [],
   "source": [
    "fy07l04 = pd.read_csv(\"../RIDE/In$site/tbl_cd_legacy04_07.csv\")\n",
    "fy07l04['Year'] = 2007\n",
    "print(fy07l04.shape)\n",
    "print(fy07l04.columns)\n",
    "fy07l04.head()"
   ]
  },
  {
   "cell_type": "code",
   "execution_count": null,
   "metadata": {},
   "outputs": [],
   "source": [
    "fy07l05 = pd.read_csv(\"../RIDE/In$site/tbl_cd_legacy05_07.csv\")\n",
    "fy07l05['Year'] = 2007\n",
    "print(fy07l05.shape)\n",
    "print(fy07l05.columns)\n",
    "fy07l05.head()"
   ]
  },
  {
   "cell_type": "code",
   "execution_count": null,
   "metadata": {},
   "outputs": [],
   "source": [
    "fy07l06 = pd.read_csv(\"../RIDE/In$site/tbl_cd_legacy06_07.csv\")\n",
    "fy07l06['Year'] = 2007\n",
    "print(fy07l06.shape)\n",
    "print(fy07l06.columns)\n",
    "fy07l06.head()"
   ]
  },
  {
   "cell_type": "code",
   "execution_count": null,
   "metadata": {},
   "outputs": [],
   "source": [
    "fy07l07 = pd.read_csv(\"../RIDE/In$site/tbl_cd_legacy07_07.csv\")\n",
    "fy07l07['Year'] = 2007\n",
    "print(fy07l07.shape)\n",
    "print(fy07l07.columns)\n",
    "fy07l07.head()"
   ]
  },
  {
   "cell_type": "code",
   "execution_count": null,
   "metadata": {},
   "outputs": [],
   "source": [
    "fy07l08 = pd.read_csv(\"../RIDE/In$site/tbl_cd_legacy08_07.csv\")\n",
    "fy07l08['Year'] = 2007\n",
    "print(fy07l08.shape)\n",
    "print(fy07l08.columns)\n",
    "fy07l08.head()"
   ]
  },
  {
   "cell_type": "code",
   "execution_count": null,
   "metadata": {},
   "outputs": [],
   "source": [
    "fy07l09 = pd.read_csv(\"../RIDE/In$site/tbl_cd_legacy09_07.csv\")\n",
    "fy07l09['Year'] = 2007\n",
    "print(fy07l09.shape)\n",
    "print(fy07l09.columns)\n",
    "fy07l09.head()"
   ]
  },
  {
   "cell_type": "code",
   "execution_count": null,
   "metadata": {},
   "outputs": [],
   "source": [
    "fy07l10 = pd.read_csv(\"../RIDE/In$site/tbl_cd_legacy10_07.csv\")\n",
    "fy07l10['Year'] = 2007\n",
    "print(fy07l10.shape)\n",
    "print(fy07l10.columns)\n",
    "fy07l10.head()"
   ]
  },
  {
   "cell_type": "code",
   "execution_count": null,
   "metadata": {},
   "outputs": [],
   "source": [
    "fy07pgm = pd.read_csv(\"../RIDE/In$site/tbl_cd_program_07.csv\")\n",
    "fy07pgm['Year'] = 2007\n",
    "print(fy07pgm.shape)\n",
    "print(fy07pgm.columns)\n",
    "fy07pgm.head()"
   ]
  },
  {
   "cell_type": "code",
   "execution_count": null,
   "metadata": {},
   "outputs": [],
   "source": [
    "fy07progX = pd.read_csv(\"../RIDE/In$site/tbl_cd_progX_07.csv\")\n",
    "fy07progX['Year'] = 2007\n",
    "print(fy07progX.shape)\n",
    "print(fy07progX.columns)\n",
    "fy07progX.head()"
   ]
  },
  {
   "cell_type": "code",
   "execution_count": null,
   "metadata": {},
   "outputs": [],
   "source": [
    "fy07ld09 = pd.read_csv(\"../RIDE/In$site/tbl_legacy_detail_07.csv\")\n",
    "fy07ld09['Year'] = 2007\n",
    "print(fy07ld09.shape)\n",
    "print(fy07ld09.columns)\n",
    "fy07ld09.head()"
   ]
  },
  {
   "cell_type": "code",
   "execution_count": null,
   "metadata": {},
   "outputs": [],
   "source": [
    "fy07loc = pd.read_csv(\"../RIDE/In$site/tbl_location_07.csv\")\n",
    "fy07loc['Year'] = 2007\n",
    "print(fy07loc.shape)\n",
    "print(fy07loc.columns)\n",
    "fy07loc.head()"
   ]
  },
  {
   "cell_type": "code",
   "execution_count": null,
   "metadata": {},
   "outputs": [],
   "source": [
    "fy07enr = pd.read_csv(\"../RIDE/In$site/tbl_loc_pgm_enrollment_07.csv\")\n",
    "fy07enr['Year'] = 2007\n",
    "print(fy07enr.shape)\n",
    "print(fy07enr.columns)\n",
    "fy07enr.head()"
   ]
  },
  {
   "cell_type": "code",
   "execution_count": null,
   "metadata": {
    "scrolled": false
   },
   "outputs": [],
   "source": [
    "fy07sum = pd.read_csv(\"../RIDE/In$site/tbl_summary_07.csv\")\n",
    "fy07sum['Year'] = 2007\n",
    "print(fy07sum.shape)\n",
    "print(fy07sum.columns)\n",
    "fy07sum.head()"
   ]
  },
  {
   "cell_type": "markdown",
   "metadata": {},
   "source": [
    "## 2006"
   ]
  },
  {
   "cell_type": "code",
   "execution_count": null,
   "metadata": {},
   "outputs": [],
   "source": [
    "fy06sb = pd.read_csv(\"../RIDE/In$site/Switchboard_Items_06.csv\")\n",
    "fy06sb['Year'] = 2006\n",
    "print(fy06sb.shape)\n",
    "print(fy06sb.columns)\n",
    "fy06sb.head()"
   ]
  },
  {
   "cell_type": "code",
   "execution_count": null,
   "metadata": {},
   "outputs": [],
   "source": [
    "fy06ac = pd.read_csv(\"../RIDE/In$site/tbl_alloc_categories_06.csv\")\n",
    "fy06ac['Year'] = 2006\n",
    "print(fy06ac.shape)\n",
    "print(fy06ac.columns)\n",
    "fy06ac.head()"
   ]
  },
  {
   "cell_type": "code",
   "execution_count": null,
   "metadata": {},
   "outputs": [],
   "source": [
    "fy06d = pd.read_csv(\"../RIDE/In$site/tbl_cd_district_06.csv\")\n",
    "fy06d['Year'] = 2006\n",
    "print(fy06d.shape)\n",
    "print(fy06d.columns)\n",
    "fy06d.head()"
   ]
  },
  {
   "cell_type": "code",
   "execution_count": null,
   "metadata": {},
   "outputs": [],
   "source": [
    "fy06el = pd.read_csv(\"../RIDE/In$site/tbl_cd_ed_level_06.csv\")\n",
    "fy06el['Year'] = 2006\n",
    "print(fy06el.shape)\n",
    "print(fy06el.columns)\n",
    "fy06el.head()"
   ]
  },
  {
   "cell_type": "code",
   "execution_count": null,
   "metadata": {},
   "outputs": [],
   "source": [
    "fy06f09 = pd.read_csv(\"../RIDE/In$site/tbl_cd_function_06.csv\")\n",
    "fy06f09['Year'] = 2006\n",
    "print(fy06f09.shape)\n",
    "print(fy06f09.columns)\n",
    "fy06f09.head()"
   ]
  },
  {
   "cell_type": "code",
   "execution_count": null,
   "metadata": {},
   "outputs": [],
   "source": [
    "fy06fX09 = pd.read_csv(\"../RIDE/In$site/tbl_cd_funcX_06.csv\")\n",
    "fy06fX09['Year'] = 2006\n",
    "print(fy06fX09.shape)\n",
    "print(fy06fX09.columns)\n",
    "fy06fX09.head()"
   ]
  },
  {
   "cell_type": "code",
   "execution_count": null,
   "metadata": {},
   "outputs": [],
   "source": [
    "fy06fund09 = pd.read_csv(\"../RIDE/In$site/tbl_cd_fund_06.csv\")\n",
    "fy06fund09['Year'] = 2006\n",
    "print(fy06fund09.shape)\n",
    "print(fy06fund09.columns)\n",
    "fy06fund09.head()"
   ]
  },
  {
   "cell_type": "code",
   "execution_count": null,
   "metadata": {},
   "outputs": [],
   "source": [
    "fy06pgm = pd.read_csv(\"../RIDE/In$site/tbl_cd_In$ite_program.csv\")\n",
    "fy06pgm['Year'] = 2006\n",
    "print(fy06pgm.shape)\n",
    "print(fy06pgm.columns)\n",
    "fy06pgm.head()"
   ]
  },
  {
   "cell_type": "code",
   "execution_count": null,
   "metadata": {},
   "outputs": [],
   "source": [
    "fy06l01 = pd.read_csv(\"../RIDE/In$site/tbl_cd_legacy01_06.csv\")\n",
    "fy06l01['Year'] = 2006\n",
    "print(fy06l01.shape)\n",
    "print(fy06l01.columns)\n",
    "fy06l01.head()"
   ]
  },
  {
   "cell_type": "code",
   "execution_count": null,
   "metadata": {},
   "outputs": [],
   "source": [
    "fy06l02 = pd.read_csv(\"../RIDE/In$site/tbl_cd_legacy02_06.csv\")\n",
    "fy06l02['Year'] = 2006\n",
    "print(fy06l02.shape)\n",
    "print(fy06l02.columns)\n",
    "fy06l02.head()"
   ]
  },
  {
   "cell_type": "code",
   "execution_count": null,
   "metadata": {},
   "outputs": [],
   "source": [
    "fy06d = pd.read_csv(\"../RIDE/In$site/tbl_cd_district_06.csv\")\n",
    "fy06d['Year'] = 2006\n",
    "print(fy06d.shape)\n",
    "print(fy06d.columns)\n",
    "fy06d.head()"
   ]
  },
  {
   "cell_type": "code",
   "execution_count": null,
   "metadata": {},
   "outputs": [],
   "source": [
    "fy06l03 = pd.read_csv(\"../RIDE/In$site/tbl_cd_legacy03_06.csv\")\n",
    "fy06l03['Year'] = 2006\n",
    "print(fy06l03.shape)\n",
    "print(fy06l03.columns)\n",
    "fy06l03.head()"
   ]
  },
  {
   "cell_type": "code",
   "execution_count": null,
   "metadata": {},
   "outputs": [],
   "source": [
    "fy06l04 = pd.read_csv(\"../RIDE/In$site/tbl_cd_legacy04_06.csv\")\n",
    "fy06l04['Year'] = 2006\n",
    "print(fy06l04.shape)\n",
    "print(fy06l04.columns)\n",
    "fy06l04.head()"
   ]
  },
  {
   "cell_type": "code",
   "execution_count": null,
   "metadata": {},
   "outputs": [],
   "source": [
    "fy06l05 = pd.read_csv(\"../RIDE/In$site/tbl_cd_legacy05_06.csv\")\n",
    "fy06l05['Year'] = 2006\n",
    "print(fy06l05.shape)\n",
    "print(fy06l05.columns)\n",
    "fy06l05.head()"
   ]
  },
  {
   "cell_type": "code",
   "execution_count": null,
   "metadata": {},
   "outputs": [],
   "source": [
    "fy06l06 = pd.read_csv(\"../RIDE/In$site/tbl_cd_legacy06_06.csv\")\n",
    "fy06l06['Year'] = 2006\n",
    "print(fy06l06.shape)\n",
    "print(fy06l06.columns)\n",
    "fy06l06.head()"
   ]
  },
  {
   "cell_type": "code",
   "execution_count": null,
   "metadata": {},
   "outputs": [],
   "source": [
    "fy06l07 = pd.read_csv(\"../RIDE/In$site/tbl_cd_legacy07_06.csv\")\n",
    "fy06l07['Year'] = 2006\n",
    "print(fy06l07.shape)\n",
    "print(fy06l07.columns)\n",
    "fy06l07.head()"
   ]
  },
  {
   "cell_type": "code",
   "execution_count": null,
   "metadata": {},
   "outputs": [],
   "source": [
    "fy06l08 = pd.read_csv(\"../RIDE/In$site/tbl_cd_legacy08_06.csv\")\n",
    "fy06l08['Year'] = 2006\n",
    "print(fy06l08.shape)\n",
    "print(fy06l08.columns)\n",
    "fy06l08.head()"
   ]
  },
  {
   "cell_type": "code",
   "execution_count": null,
   "metadata": {},
   "outputs": [],
   "source": [
    "fy06l09 = pd.read_csv(\"../RIDE/In$site/tbl_cd_legacy09_06.csv\")\n",
    "fy06l09['Year'] = 2006\n",
    "print(fy06l09.shape)\n",
    "print(fy06l09.columns)\n",
    "fy06l09.head()"
   ]
  },
  {
   "cell_type": "code",
   "execution_count": null,
   "metadata": {},
   "outputs": [],
   "source": [
    "fy06l10 = pd.read_csv(\"../RIDE/In$site/tbl_cd_legacy10_06.csv\")\n",
    "fy06l10['Year'] = 2006\n",
    "print(fy06l10.shape)\n",
    "print(fy06l10.columns)\n",
    "fy06l10.head()"
   ]
  },
  {
   "cell_type": "code",
   "execution_count": null,
   "metadata": {},
   "outputs": [],
   "source": [
    "fy06pgm = pd.read_csv(\"../RIDE/In$site/tbl_cd_program_06.csv\")\n",
    "fy06pgm['Year'] = 2006\n",
    "print(fy06pgm.shape)\n",
    "print(fy06pgm.columns)\n",
    "fy06pgm.head()"
   ]
  },
  {
   "cell_type": "code",
   "execution_count": null,
   "metadata": {},
   "outputs": [],
   "source": [
    "fy06progX = pd.read_csv(\"../RIDE/In$site/tbl_cd_progX_06.csv\")\n",
    "fy06progX['Year'] = 2006\n",
    "print(fy06progX.shape)\n",
    "print(fy06progX.columns)\n",
    "fy06progX.head()"
   ]
  },
  {
   "cell_type": "code",
   "execution_count": null,
   "metadata": {},
   "outputs": [],
   "source": [
    "fy06ld09 = pd.read_csv(\"../RIDE/In$site/tbl_legacy_detail_06.csv\")\n",
    "fy06ld09['Year'] = 2006\n",
    "print(fy06ld09.shape)\n",
    "print(fy06ld09.columns)\n",
    "fy06ld09.head()"
   ]
  },
  {
   "cell_type": "code",
   "execution_count": null,
   "metadata": {},
   "outputs": [],
   "source": [
    "fy06loc = pd.read_csv(\"../RIDE/In$site/tbl_location_06.csv\")\n",
    "fy06loc['Year'] = 2006\n",
    "print(fy06loc.shape)\n",
    "print(fy06loc.columns)\n",
    "fy06loc.head()"
   ]
  },
  {
   "cell_type": "code",
   "execution_count": null,
   "metadata": {},
   "outputs": [],
   "source": [
    "fy06enr = pd.read_csv(\"../RIDE/In$site/tbl_loc_pgm_enrollment_06.csv\")\n",
    "fy06enr['Year'] = 2006\n",
    "print(fy06enr.shape)\n",
    "print(fy06enr.columns)\n",
    "fy06enr.head()"
   ]
  },
  {
   "cell_type": "code",
   "execution_count": null,
   "metadata": {
    "scrolled": false
   },
   "outputs": [],
   "source": [
    "fy06sum = pd.read_csv(\"../RIDE/In$site/tbl_summary_06.csv\")\n",
    "fy06sum['Year'] = 2006\n",
    "print(fy06sum.shape)\n",
    "print(fy06sum.columns)\n",
    "fy06sum.head()"
   ]
  },
  {
   "cell_type": "markdown",
   "metadata": {},
   "source": [
    "## 2005"
   ]
  },
  {
   "cell_type": "code",
   "execution_count": null,
   "metadata": {},
   "outputs": [],
   "source": [
    "fy05sb = pd.read_csv(\"../RIDE/In$site/Switchboard_Items_05.csv\")\n",
    "fy05sb['Year'] = 2005\n",
    "print(fy05sb.shape)\n",
    "print(fy05sb.columns)\n",
    "fy05sb.head()"
   ]
  },
  {
   "cell_type": "code",
   "execution_count": null,
   "metadata": {},
   "outputs": [],
   "source": [
    "fy05ac = pd.read_csv(\"../RIDE/In$site/tbl_alloc_categories_05.csv\")\n",
    "fy05ac['Year'] = 2005\n",
    "print(fy05ac.shape)\n",
    "print(fy05ac.columns)\n",
    "fy05ac.head()"
   ]
  },
  {
   "cell_type": "code",
   "execution_count": null,
   "metadata": {},
   "outputs": [],
   "source": [
    "fy05d = pd.read_csv(\"../RIDE/In$site/tbl_cd_district_05.csv\")\n",
    "fy05d['Year'] = 2005\n",
    "print(fy05d.shape)\n",
    "print(fy05d.columns)\n",
    "fy05d.head()"
   ]
  },
  {
   "cell_type": "code",
   "execution_count": null,
   "metadata": {},
   "outputs": [],
   "source": [
    "fy05el = pd.read_csv(\"../RIDE/In$site/tbl_cd_ed_level_05.csv\")\n",
    "fy05el['Year'] = 2005\n",
    "print(fy05el.shape)\n",
    "print(fy05el.columns)\n",
    "fy05el.head()"
   ]
  },
  {
   "cell_type": "code",
   "execution_count": null,
   "metadata": {},
   "outputs": [],
   "source": [
    "fy05f09 = pd.read_csv(\"../RIDE/In$site/tbl_cd_function_05.csv\")\n",
    "fy05f09['Year'] = 2005\n",
    "print(fy05f09.shape)\n",
    "print(fy05f09.columns)\n",
    "fy05f09.head()"
   ]
  },
  {
   "cell_type": "code",
   "execution_count": null,
   "metadata": {},
   "outputs": [],
   "source": [
    "fy05fX09 = pd.read_csv(\"../RIDE/In$site/tbl_cd_funcX_05.csv\")\n",
    "fy05fX09['Year'] = 2005\n",
    "print(fy05fX09.shape)\n",
    "print(fy05fX09.columns)\n",
    "fy05fX09.head()"
   ]
  },
  {
   "cell_type": "code",
   "execution_count": null,
   "metadata": {},
   "outputs": [],
   "source": [
    "fy05fund09 = pd.read_csv(\"../RIDE/In$site/tbl_cd_fund_05.csv\")\n",
    "fy05fund09['Year'] = 2005\n",
    "print(fy05fund09.shape)\n",
    "print(fy05fund09.columns)\n",
    "fy05fund09.head()"
   ]
  },
  {
   "cell_type": "code",
   "execution_count": null,
   "metadata": {},
   "outputs": [],
   "source": [
    "fy05pgm = pd.read_csv(\"../RIDE/In$site/tbl_cd_In$ite_program.csv\")\n",
    "fy05pgm['Year'] = 2005\n",
    "print(fy05pgm.shape)\n",
    "print(fy05pgm.columns)\n",
    "fy05pgm.head()"
   ]
  },
  {
   "cell_type": "code",
   "execution_count": null,
   "metadata": {},
   "outputs": [],
   "source": [
    "fy05l01 = pd.read_csv(\"../RIDE/In$site/tbl_cd_legacy01_05.csv\")\n",
    "fy05l01['Year'] = 2005\n",
    "print(fy05l01.shape)\n",
    "print(fy05l01.columns)\n",
    "fy05l01.head()"
   ]
  },
  {
   "cell_type": "code",
   "execution_count": null,
   "metadata": {},
   "outputs": [],
   "source": [
    "fy05l02 = pd.read_csv(\"../RIDE/In$site/tbl_cd_legacy02_05.csv\")\n",
    "fy05l02['Year'] = 2005\n",
    "print(fy05l02.shape)\n",
    "print(fy05l02.columns)\n",
    "fy05l02.head()"
   ]
  },
  {
   "cell_type": "code",
   "execution_count": null,
   "metadata": {},
   "outputs": [],
   "source": [
    "fy05d = pd.read_csv(\"../RIDE/In$site/tbl_cd_district_05.csv\")\n",
    "fy05d['Year'] = 2005\n",
    "print(fy05d.shape)\n",
    "print(fy05d.columns)\n",
    "fy05d.head()"
   ]
  },
  {
   "cell_type": "code",
   "execution_count": null,
   "metadata": {},
   "outputs": [],
   "source": [
    "fy05l03 = pd.read_csv(\"../RIDE/In$site/tbl_cd_legacy03_05.csv\")\n",
    "fy05l03['Year'] = 2005\n",
    "print(fy05l03.shape)\n",
    "print(fy05l03.columns)\n",
    "fy05l03.head()"
   ]
  },
  {
   "cell_type": "code",
   "execution_count": null,
   "metadata": {},
   "outputs": [],
   "source": [
    "fy05l04 = pd.read_csv(\"../RIDE/In$site/tbl_cd_legacy04_05.csv\")\n",
    "fy05l04['Year'] = 2005\n",
    "print(fy05l04.shape)\n",
    "print(fy05l04.columns)\n",
    "fy05l04.head()"
   ]
  },
  {
   "cell_type": "code",
   "execution_count": null,
   "metadata": {},
   "outputs": [],
   "source": [
    "fy05l05 = pd.read_csv(\"../RIDE/In$site/tbl_cd_legacy05_05.csv\")\n",
    "fy05l05['Year'] = 2005\n",
    "print(fy05l05.shape)\n",
    "print(fy05l05.columns)\n",
    "fy05l05.head()"
   ]
  },
  {
   "cell_type": "code",
   "execution_count": null,
   "metadata": {},
   "outputs": [],
   "source": [
    "fy05l06 = pd.read_csv(\"../RIDE/In$site/tbl_cd_legacy06_05.csv\")\n",
    "fy05l06['Year'] = 2005\n",
    "print(fy05l06.shape)\n",
    "print(fy05l06.columns)\n",
    "fy05l06.head()"
   ]
  },
  {
   "cell_type": "code",
   "execution_count": null,
   "metadata": {},
   "outputs": [],
   "source": [
    "fy05l07 = pd.read_csv(\"../RIDE/In$site/tbl_cd_legacy07_05.csv\")\n",
    "fy05l07['Year'] = 2005\n",
    "print(fy05l07.shape)\n",
    "print(fy05l07.columns)\n",
    "fy05l07.head()"
   ]
  },
  {
   "cell_type": "code",
   "execution_count": null,
   "metadata": {},
   "outputs": [],
   "source": [
    "fy05l08 = pd.read_csv(\"../RIDE/In$site/tbl_cd_legacy08_05.csv\")\n",
    "fy05l08['Year'] = 2005\n",
    "print(fy05l08.shape)\n",
    "print(fy05l08.columns)\n",
    "fy05l08.head()"
   ]
  },
  {
   "cell_type": "code",
   "execution_count": null,
   "metadata": {},
   "outputs": [],
   "source": [
    "fy05l09 = pd.read_csv(\"../RIDE/In$site/tbl_cd_legacy09_05.csv\")\n",
    "fy05l09['Year'] = 2005\n",
    "print(fy05l09.shape)\n",
    "print(fy05l09.columns)\n",
    "fy05l09.head()"
   ]
  },
  {
   "cell_type": "code",
   "execution_count": null,
   "metadata": {},
   "outputs": [],
   "source": [
    "fy05l10 = pd.read_csv(\"../RIDE/In$site/tbl_cd_legacy10_05.csv\")\n",
    "fy05l10['Year'] = 2005\n",
    "print(fy05l10.shape)\n",
    "print(fy05l10.columns)\n",
    "fy05l10.head()"
   ]
  },
  {
   "cell_type": "code",
   "execution_count": null,
   "metadata": {},
   "outputs": [],
   "source": [
    "fy05pgm = pd.read_csv(\"../RIDE/In$site/tbl_cd_program_05.csv\")\n",
    "fy05pgm['Year'] = 2005\n",
    "print(fy05pgm.shape)\n",
    "print(fy05pgm.columns)\n",
    "fy05pgm.head()"
   ]
  },
  {
   "cell_type": "code",
   "execution_count": null,
   "metadata": {},
   "outputs": [],
   "source": [
    "fy05progX = pd.read_csv(\"../RIDE/In$site/tbl_cd_progX_05.csv\")\n",
    "fy05progX['Year'] = 2005\n",
    "print(fy05progX.shape)\n",
    "print(fy05progX.columns)\n",
    "fy05progX.head()"
   ]
  },
  {
   "cell_type": "code",
   "execution_count": null,
   "metadata": {},
   "outputs": [],
   "source": [
    "fy05ld09 = pd.read_csv(\"../RIDE/In$site/tbl_legacy_detail_05.csv\")\n",
    "fy05ld09['Year'] = 2005\n",
    "print(fy05ld09.shape)\n",
    "print(fy05ld09.columns)\n",
    "fy05ld09.head()"
   ]
  },
  {
   "cell_type": "code",
   "execution_count": null,
   "metadata": {},
   "outputs": [],
   "source": [
    "fy05loc = pd.read_csv(\"../RIDE/In$site/tbl_location_05.csv\")\n",
    "fy05loc['Year'] = 2005\n",
    "print(fy05loc.shape)\n",
    "print(fy05loc.columns)\n",
    "fy05loc.head()"
   ]
  },
  {
   "cell_type": "code",
   "execution_count": null,
   "metadata": {},
   "outputs": [],
   "source": [
    "fy05enr = pd.read_csv(\"../RIDE/In$site/tbl_loc_pgm_enrollment_05.csv\")\n",
    "fy05enr['Year'] = 2005\n",
    "print(fy05enr.shape)\n",
    "print(fy05enr.columns)\n",
    "fy05enr.head()"
   ]
  },
  {
   "cell_type": "code",
   "execution_count": null,
   "metadata": {
    "scrolled": true
   },
   "outputs": [],
   "source": [
    "fy05sum = pd.read_csv(\"../RIDE/In$site/tbl_summary_05.csv\")\n",
    "fy05sum['Year'] = 2005\n",
    "print(fy05sum.shape)\n",
    "print(fy05sum.columns)\n",
    "fy05sum.head()"
   ]
  },
  {
   "cell_type": "markdown",
   "metadata": {},
   "source": [
    "## FY2004"
   ]
  },
  {
   "cell_type": "code",
   "execution_count": null,
   "metadata": {},
   "outputs": [],
   "source": [
    "fy04sb = pd.read_csv(\"../RIDE/In$site/Switchboard_Items_04.csv\")\n",
    "fy04sb['Year'] = 2004\n",
    "print(fy04sb.shape)\n",
    "print(fy04sb.columns)\n",
    "fy04sb.head()"
   ]
  },
  {
   "cell_type": "code",
   "execution_count": null,
   "metadata": {},
   "outputs": [],
   "source": [
    "fy04ac = pd.read_csv(\"../RIDE/In$site/tbl_alloc_categories_04.csv\")\n",
    "fy04ac['Year'] = 2004\n",
    "print(fy04ac.shape)\n",
    "print(fy04ac.columns)\n",
    "fy04ac.head()"
   ]
  },
  {
   "cell_type": "code",
   "execution_count": null,
   "metadata": {},
   "outputs": [],
   "source": [
    "fy04d = pd.read_csv(\"../RIDE/In$site/tbl_cd_district_04.csv\")\n",
    "fy04d['Year'] = 2004\n",
    "print(fy04d.shape)\n",
    "print(fy04d.columns)\n",
    "fy04d.head()"
   ]
  },
  {
   "cell_type": "code",
   "execution_count": null,
   "metadata": {},
   "outputs": [],
   "source": [
    "fy04el = pd.read_csv(\"../RIDE/In$site/tbl_cd_ed_level_04.csv\")\n",
    "fy04el['Year'] = 2004\n",
    "print(fy04el.shape)\n",
    "print(fy04el.columns)\n",
    "fy04el.head()"
   ]
  },
  {
   "cell_type": "code",
   "execution_count": null,
   "metadata": {},
   "outputs": [],
   "source": [
    "fy04f09 = pd.read_csv(\"../RIDE/In$site/tbl_cd_function_04.csv\")\n",
    "fy04f09['Year'] = 2004\n",
    "print(fy04f09.shape)\n",
    "print(fy04f09.columns)\n",
    "fy04f09.head()"
   ]
  },
  {
   "cell_type": "code",
   "execution_count": null,
   "metadata": {},
   "outputs": [],
   "source": [
    "fy04fX09 = pd.read_csv(\"../RIDE/In$site/tbl_cd_funcX_04.csv\")\n",
    "fy04fX09['Year'] = 2004\n",
    "print(fy04fX09.shape)\n",
    "print(fy04fX09.columns)\n",
    "fy04fX09.head()"
   ]
  },
  {
   "cell_type": "code",
   "execution_count": null,
   "metadata": {},
   "outputs": [],
   "source": [
    "fy04fund09 = pd.read_csv(\"../RIDE/In$site/tbl_cd_fund_04.csv\")\n",
    "fy04fund09['Year'] = 2004\n",
    "print(fy04fund09.shape)\n",
    "print(fy04fund09.columns)\n",
    "fy04fund09.head()"
   ]
  },
  {
   "cell_type": "code",
   "execution_count": null,
   "metadata": {},
   "outputs": [],
   "source": [
    "fy04pgm = pd.read_csv(\"../RIDE/In$site/tbl_cd_In$ite_program.csv\")\n",
    "fy04pgm['Year'] = 2004\n",
    "print(fy04pgm.shape)\n",
    "print(fy04pgm.columns)\n",
    "fy04pgm.head()"
   ]
  },
  {
   "cell_type": "code",
   "execution_count": null,
   "metadata": {},
   "outputs": [],
   "source": [
    "fy04l01 = pd.read_csv(\"../RIDE/In$site/tbl_cd_legacy01_04.csv\")\n",
    "fy04l01['Year'] = 2004\n",
    "print(fy04l01.shape)\n",
    "print(fy04l01.columns)\n",
    "fy04l01.head()"
   ]
  },
  {
   "cell_type": "code",
   "execution_count": null,
   "metadata": {},
   "outputs": [],
   "source": [
    "fy04l02 = pd.read_csv(\"../RIDE/In$site/tbl_cd_legacy02_04.csv\")\n",
    "fy04l02['Year'] = 2004\n",
    "print(fy04l02.shape)\n",
    "print(fy04l02.columns)\n",
    "fy04l02.head()"
   ]
  },
  {
   "cell_type": "code",
   "execution_count": null,
   "metadata": {},
   "outputs": [],
   "source": [
    "fy04d = pd.read_csv(\"../RIDE/In$site/tbl_cd_district_04.csv\")\n",
    "fy04d['Year'] = 2004\n",
    "print(fy04d.shape)\n",
    "print(fy04d.columns)\n",
    "fy04d.head()"
   ]
  },
  {
   "cell_type": "code",
   "execution_count": null,
   "metadata": {},
   "outputs": [],
   "source": [
    "fy04l03 = pd.read_csv(\"../RIDE/In$site/tbl_cd_legacy03_04.csv\")\n",
    "fy04l03['Year'] = 2004\n",
    "print(fy04l03.shape)\n",
    "print(fy04l03.columns)\n",
    "fy04l03.head()"
   ]
  },
  {
   "cell_type": "code",
   "execution_count": null,
   "metadata": {},
   "outputs": [],
   "source": [
    "fy04l04 = pd.read_csv(\"../RIDE/In$site/tbl_cd_legacy04_04.csv\")\n",
    "fy04l04['Year'] = 2004\n",
    "print(fy04l04.shape)\n",
    "print(fy04l04.columns)\n",
    "fy04l04.head()"
   ]
  },
  {
   "cell_type": "code",
   "execution_count": null,
   "metadata": {},
   "outputs": [],
   "source": [
    "fy04l05 = pd.read_csv(\"../RIDE/In$site/tbl_cd_legacy05_04.csv\")\n",
    "fy04l05['Year'] = 2004\n",
    "print(fy04l05.shape)\n",
    "print(fy04l05.columns)\n",
    "fy04l05.head()"
   ]
  },
  {
   "cell_type": "code",
   "execution_count": null,
   "metadata": {},
   "outputs": [],
   "source": [
    "fy04l06 = pd.read_csv(\"../RIDE/In$site/tbl_cd_legacy06_04.csv\")\n",
    "fy04l06['Year'] = 2004\n",
    "print(fy04l06.shape)\n",
    "print(fy04l06.columns)\n",
    "fy04l06.head()"
   ]
  },
  {
   "cell_type": "code",
   "execution_count": null,
   "metadata": {},
   "outputs": [],
   "source": [
    "fy04l07 = pd.read_csv(\"../RIDE/In$site/tbl_cd_legacy07_04.csv\")\n",
    "fy04l07['Year'] = 2004\n",
    "print(fy04l07.shape)\n",
    "print(fy04l07.columns)\n",
    "fy04l07.head()"
   ]
  },
  {
   "cell_type": "code",
   "execution_count": null,
   "metadata": {},
   "outputs": [],
   "source": [
    "fy04l08 = pd.read_csv(\"../RIDE/In$site/tbl_cd_legacy08_04.csv\")\n",
    "fy04l08['Year'] = 2004\n",
    "print(fy04l08.shape)\n",
    "print(fy04l08.columns)\n",
    "fy04l08.head()"
   ]
  },
  {
   "cell_type": "code",
   "execution_count": null,
   "metadata": {},
   "outputs": [],
   "source": [
    "fy04l09 = pd.read_csv(\"../RIDE/In$site/tbl_cd_legacy09_04.csv\")\n",
    "fy04l09['Year'] = 2004\n",
    "print(fy04l09.shape)\n",
    "print(fy04l09.columns)\n",
    "fy04l09.head()"
   ]
  },
  {
   "cell_type": "code",
   "execution_count": null,
   "metadata": {},
   "outputs": [],
   "source": [
    "fy04l10 = pd.read_csv(\"../RIDE/In$site/tbl_cd_legacy10_04.csv\")\n",
    "fy04l10['Year'] = 2004\n",
    "print(fy04l10.shape)\n",
    "print(fy04l10.columns)\n",
    "fy04l10.head()"
   ]
  },
  {
   "cell_type": "code",
   "execution_count": null,
   "metadata": {},
   "outputs": [],
   "source": [
    "fy04pgm = pd.read_csv(\"../RIDE/In$site/tbl_cd_program_04.csv\")\n",
    "fy04pgm['Year'] = 2004\n",
    "print(fy04pgm.shape)\n",
    "print(fy04pgm.columns)\n",
    "fy04pgm.head()"
   ]
  },
  {
   "cell_type": "code",
   "execution_count": null,
   "metadata": {},
   "outputs": [],
   "source": [
    "fy04progX = pd.read_csv(\"../RIDE/In$site/tbl_cd_progX_04.csv\")\n",
    "fy04progX['Year'] = 2004\n",
    "print(fy04progX.shape)\n",
    "print(fy04progX.columns)\n",
    "fy04progX.head()"
   ]
  },
  {
   "cell_type": "code",
   "execution_count": null,
   "metadata": {},
   "outputs": [],
   "source": [
    "fy04ld09 = pd.read_csv(\"../RIDE/In$site/tbl_legacy_detail_04.csv\")\n",
    "fy04ld09['Year'] = 2004\n",
    "print(fy04ld09.shape)\n",
    "print(fy04ld09.columns)\n",
    "fy04ld09.head()"
   ]
  },
  {
   "cell_type": "code",
   "execution_count": null,
   "metadata": {},
   "outputs": [],
   "source": [
    "fy04loc = pd.read_csv(\"../RIDE/In$site/tbl_location_04.csv\")\n",
    "fy04loc['Year'] = 2004\n",
    "print(fy04loc.shape)\n",
    "print(fy04loc.columns)\n",
    "fy04loc.head()"
   ]
  },
  {
   "cell_type": "code",
   "execution_count": null,
   "metadata": {},
   "outputs": [],
   "source": [
    "fy04enr = pd.read_csv(\"../RIDE/In$site/tbl_loc_pgm_enrollment_04.csv\")\n",
    "fy04enr['Year'] = 2004\n",
    "print(fy04enr.shape)\n",
    "print(fy04enr.columns)\n",
    "fy04enr.head()"
   ]
  },
  {
   "cell_type": "code",
   "execution_count": null,
   "metadata": {
    "scrolled": true
   },
   "outputs": [],
   "source": [
    "fy04sum = pd.read_csv(\"../RIDE/In$site/tbl_summary_04.csv\")\n",
    "fy04sum['Year'] = 2004\n",
    "print(fy04sum.shape)\n",
    "print(fy04sum.columns)\n",
    "fy04sum.head()"
   ]
  },
  {
   "cell_type": "markdown",
   "metadata": {},
   "source": [
    "## FY2003"
   ]
  },
  {
   "cell_type": "code",
   "execution_count": null,
   "metadata": {},
   "outputs": [],
   "source": [
    "fy03sb = pd.read_csv(\"../RIDE/In$site/Switchboard_Items_03.csv\")\n",
    "fy03sb['Year'] = 2003\n",
    "print(fy03sb.shape)\n",
    "print(fy03sb.columns)\n",
    "fy03sb.head()"
   ]
  },
  {
   "cell_type": "code",
   "execution_count": null,
   "metadata": {},
   "outputs": [],
   "source": [
    "fy03ac = pd.read_csv(\"../RIDE/In$site/tbl_fr2_categories_03.csv\")\n",
    "fy03ac['Year'] = 2003\n",
    "print(fy03ac.shape)\n",
    "print(fy03ac.columns)\n",
    "fy03ac.head()"
   ]
  },
  {
   "cell_type": "code",
   "execution_count": null,
   "metadata": {},
   "outputs": [],
   "source": [
    "fy03d = pd.read_csv(\"../RIDE/In$site/tbl_cd_district_03.csv\")\n",
    "fy03d['Year'] = 2003\n",
    "print(fy03d.shape)\n",
    "print(fy03d.columns)\n",
    "fy03d.head()"
   ]
  },
  {
   "cell_type": "code",
   "execution_count": null,
   "metadata": {},
   "outputs": [],
   "source": [
    "fy03el = pd.read_csv(\"../RIDE/In$site/tbl_cd_ed_level_03.csv\")\n",
    "fy03el['Year'] = 2003\n",
    "print(fy03el.shape)\n",
    "print(fy03el.columns)\n",
    "fy03el.head()"
   ]
  },
  {
   "cell_type": "code",
   "execution_count": null,
   "metadata": {},
   "outputs": [],
   "source": [
    "fy03f09 = pd.read_csv(\"../RIDE/In$site/tbl_cd_function_03.csv\")\n",
    "fy03f09['Year'] = 2003\n",
    "print(fy03f09.shape)\n",
    "print(fy03f09.columns)\n",
    "fy03f09.head()"
   ]
  },
  {
   "cell_type": "code",
   "execution_count": null,
   "metadata": {},
   "outputs": [],
   "source": [
    "fy03fund09 = pd.read_csv(\"../RIDE/In$site/tbl_cd_fund_03.csv\")\n",
    "fy03fund09['Year'] = 2003\n",
    "print(fy03fund09.shape)\n",
    "print(fy03fund09.columns)\n",
    "fy03fund09.head()"
   ]
  },
  {
   "cell_type": "code",
   "execution_count": null,
   "metadata": {},
   "outputs": [],
   "source": [
    "fy03pgm = pd.read_csv(\"../RIDE/In$site/tbl_cd_In$ite_program.csv\")\n",
    "fy03pgm['Year'] = 2003\n",
    "print(fy03pgm.shape)\n",
    "print(fy03pgm.columns)\n",
    "fy03pgm.head()"
   ]
  },
  {
   "cell_type": "code",
   "execution_count": null,
   "metadata": {},
   "outputs": [],
   "source": [
    "fy03pgm = pd.read_csv(\"../RIDE/In$site/tbl_cd_program_03.csv\")\n",
    "fy03pgm['Year'] = 2003\n",
    "print(fy03pgm.shape)\n",
    "print(fy03pgm.columns)\n",
    "fy03pgm.head()"
   ]
  },
  {
   "cell_type": "code",
   "execution_count": null,
   "metadata": {},
   "outputs": [],
   "source": [
    "fy03ld09 = pd.read_csv(\"../RIDE/In$site/tbl_legacy_detail_03.csv\")\n",
    "fy03ld09['Year'] = 2003\n",
    "print(fy03ld09.shape)\n",
    "print(fy03ld09.columns)\n",
    "fy03ld09.head()"
   ]
  },
  {
   "cell_type": "code",
   "execution_count": null,
   "metadata": {},
   "outputs": [],
   "source": [
    "fy03loc = pd.read_csv(\"../RIDE/In$site/tbl_location_03.csv\")\n",
    "fy03loc['Year'] = 2003\n",
    "print(fy03loc.shape)\n",
    "print(fy03loc.columns)\n",
    "fy03loc.head()"
   ]
  },
  {
   "cell_type": "code",
   "execution_count": null,
   "metadata": {},
   "outputs": [],
   "source": [
    "fy03enr = pd.read_csv(\"../RIDE/In$site/tbl_loc_pgm_enrollment_03.csv\")\n",
    "fy03enr['Year'] = 2003\n",
    "print(fy03enr.shape)\n",
    "print(fy03enr.columns)\n",
    "fy03enr.head()"
   ]
  },
  {
   "cell_type": "code",
   "execution_count": null,
   "metadata": {
    "scrolled": true
   },
   "outputs": [],
   "source": [
    "fy03sum = pd.read_csv(\"../RIDE/In$site/tbl_summary_03.csv\")\n",
    "fy03sum['Year'] = 2003\n",
    "print(fy03sum.shape)\n",
    "print(fy03sum.columns)\n",
    "fy03sum.head()"
   ]
  },
  {
   "cell_type": "markdown",
   "metadata": {},
   "source": [
    "## FY2002"
   ]
  },
  {
   "cell_type": "code",
   "execution_count": null,
   "metadata": {},
   "outputs": [],
   "source": [
    "fy02d = pd.read_csv(\"../RIDE/In$site/tbl_cd_district_02.csv\")\n",
    "fy02d['Year'] = 2002\n",
    "print(fy02d.shape)\n",
    "print(fy02d.columns)\n",
    "fy02d.head()"
   ]
  },
  {
   "cell_type": "code",
   "execution_count": null,
   "metadata": {},
   "outputs": [],
   "source": [
    "fy02el = pd.read_csv(\"../RIDE/In$site/tbl_cd_ed_level_02.csv\")\n",
    "fy02el['Year'] = 2002\n",
    "print(fy02el.shape)\n",
    "print(fy02el.columns)\n",
    "fy02el.head()"
   ]
  },
  {
   "cell_type": "code",
   "execution_count": null,
   "metadata": {},
   "outputs": [],
   "source": [
    "fy02f09 = pd.read_csv(\"../RIDE/In$site/tbl_cd_function_02.csv\")\n",
    "fy02f09['Year'] = 2002\n",
    "print(fy02f09.shape)\n",
    "print(fy02f09.columns)\n",
    "fy02f09.head()"
   ]
  },
  {
   "cell_type": "code",
   "execution_count": null,
   "metadata": {},
   "outputs": [],
   "source": [
    "fy02fund09 = pd.read_csv(\"../RIDE/In$site/tbl_cd_fund_02.csv\")\n",
    "fy02fund09['Year'] = 2002\n",
    "print(fy02fund09.shape)\n",
    "print(fy02fund09.columns)\n",
    "fy02fund09.head()"
   ]
  },
  {
   "cell_type": "code",
   "execution_count": null,
   "metadata": {},
   "outputs": [],
   "source": [
    "fy02pgm = pd.read_csv(\"../RIDE/In$site/tbl_cd_In$ite_program.csv\")\n",
    "fy02pgm['Year'] = 2002\n",
    "print(fy02pgm.shape)\n",
    "print(fy02pgm.columns)\n",
    "fy02pgm.head()"
   ]
  },
  {
   "cell_type": "code",
   "execution_count": null,
   "metadata": {},
   "outputs": [],
   "source": [
    "fy02d = pd.read_csv(\"../RIDE/In$site/tbl_cd_district_02.csv\")\n",
    "fy02d['Year'] = 2002\n",
    "print(fy02d.shape)\n",
    "print(fy02d.columns)\n",
    "fy02d.head()"
   ]
  },
  {
   "cell_type": "code",
   "execution_count": null,
   "metadata": {},
   "outputs": [],
   "source": [
    "fy02pgm = pd.read_csv(\"../RIDE/In$site/tbl_cd_program_02.csv\")\n",
    "fy02pgm['Year'] = 2002\n",
    "print(fy02pgm.shape)\n",
    "print(fy02pgm.columns)\n",
    "fy02pgm.head()"
   ]
  },
  {
   "cell_type": "code",
   "execution_count": null,
   "metadata": {},
   "outputs": [],
   "source": [
    "fy02ld09 = pd.read_csv(\"../RIDE/In$site/tbl_legacy_detail_02.csv\")\n",
    "fy02ld09['Year'] = 2002\n",
    "print(fy02ld09.shape)\n",
    "print(fy02ld09.columns)\n",
    "fy02ld09.head()"
   ]
  },
  {
   "cell_type": "code",
   "execution_count": null,
   "metadata": {},
   "outputs": [],
   "source": [
    "fy02loc = pd.read_csv(\"../RIDE/In$site/tbl_location_02.csv\")\n",
    "fy02loc['Year'] = 2002\n",
    "print(fy02loc.shape)\n",
    "print(fy02loc.columns)\n",
    "fy02loc.head()"
   ]
  },
  {
   "cell_type": "code",
   "execution_count": null,
   "metadata": {},
   "outputs": [],
   "source": [
    "fy02enr = pd.read_csv(\"../RIDE/In$site/tbl_loc_pgm_enrollment_02.csv\")\n",
    "fy02enr['Year'] = 2002\n",
    "print(fy02enr.shape)\n",
    "print(fy02enr.columns)\n",
    "fy02enr.head()"
   ]
  },
  {
   "cell_type": "code",
   "execution_count": null,
   "metadata": {
    "scrolled": false
   },
   "outputs": [],
   "source": [
    "fy02sum = pd.read_csv(\"../RIDE/In$site/tbl_summary_02.csv\")\n",
    "fy02sum['Year'] = 2002\n",
    "print(fy02sum.shape)\n",
    "print(fy02sum.columns)\n",
    "fy02sum.head()"
   ]
  },
  {
   "cell_type": "code",
   "execution_count": null,
   "metadata": {
    "collapsed": true
   },
   "outputs": [],
   "source": [
    "ride_sums = pd.concat([fy09sum,fy08sum,fy07sum,fy06sum,fy05sum,fy04sum,fy03sum,fy02sum])"
   ]
  },
  {
   "cell_type": "code",
   "execution_count": null,
   "metadata": {},
   "outputs": [],
   "source": [
    "EG_sums = ride_sums.loc[ride_sums['district_id']==9]\n",
    "EG_sums.shape"
   ]
  },
  {
   "cell_type": "code",
   "execution_count": null,
   "metadata": {},
   "outputs": [],
   "source": [
    "EG_sums.groupby(EG_sums['Year']).sum()"
   ]
  },
  {
   "cell_type": "code",
   "execution_count": null,
   "metadata": {
    "collapsed": true
   },
   "outputs": [],
   "source": []
  }
 ],
 "metadata": {
  "kernelspec": {
   "display_name": "Python 3",
   "language": "python",
   "name": "python3"
  },
  "language_info": {
   "codemirror_mode": {
    "name": "ipython",
    "version": 3
   },
   "file_extension": ".py",
   "mimetype": "text/x-python",
   "name": "python",
   "nbconvert_exporter": "python",
   "pygments_lexer": "ipython3",
   "version": "3.6.2"
  }
 },
 "nbformat": 4,
 "nbformat_minor": 2
}
