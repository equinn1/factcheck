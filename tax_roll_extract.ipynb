{
 "cells": [
  {
   "cell_type": "markdown",
   "metadata": {},
   "source": [
    "#  Read EG real estate tax rolls and extract the data"
   ]
  },
  {
   "cell_type": "code",
   "execution_count": null,
   "metadata": {
    "collapsed": true
   },
   "outputs": [],
   "source": [
    "import re\n",
    "import numpy as np\n",
    "import scipy as sc\n",
    "import pandas as pd\n",
    "import matplotlib.pyplot as plt\n",
    "import seaborn as sns\n",
    "%matplotlib inline"
   ]
  },
  {
   "cell_type": "markdown",
   "metadata": {},
   "source": [
    "#  Read EG FY2018 Real Estate Tax Roll - assessed 12/31/2016"
   ]
  },
  {
   "cell_type": "code",
   "execution_count": null,
   "metadata": {},
   "outputs": [],
   "source": [
    "dd = {}\n",
    "dd['FYear']     = []  \n",
    "dd['parcel']    = []\n",
    "dd['address']   = []\n",
    "dd['sc']        = []\n",
    "dd['scd']       = []\n",
    "dd['valuation'] = []\n",
    "dd['exemption'] = []\n",
    "dd['tax']       = []\n",
    "dd['taxbill']   = []\n",
    "dd['est_fd']    = []\n",
    "\n",
    "with open(\"../EG_RE_Tax_Roll_assessed_12_31_2016.txt\", \"rt\") as in_file:\n",
    "    text = in_file.readlines()\n",
    "\n",
    "nprint = len(text)\n",
    "    \n",
    "fyear = '2018'\n",
    "\n",
    "for line in text[0:nprint]:\n",
    "    if (line.find('  RE ')>0):\n",
    "        words = line.split()\n",
    "        for word in words:\n",
    "            if ((word.count('-')==3) & (len(word) > 13)):\n",
    "                parcel = word\n",
    "                address=line[line.index(word)+17:98]\n",
    "                REix = line.index(' RE ')\n",
    "                sc = line[(REix+4):(REix+6)]\n",
    "                scd    = line[(REix+6):line.index(word)]\n",
    "                valuation = line[99:109].replace(',', '').strip()\n",
    "                exemption = line[110:120].replace(',', '').strip()\n",
    "                if (exemption==''):\n",
    "                    exemption='0.0'\n",
    "                tax = line[121:133].replace(',', '').strip()\n",
    "    if (line.find('    TOTALS     ') > 0):\n",
    "        taxbill = line[121:133].replace(',', '').strip()\n",
    "        dd['FYear'].append(fyear)\n",
    "        dd['taxbill'].append(pd.to_numeric(taxbill))\n",
    "        dd['parcel'].append(parcel)     \n",
    "        dd['sc'].append(sc)\n",
    "        dd['scd'].append(scd)\n",
    "        dd['address'].append(address)\n",
    "        dd['valuation'].append(pd.to_numeric(valuation))\n",
    "        dd['exemption'].append(pd.to_numeric(exemption))\n",
    "        dd['tax'].append(pd.to_numeric(tax))\n",
    "        dd['est_fd'].append(0.0)\n",
    "\n",
    "taxroll_FY2018 = pd.DataFrame.from_dict(dd)\n",
    "\n",
    "print(taxroll_FY2018.shape)\n",
    "\n",
    "print(len(taxroll_FY2018['parcel'].unique()))\n",
    "\n",
    "taxroll_FY2018.head()"
   ]
  },
  {
   "cell_type": "code",
   "execution_count": null,
   "metadata": {},
   "outputs": [],
   "source": [
    "taxroll_FY2018.groupby(taxroll_FY2018['FYear']).sum()  # should be 52,205,653.13"
   ]
  },
  {
   "cell_type": "code",
   "execution_count": null,
   "metadata": {
    "collapsed": true
   },
   "outputs": [],
   "source": [
    "with open('../EG_taxroll.csv', 'a') as f:\n",
    "    taxroll_FY2018.to_csv(f, header=False)"
   ]
  },
  {
   "cell_type": "code",
   "execution_count": null,
   "metadata": {},
   "outputs": [],
   "source": [
    "FY2018= taxroll_FY2018.rename(columns={'address': 'adress_2018', 'exemption': 'exemption_2018', \\\n",
    "            'sc': 'sc_2018', 'scd': 'scd_2018', 'taxbill': 'taxbill_2018', 'valuation': 'valuation_2018', \\\n",
    "            'FYear': 'FY2018','tax': 'tax_2018','est_fd': 'est_fd_2018'})\n",
    "print(FY2018.shape)\n",
    "FY2018.head()"
   ]
  },
  {
   "cell_type": "markdown",
   "metadata": {},
   "source": [
    "#  Read EG FY2017 Real Estate Tax Roll  - assessed 12/31/2015"
   ]
  },
  {
   "cell_type": "code",
   "execution_count": null,
   "metadata": {},
   "outputs": [],
   "source": [
    "dd = {}\n",
    "dd['FYear']     = []  \n",
    "dd['parcel']    = []\n",
    "dd['address']   = []\n",
    "dd['sc']        = []\n",
    "dd['scd']       = []\n",
    "dd['valuation'] = []\n",
    "dd['exemption'] = []\n",
    "dd['tax']       = []\n",
    "dd['taxbill']   = []\n",
    "dd['est_fd']    = []\n",
    "\n",
    "with open(\"../EG_RE_Tax_Roll_assessed_12_31_2015.txt\", \"rt\") as in_file:\n",
    "    text = in_file.readlines()\n",
    "\n",
    "nprint = len(text)\n",
    "    \n",
    "fyear = '2017'\n",
    "\n",
    "for line in text[0:nprint]:\n",
    "    if (line.find('  RE ')>0):\n",
    "        words = line.split()\n",
    "        for word in words:\n",
    "            if ((word.count('-')==3) & (len(word) > 13)):\n",
    "                parcel = word\n",
    "                address=line[line.index(word)+17:98]\n",
    "                REix = line.index(' RE ')\n",
    "                sc = line[(REix+4):(REix+6)]\n",
    "                scd    = line[(REix+6):line.index(word)]\n",
    "                valuation = line[99:109].replace(',', '').strip()\n",
    "                exemption = line[110:120].replace(',', '').strip()\n",
    "                if (exemption==''):\n",
    "                    exemption='0.0'\n",
    "                tax = line[121:133].replace(',', '').strip()\n",
    "    if (line.find('    TOTALS     ') > 0):\n",
    "        taxbill = line[121:133].replace(',', '').strip()\n",
    "        dd['FYear'].append(fyear)\n",
    "        dd['taxbill'].append(pd.to_numeric(taxbill))\n",
    "        dd['parcel'].append(parcel)     \n",
    "        dd['sc'].append(sc)\n",
    "        dd['scd'].append(scd)\n",
    "        dd['address'].append(address)\n",
    "        dd['valuation'].append(pd.to_numeric(valuation))\n",
    "        dd['exemption'].append(pd.to_numeric(exemption))\n",
    "        dd['tax'].append(pd.to_numeric(tax))\n",
    "        dd['est_fd'].append(0.0)\n",
    "\n",
    "taxroll_FY2017 = pd.DataFrame.from_dict(dd)\n",
    "\n",
    "print(taxroll_FY2017.shape)\n",
    "\n",
    "print(len(taxroll_FY2017['parcel'].unique()))\n",
    "\n",
    "taxroll_FY2017.head()"
   ]
  },
  {
   "cell_type": "code",
   "execution_count": null,
   "metadata": {},
   "outputs": [],
   "source": [
    "taxroll_FY2017.groupby(taxroll_FY2017['FYear']).sum()  #should be 52,862,815.74"
   ]
  },
  {
   "cell_type": "code",
   "execution_count": null,
   "metadata": {
    "collapsed": true
   },
   "outputs": [],
   "source": [
    "with open('../EG_taxroll.csv', 'a') as f:\n",
    "    taxroll_FY2017.to_csv(f, header=False)"
   ]
  },
  {
   "cell_type": "code",
   "execution_count": null,
   "metadata": {},
   "outputs": [],
   "source": [
    "FY2017= taxroll_FY2017.rename(columns={'address': 'adress_2017', 'exemption': 'exemption_2017', \\\n",
    "            'sc': 'sc_2017', 'scd': 'scd_2017', 'taxbill': 'taxbill_2017', 'valuation': 'valuation_2017', \\\n",
    "            'FYear': 'FY2017','tax': 'tax_2017','est_fd': 'est_fd_2017'})\n",
    "print(FY2017.shape)\n",
    "FY2017.head()"
   ]
  },
  {
   "cell_type": "markdown",
   "metadata": {},
   "source": [
    "#  Read EG FY2016 Real Estate Tax Roll  - assessed 12/31/2014"
   ]
  },
  {
   "cell_type": "code",
   "execution_count": null,
   "metadata": {},
   "outputs": [],
   "source": [
    "dd = {}\n",
    "dd['FYear']     = []  \n",
    "dd['parcel']    = []\n",
    "dd['address']   = []\n",
    "dd['sc']        = []\n",
    "dd['scd']       = []\n",
    "dd['valuation'] = []\n",
    "dd['exemption'] = []\n",
    "dd['tax']       = []\n",
    "dd['taxbill']   = []\n",
    "dd['est_fd']    = []\n",
    "\n",
    "with open(\"../EG_RE_Tax_Roll_assessed_12_31_2014.txt\", \"rt\") as in_file:\n",
    "    text = in_file.readlines()\n",
    "\n",
    "nprint = len(text)\n",
    "    \n",
    "fyear = '2016'\n",
    "\n",
    "for line in text[0:nprint]:\n",
    "    if (line.find('  RE ')>0):\n",
    "        words = line.split()\n",
    "        for word in words:\n",
    "            if ((word.count('-')==3) & (len(word) > 13)):\n",
    "                parcel = word\n",
    "                address=line[line.index(word)+17:98]\n",
    "                REix = line.index(' RE ')\n",
    "                sc = line[(REix+4):(REix+6)]\n",
    "                scd    = line[(REix+6):line.index(word)]\n",
    "                valuation = line[99:109].replace(',', '').strip()\n",
    "                exemption = line[110:120].replace(',', '').strip()\n",
    "                if (exemption==''):\n",
    "                    exemption='0.0'\n",
    "                tax = line[121:133].replace(',', '').strip()\n",
    "    if (line.find('    TOTALS     ') > 0):\n",
    "        if (len(tax) > 0):                                #skip blank tax\n",
    "            taxbill = line[121:133].replace(',', '').strip()\n",
    "            dd['FYear'].append(fyear)\n",
    "            dd['taxbill'].append(pd.to_numeric(taxbill))\n",
    "            dd['parcel'].append(parcel)     \n",
    "            dd['sc'].append(sc)\n",
    "            dd['scd'].append(scd)\n",
    "            dd['address'].append(address)\n",
    "            dd['valuation'].append(pd.to_numeric(valuation))\n",
    "            dd['exemption'].append(pd.to_numeric(exemption))\n",
    "            dd['tax'].append(pd.to_numeric(tax))\n",
    "            dd['est_fd'].append(0.0)\n",
    "\n",
    "taxroll_FY2016 = pd.DataFrame.from_dict(dd)\n",
    "\n",
    "print(taxroll_FY2016.shape)\n",
    "\n",
    "print(len(taxroll_FY2016['parcel'].unique()))\n",
    "\n",
    "taxroll_FY2016.head()"
   ]
  },
  {
   "cell_type": "code",
   "execution_count": null,
   "metadata": {},
   "outputs": [],
   "source": [
    "taxroll_FY2016.groupby(taxroll_FY2016['FYear']).sum() #should be 51,480,402.21"
   ]
  },
  {
   "cell_type": "code",
   "execution_count": null,
   "metadata": {
    "collapsed": true
   },
   "outputs": [],
   "source": [
    "with open('../EG_taxroll.csv', 'a') as f:\n",
    "    taxroll_FY2016.to_csv(f, header=False)"
   ]
  },
  {
   "cell_type": "code",
   "execution_count": null,
   "metadata": {},
   "outputs": [],
   "source": [
    "FY2016= taxroll_FY2016.rename(columns={'address': 'adress_2016', 'exemption': 'exemption_2016', \\\n",
    "            'sc': 'sc_2016', 'scd': 'scd_2016', 'taxbill': 'taxbill_2016', 'valuation': 'valuation_2016', \\\n",
    "            'FYear': 'FY2016','tax': 'tax_2016','est_fd': 'est_fd_2016'})\n",
    "print(FY2016.shape)\n",
    "FY2016.head()"
   ]
  },
  {
   "cell_type": "markdown",
   "metadata": {},
   "source": [
    "#  Read EG FY2015 Real Estate Tax Roll  - assessed 12/31/2013"
   ]
  },
  {
   "cell_type": "code",
   "execution_count": null,
   "metadata": {},
   "outputs": [],
   "source": [
    "dd = {}\n",
    "dd['FYear']     = []  \n",
    "dd['parcel']    = []\n",
    "dd['address']   = []\n",
    "dd['sc']        = []\n",
    "dd['scd']       = []\n",
    "dd['valuation'] = []\n",
    "dd['exemption'] = []\n",
    "dd['tax']       = []\n",
    "dd['taxbill']   = []\n",
    "dd['est_fd']    = []\n",
    "\n",
    "with open(\"../EG_RE_Tax_Roll_assessed_12_31_2013.txt\", \"rt\") as in_file:\n",
    "    text = in_file.readlines()\n",
    "\n",
    "nprint = len(text)\n",
    "    \n",
    "fyear = '2015'\n",
    "\n",
    "for line in text[0:nprint]:\n",
    "    if (line.find('  RE ')>0):\n",
    "        words = line.split()\n",
    "        for word in words:\n",
    "            if ((word.count('-')==3) & (len(word) > 13)):\n",
    "                parcel = word\n",
    "                address=line[line.index(word)+17:98]\n",
    "                REix = line.index(' RE ')\n",
    "                sc = line[(REix+4):(REix+6)]\n",
    "                scd    = line[(REix+6):line.index(word)]\n",
    "                valuation = line[99:109].replace(',', '').strip()\n",
    "                exemption = line[110:120].replace(',', '').strip()\n",
    "                if (exemption==''):\n",
    "                    exemption='0.0'\n",
    "                tax = line[121:133].replace(',', '').strip()\n",
    "    if (line.find('    TOTALS     ') > 0):\n",
    "        if (len(tax) > 0):                                #skip blank tax\n",
    "            taxbill = line[121:133].replace(',', '').strip()\n",
    "            dd['FYear'].append(fyear)\n",
    "            dd['taxbill'].append(pd.to_numeric(taxbill))\n",
    "            dd['parcel'].append(parcel)     \n",
    "            dd['sc'].append(sc)\n",
    "            dd['scd'].append(scd)\n",
    "            dd['address'].append(address)\n",
    "            dd['valuation'].append(pd.to_numeric(valuation))\n",
    "            dd['exemption'].append(pd.to_numeric(exemption))\n",
    "            dd['tax'].append(pd.to_numeric(tax))\n",
    "            dd['est_fd'].append(0.0)\n",
    "\n",
    "taxroll_FY2015 = pd.DataFrame.from_dict(dd)\n",
    "\n",
    "print(taxroll_FY2015.shape)\n",
    "\n",
    "print(len(taxroll_FY2015['parcel'].unique()))\n",
    "\n",
    "taxroll_FY2015.head()"
   ]
  },
  {
   "cell_type": "code",
   "execution_count": null,
   "metadata": {},
   "outputs": [],
   "source": [
    "taxroll_FY2015.groupby(taxroll_FY2015['FYear']).sum()  #should be 49,608,603.24"
   ]
  },
  {
   "cell_type": "code",
   "execution_count": null,
   "metadata": {
    "collapsed": true
   },
   "outputs": [],
   "source": [
    "with open('../EG_taxroll.csv', 'a') as f:\n",
    "    taxroll_FY2015.to_csv(f, header=False)"
   ]
  },
  {
   "cell_type": "code",
   "execution_count": null,
   "metadata": {},
   "outputs": [],
   "source": [
    "FY2015= taxroll_FY2015.rename(columns={'address': 'adress_2015', 'exemption': 'exemption_2015', \\\n",
    "            'sc': 'sc_2015', 'scd': 'scd_2015', 'taxbill': 'taxbill_2015', 'valuation': 'valuation_2015', \\\n",
    "            'FYear': 'FY2015','tax': 'tax_2015','est_fd': 'est_fd_2015'})\n",
    "print(FY2015.shape)\n",
    "FY2015.head()"
   ]
  },
  {
   "cell_type": "markdown",
   "metadata": {},
   "source": [
    "#  Read EG FY2014 Real Estate Tax Roll  - assessed 12/31/2012"
   ]
  },
  {
   "cell_type": "code",
   "execution_count": null,
   "metadata": {},
   "outputs": [],
   "source": [
    "dd = {}\n",
    "dd['FYear']     = []  \n",
    "dd['parcel']    = []\n",
    "dd['address']   = []\n",
    "dd['sc']        = []\n",
    "dd['scd']       = []\n",
    "dd['valuation'] = []\n",
    "dd['exemption'] = []\n",
    "dd['tax']       = []\n",
    "dd['taxbill']   = []\n",
    "dd['est_fd']    = []\n",
    "\n",
    "with open(\"../EG_RE_Tax_Roll_assessed_12_31_2012.txt\", \"rt\") as in_file:\n",
    "    text = in_file.readlines()\n",
    "\n",
    "nprint = len(text)\n",
    "    \n",
    "fyear = '2014'\n",
    "\n",
    "for line in text[0:nprint]:\n",
    "    if (line.find('  RE ')>0):\n",
    "        words = line.split()\n",
    "        for word in words:\n",
    "            if ((word.count('-')==3) & (len(word) > 13)):\n",
    "                parcel = word\n",
    "                address=line[line.index(word)+17:98]\n",
    "                REix = line.index(' RE ')\n",
    "                sc = line[(REix+4):(REix+6)]\n",
    "                scd    = line[(REix+6):line.index(word)]\n",
    "                valuation = line[99:109].replace(',', '').strip()\n",
    "                exemption = line[110:120].replace(',', '').strip()\n",
    "                if (exemption==''):\n",
    "                    exemption='0.0'\n",
    "                tax = line[121:133].replace(',', '').strip()\n",
    "    if (line.find('    TOTALS     ') > 0):\n",
    "        if (len(tax) > 0):                                #skip blank tax\n",
    "            taxbill = line[121:133].replace(',', '').strip()\n",
    "            dd['FYear'].append(fyear)\n",
    "            dd['taxbill'].append(pd.to_numeric(taxbill))\n",
    "            dd['parcel'].append(parcel)     \n",
    "            dd['sc'].append(sc)\n",
    "            dd['scd'].append(scd)\n",
    "            dd['address'].append(address)\n",
    "            dd['valuation'].append(pd.to_numeric(valuation))\n",
    "            dd['exemption'].append(pd.to_numeric(exemption))\n",
    "            dd['tax'].append(pd.to_numeric(tax))\n",
    "            dd['est_fd'].append(0.0)\n",
    "\n",
    "taxroll_FY2014 = pd.DataFrame.from_dict(dd)\n",
    "\n",
    "print(taxroll_FY2014.shape)\n",
    "\n",
    "print(len(taxroll_FY2014['parcel'].unique()))\n",
    "\n",
    "taxroll_FY2014.head()"
   ]
  },
  {
   "cell_type": "code",
   "execution_count": null,
   "metadata": {},
   "outputs": [],
   "source": [
    "taxroll_FY2014.groupby(taxroll_FY2014['FYear']).sum()  #should be 48,251,112.33"
   ]
  },
  {
   "cell_type": "code",
   "execution_count": null,
   "metadata": {
    "collapsed": true
   },
   "outputs": [],
   "source": [
    "with open('../EG_taxroll.csv', 'a') as f:\n",
    "    taxroll_FY2014.to_csv(f, header=False)"
   ]
  },
  {
   "cell_type": "code",
   "execution_count": null,
   "metadata": {},
   "outputs": [],
   "source": [
    "FY2014= taxroll_FY2014.rename(columns={'address': 'adress_2014', 'exemption': 'exemption_2014', \\\n",
    "            'sc': 'sc_2014', 'scd': 'scd_2014', 'taxbill': 'taxbill_2014', 'valuation': 'valuation_2014', \\\n",
    "            'FYear': 'FY2014','tax': 'tax_2014','est_fd': 'est_fd_2014'})\n",
    "print(FY2014.shape)\n",
    "FY2014.head()"
   ]
  },
  {
   "cell_type": "markdown",
   "metadata": {},
   "source": [
    "#  Read EG FY2013 Real Estate Tax Roll  - assessed 12/31/2011"
   ]
  },
  {
   "cell_type": "code",
   "execution_count": null,
   "metadata": {},
   "outputs": [],
   "source": [
    "dd = {}\n",
    "dd['FYear']     = []  \n",
    "dd['parcel']    = []\n",
    "dd['address']   = []\n",
    "dd['sc']        = []\n",
    "dd['scd']       = []\n",
    "dd['valuation'] = []\n",
    "dd['exemption'] = []\n",
    "dd['tax']       = []\n",
    "dd['taxbill']   = []\n",
    "dd['est_fd']    = []\n",
    "\n",
    "with open(\"../EG_RE_Tax_Roll_assessed_12_31_2011.txt\", \"rt\") as in_file:\n",
    "    text = in_file.readlines()\n",
    "\n",
    "nprint = len(text)\n",
    "    \n",
    "fyear = '2013'\n",
    "\n",
    "for line in text[0:nprint]:\n",
    "    if (line.find('  RE ')>0):\n",
    "        words = line.split()\n",
    "        for word in words:\n",
    "            if ((word.count('-')>=3) & (len(word) > 13)):\n",
    "                parcel = word\n",
    "                address=line[line.index(word)+17:98]\n",
    "                REix = line.index(' RE ')\n",
    "                sc = line[(REix+4):(REix+6)]\n",
    "                scd    = line[(REix+6):line.index(word)]\n",
    "                valuation = line[99:109].replace(',', '').strip()\n",
    "                exemption = line[110:120].replace(',', '').strip()\n",
    "                if (exemption==''):\n",
    "                    exemption='0.0'\n",
    "                tax = line[121:133].replace(',', '').strip()\n",
    "    if (line.find('    TOTALS     ') > 0):\n",
    "        if (len(tax) > 0):                                #skip blank tax\n",
    "            taxbill = line[121:133].replace(',', '').strip()\n",
    "            dd['FYear'].append(fyear)\n",
    "            dd['taxbill'].append(pd.to_numeric(taxbill))\n",
    "            dd['parcel'].append(parcel)     \n",
    "            dd['sc'].append(sc)\n",
    "            dd['scd'].append(scd)\n",
    "            dd['address'].append(address)\n",
    "            dd['valuation'].append(pd.to_numeric(valuation))\n",
    "            dd['exemption'].append(pd.to_numeric(exemption))\n",
    "            dd['tax'].append(pd.to_numeric(tax))\n",
    "            dd['est_fd'].append(0.0)\n",
    "\n",
    "taxroll_FY2013 = pd.DataFrame.from_dict(dd)\n",
    "\n",
    "print(taxroll_FY2013.shape)\n",
    "\n",
    "print(len(taxroll_FY2013['parcel'].unique()))\n",
    "\n",
    "taxroll_FY2013.head()"
   ]
  },
  {
   "cell_type": "code",
   "execution_count": null,
   "metadata": {},
   "outputs": [],
   "source": [
    "taxroll_FY2013.groupby(taxroll_FY2013['FYear']).sum()  #should be 46,347,563.02"
   ]
  },
  {
   "cell_type": "code",
   "execution_count": null,
   "metadata": {
    "collapsed": true
   },
   "outputs": [],
   "source": [
    "with open('../EG_taxroll.csv', 'a') as f:\n",
    "    taxroll_FY2013.to_csv(f, header=False)"
   ]
  },
  {
   "cell_type": "code",
   "execution_count": null,
   "metadata": {},
   "outputs": [],
   "source": [
    "FY2013= taxroll_FY2013.rename(columns={'address': 'adress_2013', 'exemption': 'exemption_2013', \\\n",
    "            'sc': 'sc_2013', 'scd': 'scd_2013', 'taxbill': 'taxbill_2013', 'valuation': 'valuation_2013', \\\n",
    "            'FYear': 'FY2013','tax': 'tax_2013','est_fd': 'est_fd_2013'})\n",
    "print(FY2013.shape)\n",
    "FY2013.head()"
   ]
  },
  {
   "cell_type": "markdown",
   "metadata": {},
   "source": [
    "#  Read EG FY2012 Real Estate Tax Roll  - assessed 12/31/2010"
   ]
  },
  {
   "cell_type": "code",
   "execution_count": null,
   "metadata": {},
   "outputs": [],
   "source": [
    "dd = {}\n",
    "dd['FYear']     = []  \n",
    "dd['parcel']    = []\n",
    "dd['address']   = []\n",
    "dd['sc']        = []\n",
    "dd['scd']       = []\n",
    "dd['valuation'] = []\n",
    "dd['exemption'] = []\n",
    "dd['tax']       = []\n",
    "dd['taxbill']   = []\n",
    "dd['est_fd']    = []\n",
    "\n",
    "with open(\"../EG_RE_Tax_Roll_assessed_12_31_2010.txt\", \"rt\") as in_file:\n",
    "    text = in_file.readlines()\n",
    "\n",
    "nprint = len(text)\n",
    "    \n",
    "fyear = '2012'\n",
    "\n",
    "for line in text[0:nprint]:\n",
    "    if (line.find('  RE ')>0):\n",
    "        words = line.split()\n",
    "        for word in words:\n",
    "            if ((word.count('-')>=3) & (len(word) > 13)):\n",
    "                parcel = word\n",
    "                address=line[line.index(word)+17:98]\n",
    "                REix = line.index(' RE ')\n",
    "                sc = line[(REix+4):(REix+6)]\n",
    "                scd    = line[(REix+6):line.index(word)]\n",
    "                valuation = line[99:109].replace(',', '').strip()\n",
    "                exemption = line[110:120].replace(',', '').strip()\n",
    "                if (exemption==''):\n",
    "                    exemption='0.0'\n",
    "                tax = line[121:133].replace(',', '').strip()\n",
    "    if (line.find('    TOTALS     ') > 0):\n",
    "        if (len(tax) > 0):                                #skip blank tax\n",
    "            taxbill = line[121:133].replace(',', '').strip()\n",
    "            dd['FYear'].append(fyear)\n",
    "            dd['taxbill'].append(pd.to_numeric(taxbill))\n",
    "            dd['parcel'].append(parcel)     \n",
    "            dd['sc'].append(sc)\n",
    "            dd['scd'].append(scd)\n",
    "            dd['address'].append(address)\n",
    "            dd['valuation'].append(pd.to_numeric(valuation))\n",
    "            dd['exemption'].append(pd.to_numeric(exemption))\n",
    "            dd['tax'].append(pd.to_numeric(tax))\n",
    "            dd['est_fd'].append(0.0)\n",
    "            tax = ''\n",
    "\n",
    "taxroll_FY2012 = pd.DataFrame.from_dict(dd)\n",
    "\n",
    "print(taxroll_FY2012.shape)\n",
    "\n",
    "print(len(taxroll_FY2012['parcel'].unique()))\n",
    "\n",
    "taxroll_FY2012.head()"
   ]
  },
  {
   "cell_type": "code",
   "execution_count": null,
   "metadata": {},
   "outputs": [],
   "source": [
    "taxroll_FY2012.groupby(taxroll_FY2012['FYear']).sum() #should be 45,171,191.58"
   ]
  },
  {
   "cell_type": "code",
   "execution_count": null,
   "metadata": {
    "collapsed": true
   },
   "outputs": [],
   "source": [
    "with open('../EG_taxroll.csv', 'a') as f:\n",
    "    taxroll_FY2012.to_csv(f, header=False)"
   ]
  },
  {
   "cell_type": "code",
   "execution_count": null,
   "metadata": {},
   "outputs": [],
   "source": [
    "FY2012 = taxroll_FY2012.rename(columns={'address': 'adress_2012', 'exemption': 'exemption_2012', \\\n",
    "            'sc': 'sc_2012', 'scd': 'scd_2012', 'taxbill': 'taxbill_2012', 'valuation': 'valuation_2012', \\\n",
    "            'FYear': 'FY2012','tax': 'tax_2012','est_fd': 'est_fd_2012'})\n",
    "print(FY2012.shape)\n",
    "FY2012.head()"
   ]
  },
  {
   "cell_type": "markdown",
   "metadata": {},
   "source": [
    "#  Read EG FY2011 Real Estate Tax Roll  - assessed 12/31/2009"
   ]
  },
  {
   "cell_type": "code",
   "execution_count": null,
   "metadata": {},
   "outputs": [],
   "source": [
    "dd = {}\n",
    "dd['FYear']     = []  \n",
    "dd['parcel']    = []\n",
    "dd['address']   = []\n",
    "dd['sc']        = []\n",
    "dd['scd']       = []\n",
    "dd['valuation'] = []\n",
    "dd['exemption'] = []\n",
    "dd['tax']       = []\n",
    "dd['taxbill']   = []\n",
    "dd['est_fd']    = []\n",
    "\n",
    "with open(\"../EG_RE_Tax_Roll_assessed_12_31_2009.txt\", \"rt\") as in_file:\n",
    "    text = in_file.readlines()\n",
    "\n",
    "nprint = len(text)\n",
    "    \n",
    "fyear = '2011'\n",
    "\n",
    "for line in text[0:nprint]:\n",
    "    if (line.find('  RE ')>0):\n",
    "        words = line.split()\n",
    "        for word in words:\n",
    "            if ((word.count('-')>=3) & (len(word) > 13)):\n",
    "                parcel = word\n",
    "                address=line[line.index(word)+17:98]\n",
    "                REix = line.index(' RE ')\n",
    "                sc = line[(REix+4):(REix+6)]\n",
    "                scd    = line[(REix+6):line.index(word)]\n",
    "                valuation = line[99:109].replace(',', '').strip()\n",
    "                exemption = line[110:120].replace(',', '').strip()\n",
    "                if (exemption==''):\n",
    "                    exemption='0.0'\n",
    "                tax = line[121:133].replace(',', '').strip()\n",
    "    if (line.find('    TOTALS     ') > 0):\n",
    "        if (len(tax) > 0):                                #skip blank tax\n",
    "            taxbill = line[121:133].replace(',', '').strip()\n",
    "            dd['FYear'].append(fyear)\n",
    "            dd['taxbill'].append(pd.to_numeric(taxbill))\n",
    "            dd['parcel'].append(parcel)     \n",
    "            dd['sc'].append(sc)\n",
    "            dd['scd'].append(scd)\n",
    "            dd['address'].append(address)\n",
    "            dd['valuation'].append(pd.to_numeric(valuation))\n",
    "            dd['exemption'].append(pd.to_numeric(exemption))\n",
    "            dd['tax'].append(pd.to_numeric(tax))\n",
    "            dd['est_fd'].append(0.0)\n",
    "            tax = ''\n",
    "\n",
    "taxroll_FY2011 = pd.DataFrame.from_dict(dd)\n",
    "\n",
    "print(taxroll_FY2011.shape)\n",
    "\n",
    "print(len(taxroll_FY2011['parcel'].unique()))\n",
    "\n",
    "taxroll_FY2011.head()"
   ]
  },
  {
   "cell_type": "code",
   "execution_count": null,
   "metadata": {},
   "outputs": [],
   "source": [
    "taxroll_FY2011.groupby(taxroll_FY2011['FYear']).sum() #should be 44,295,783.76"
   ]
  },
  {
   "cell_type": "code",
   "execution_count": null,
   "metadata": {},
   "outputs": [],
   "source": [
    "FY2011 = taxroll_FY2011.rename(columns={'address': 'adress_2011', 'exemption': 'exemption_2011', \\\n",
    "            'sc': 'sc_2011', 'scd': 'scd_2011', 'taxbill': 'taxbill_2011', 'valuation': 'valuation_2011', \\\n",
    "            'FYear': 'FY2011','tax': 'tax_2011','est_fd': 'est_fd_2011'})\n",
    "print(FY2011.shape)\n",
    "FY2011.head()"
   ]
  },
  {
   "cell_type": "code",
   "execution_count": null,
   "metadata": {
    "collapsed": true
   },
   "outputs": [],
   "source": [
    "with open('../EG_taxroll.csv', 'a') as f:\n",
    "    taxroll_FY2011.to_csv(f, header=False)"
   ]
  },
  {
   "cell_type": "markdown",
   "metadata": {},
   "source": [
    "#  Read EG FY2010 Real Estate Tax Roll"
   ]
  },
  {
   "cell_type": "code",
   "execution_count": null,
   "metadata": {},
   "outputs": [],
   "source": [
    "dd = {}\n",
    "dd['FYear']     = []  \n",
    "dd['parcel']    = []\n",
    "dd['address']   = []\n",
    "dd['sc']        = []\n",
    "dd['scd']       = []\n",
    "dd['valuation'] = []\n",
    "dd['exemption'] = []\n",
    "dd['tax']       = []\n",
    "dd['taxbill']   = []\n",
    "dd['est_fd']    = []\n",
    "\n",
    "with open(\"../EG_RE_Tax_Roll_assessed_12_31_2008.txt\", \"rt\") as in_file:\n",
    "    text = in_file.readlines()\n",
    "\n",
    "nprint = len(text)\n",
    "    \n",
    "fyear = '2010'\n",
    "\n",
    "for line in text[0:nprint]:\n",
    "    if (line.find('  RE ')>0):\n",
    "        words = line.split()\n",
    "        for word in words:\n",
    "            if ((word.count('-')>=3) & (len(word) > 13)):\n",
    "                parcel = word\n",
    "                address=line[line.index(word)+17:98]\n",
    "                REix = line.index(' RE ')\n",
    "                sc = line[(REix+4):(REix+6)]\n",
    "                scd    = line[(REix+6):line.index(word)]\n",
    "                valuation = line[99:109].replace(',', '').strip()\n",
    "                exemption = line[110:120].replace(',', '').strip()\n",
    "                if (exemption==''):\n",
    "                    exemption='0.0'\n",
    "                tax = line[121:133].replace(',', '').strip()\n",
    "    if (line.find('    TOTALS     ') > 0):\n",
    "        if (len(tax) > 0):                                #skip blank tax\n",
    "            taxbill = line[121:133].replace(',', '').strip()\n",
    "            dd['FYear'].append(fyear)\n",
    "            dd['taxbill'].append(pd.to_numeric(taxbill))\n",
    "            dd['parcel'].append(parcel)     \n",
    "            dd['sc'].append(sc)\n",
    "            dd['scd'].append(scd)\n",
    "            dd['address'].append(address)\n",
    "            dd['valuation'].append(pd.to_numeric(valuation))\n",
    "            dd['exemption'].append(pd.to_numeric(exemption))\n",
    "            dd['tax'].append(pd.to_numeric(tax))\n",
    "            dd['est_fd'].append(0.0)\n",
    "            tax = ''\n",
    "\n",
    "taxroll_FY2010 = pd.DataFrame.from_dict(dd)\n",
    "\n",
    "print(taxroll_FY2010.shape)\n",
    "\n",
    "print(len(taxroll_FY2010['parcel'].unique()))\n",
    "\n",
    "taxroll_FY2010.head()"
   ]
  },
  {
   "cell_type": "code",
   "execution_count": null,
   "metadata": {},
   "outputs": [],
   "source": [
    "taxroll_FY2010.groupby(taxroll_FY2010['FYear']).sum() #should be 42,681,696.51"
   ]
  },
  {
   "cell_type": "code",
   "execution_count": null,
   "metadata": {
    "collapsed": true
   },
   "outputs": [],
   "source": [
    "with open('../EG_taxroll.csv', 'a') as f:\n",
    "    taxroll_FY2010.to_csv(f, header=False)"
   ]
  },
  {
   "cell_type": "code",
   "execution_count": null,
   "metadata": {},
   "outputs": [],
   "source": [
    "FY2010 = taxroll_FY2010.rename(columns={'address': 'adress_2010', 'exemption': 'exemption_2010', \\\n",
    "            'sc': 'sc_2010', 'scd': 'scd_2010', 'taxbill': 'taxbill_2010', 'valuation': 'valuation_2010', \\\n",
    "            'FYear': 'FY2010','tax': 'tax_2010','est_fd': 'est_fd_2010'})\n",
    "print(FY2010.shape)\n",
    "FY2010.head()"
   ]
  },
  {
   "cell_type": "markdown",
   "metadata": {},
   "source": [
    "#  Read EG FY2009 Real Estate Tax Roll - assessed 12/31/2007"
   ]
  },
  {
   "cell_type": "code",
   "execution_count": null,
   "metadata": {},
   "outputs": [],
   "source": [
    "dd = {}\n",
    "dd['FYear']     = []  \n",
    "dd['parcel']    = []\n",
    "dd['address']   = []\n",
    "dd['sc']        = []\n",
    "dd['scd']       = []\n",
    "dd['valuation'] = []\n",
    "dd['exemption'] = []\n",
    "dd['tax']       = []\n",
    "dd['taxbill']   = []\n",
    "dd['est_fd']    = []\n",
    "\n",
    "with open(\"../EG_RE_Tax_Roll_assessed_12_31_2007.txt\", \"rt\") as in_file:\n",
    "    text = in_file.readlines()\n",
    "\n",
    "nprint = len(text)\n",
    "    \n",
    "fyear = '2007'\n",
    "\n",
    "for line in text[0:nprint]:\n",
    "    if (line.find(' RE ')>0):\n",
    "        words = line.split()\n",
    "        for word in words:\n",
    "            if ((word.count('-')>=3) & (len(word) > 13)):\n",
    "                parcel = word\n",
    "                address=line[line.index(word)+17:98]\n",
    "                REix = line.index(' RE ')\n",
    "                sc = line[(REix+4):(REix+6)]\n",
    "                scd    = line[(REix+6):line.index(word)]\n",
    "                valuation = line[99:109].replace(',', '').strip()\n",
    "                exemption = line[110:120].replace(',', '').strip()\n",
    "                if (exemption==''):\n",
    "                    exemption='0.0'\n",
    "                tax = line[121:133].replace(',', '').strip()\n",
    "    if (line.find('    TOTALS     ') > 0):\n",
    "        if (len(tax) > 0):                                #skip blank tax\n",
    "            taxbill = line[121:133].replace(',', '').strip()\n",
    "            dd['FYear'].append(fyear)\n",
    "            dd['taxbill'].append(pd.to_numeric(taxbill))\n",
    "            dd['parcel'].append(parcel)     \n",
    "            dd['sc'].append(sc)\n",
    "            dd['scd'].append(scd)\n",
    "            dd['address'].append(address)\n",
    "            dd['valuation'].append(pd.to_numeric(valuation))\n",
    "            dd['exemption'].append(pd.to_numeric(exemption))\n",
    "            dd['tax'].append(pd.to_numeric(tax))\n",
    "            dd['est_fd'].append(0.0)\n",
    "            tax = ''\n",
    "\n",
    "taxroll_FY2009 = pd.DataFrame.from_dict(dd)\n",
    "\n",
    "print(taxroll_FY2009.shape)\n",
    "\n",
    "print(len(taxroll_FY2009['parcel'].unique()))\n",
    "\n",
    "taxroll_FY2009.head()"
   ]
  },
  {
   "cell_type": "code",
   "execution_count": null,
   "metadata": {},
   "outputs": [],
   "source": [
    "taxroll_FY2009.groupby(taxroll_FY2009['FYear']).sum()  #should be 40,700,582.51"
   ]
  },
  {
   "cell_type": "code",
   "execution_count": null,
   "metadata": {
    "collapsed": true
   },
   "outputs": [],
   "source": [
    "with open('../EG_taxroll.csv', 'a') as f:\n",
    "    taxroll_FY2009.to_csv(f, header=False)"
   ]
  },
  {
   "cell_type": "code",
   "execution_count": null,
   "metadata": {},
   "outputs": [],
   "source": [
    "FY2009 = taxroll_FY2009.rename(columns={'address': 'adress_2009', 'exemption': 'exemption_2009', \\\n",
    "            'sc': 'sc_2009', 'scd': 'scd_2009', 'taxbill': 'taxbill_2009', 'valuation': 'valuation_2009', \\\n",
    "            'FYear': 'FY2009','tax': 'tax_2009','est_fd': 'est_fd_2009'})\n",
    "print(FY2009.shape)\n",
    "FY2009.head()"
   ]
  },
  {
   "cell_type": "markdown",
   "metadata": {},
   "source": [
    "#  Read EG FY2008 Real Estate Tax Roll - assessed 12/31/2006"
   ]
  },
  {
   "cell_type": "code",
   "execution_count": null,
   "metadata": {},
   "outputs": [],
   "source": [
    "dd = {}\n",
    "dd['FYear']     = []  \n",
    "dd['parcel']    = []\n",
    "dd['address']   = []\n",
    "dd['sc']        = []\n",
    "dd['scd']       = []\n",
    "dd['valuation'] = []\n",
    "dd['exemption'] = []\n",
    "dd['tax']       = []\n",
    "dd['taxbill']   = []\n",
    "dd['est_fd']    = []\n",
    "\n",
    "with open(\"../EG_RE_Tax_Roll_assessed_12_31_2006.txt\", \"rt\") as in_file:\n",
    "    text = in_file.readlines()\n",
    "\n",
    "nprint = len(text)\n",
    "    \n",
    "fyear = '2008'\n",
    "\n",
    "for line in text[0:nprint]:\n",
    "    if (line.find(' RE ')>0):\n",
    "        words = line.split()\n",
    "        for word in words:\n",
    "            if ((word.count('-')>=3) & (len(word) > 13)):\n",
    "                parcel = word\n",
    "                address=line[line.index(word)+17:98]\n",
    "                REix = line.index(' RE ')\n",
    "                sc = line[(REix+4):(REix+6)]\n",
    "                scd    = line[(REix+6):line.index(word)]\n",
    "                valuation = line[99:109].replace(',', '').strip()\n",
    "                exemption = line[110:120].replace(',', '').strip()\n",
    "                if (exemption==''):\n",
    "                    exemption='0.0'\n",
    "                tax = line[121:133].replace(',', '').strip()\n",
    "    if (line.find('    TOTALS     ') > 0):\n",
    "        if (len(tax) > 0):                                #skip blank tax\n",
    "            taxbill = line[121:133].replace(',', '').strip()\n",
    "            dd['FYear'].append(fyear)\n",
    "            dd['taxbill'].append(pd.to_numeric(taxbill))\n",
    "            dd['parcel'].append(parcel)     \n",
    "            dd['sc'].append(sc)\n",
    "            dd['scd'].append(scd)\n",
    "            dd['address'].append(address)\n",
    "            dd['valuation'].append(pd.to_numeric(valuation))\n",
    "            dd['exemption'].append(pd.to_numeric(exemption))\n",
    "            dd['tax'].append(pd.to_numeric(tax))\n",
    "            dd['est_fd'].append(0.0)\n",
    "            tax = ''\n",
    "\n",
    "taxroll_FY2008 = pd.DataFrame.from_dict(dd)\n",
    "\n",
    "print(taxroll_FY2008.shape)\n",
    "\n",
    "print(len(taxroll_FY2008['parcel'].unique()))\n",
    "\n",
    "taxroll_FY2008.head()"
   ]
  },
  {
   "cell_type": "code",
   "execution_count": null,
   "metadata": {},
   "outputs": [],
   "source": [
    "np = taxroll_FY2008.groupby(taxroll_FY2008['parcel']).count()\n",
    "np\n",
    "#D00-312-100-C000 and D00-312-100-R000 appear 4 and 3 times, respectively, with no tax paid"
   ]
  },
  {
   "cell_type": "code",
   "execution_count": null,
   "metadata": {},
   "outputs": [],
   "source": [
    "taxroll_FY2008.groupby(taxroll_FY2008['FYear']).sum() #should be 38,575,355.70"
   ]
  },
  {
   "cell_type": "code",
   "execution_count": null,
   "metadata": {
    "collapsed": true
   },
   "outputs": [],
   "source": [
    "with open('../EG_taxroll.csv', 'a') as f:\n",
    "    taxroll_FY2008.to_csv(f, header=False)"
   ]
  },
  {
   "cell_type": "code",
   "execution_count": null,
   "metadata": {},
   "outputs": [],
   "source": [
    "FY2008 = taxroll_FY2008.rename(columns={'address': 'adress_2008', 'exemption': 'exemption_2008', \\\n",
    "            'sc': 'sc_2008', 'scd': 'scd_2008', 'taxbill': 'taxbill_2008', 'valuation': 'valuation_2008', \\\n",
    "            'FYear': 'FY2008','tax': 'tax_2008','est_fd': 'est_fd_2008'})\n",
    "print(FY2008.shape)\n",
    "FY2008.head()"
   ]
  },
  {
   "cell_type": "markdown",
   "metadata": {},
   "source": [
    "#  Read EG FY2007 Real Estate Tax Roll - assessed 12/31/2005"
   ]
  },
  {
   "cell_type": "code",
   "execution_count": null,
   "metadata": {},
   "outputs": [],
   "source": [
    "dd = {}\n",
    "dd['FYear']     = []  \n",
    "dd['parcel']    = []\n",
    "dd['address']   = []\n",
    "dd['sc']        = []\n",
    "dd['scd']       = []\n",
    "dd['valuation'] = []\n",
    "dd['exemption'] = []\n",
    "dd['tax']       = []\n",
    "dd['taxbill']   = []\n",
    "dd['est_fd']    = []\n",
    "\n",
    "with open(\"../EG_RE_Tax_Roll_assessed_12_31_2005.txt\", \"rt\") as in_file:\n",
    "    text = in_file.readlines()\n",
    "\n",
    "nprint = len(text)\n",
    "    \n",
    "fyear   = '2007'\n",
    "fd_rate = 1.41\n",
    "taxrate = 12.86\n",
    "\n",
    "for line in text[0:nprint]:\n",
    "    if (line.find(' RE ')>0):\n",
    "        words = line.split()\n",
    "        for word in words:\n",
    "            if ((word.count('-')>=3) & (len(word) > 13)):\n",
    "                parcel = word\n",
    "                address=line[line.index(word)+17:98]\n",
    "                REix = line.index(' RE ')\n",
    "                sc = line[(REix+4):(REix+6)]\n",
    "                scd    = line[(REix+6):line.index(word)]\n",
    "                valuation = line[99:109].replace(',', '').strip()\n",
    "                exemption = line[110:120].replace(',', '').strip()\n",
    "                if (exemption==''):\n",
    "                    exemption='0.0'\n",
    "                tax = line[121:133].replace(',', '').strip()\n",
    "    if (line.find('    TOTALS     ') > 0):\n",
    "        if (len(tax) > 0):                                #skip blank tax\n",
    "            taxbill = line[121:133].replace(',', '').strip()\n",
    "            dd['FYear'].append(fyear)\n",
    "            dd['taxbill'].append(pd.to_numeric(taxbill))\n",
    "            dd['parcel'].append(parcel)     \n",
    "            dd['sc'].append(sc)\n",
    "            dd['scd'].append(scd)\n",
    "            dd['address'].append(address)\n",
    "            dd['valuation'].append(pd.to_numeric(valuation))\n",
    "            dd['exemption'].append(pd.to_numeric(exemption))\n",
    "            dd['tax'].append(pd.to_numeric(tax))\n",
    "            dd['est_fd'].append(fd_rate*pd.to_numeric(taxbill)/taxrate)\n",
    "            tax = ''\n",
    "\n",
    "taxroll_FY2007 = pd.DataFrame.from_dict(dd)\n",
    "\n",
    "print(taxroll_FY2007.shape)\n",
    "\n",
    "print(len(taxroll_FY2007['parcel'].unique()))\n",
    "\n",
    "taxroll_FY2007.head()"
   ]
  },
  {
   "cell_type": "code",
   "execution_count": null,
   "metadata": {},
   "outputs": [],
   "source": [
    "taxroll_FY2007.groupby(taxroll_FY2007['FYear']).sum() #should be 32,440,843.44"
   ]
  },
  {
   "cell_type": "code",
   "execution_count": null,
   "metadata": {
    "collapsed": true
   },
   "outputs": [],
   "source": [
    "with open('../EG_taxroll.csv', 'a') as f:\n",
    "    taxroll_FY2007.to_csv(f, header=False)"
   ]
  },
  {
   "cell_type": "code",
   "execution_count": null,
   "metadata": {},
   "outputs": [],
   "source": [
    "FY2007 = taxroll_FY2007.rename(columns={'address': 'adress_2007', 'exemption': 'exemption_2007', \\\n",
    "            'sc': 'sc_2007', 'scd': 'scd_2007', 'taxbill': 'taxbill_2007', 'valuation': 'valuation_2007', \\\n",
    "            'FYear': 'FY2007','tax': 'tax_2007','est_fd': 'est_fd_2007'})\n",
    "print(FY2007.shape)\n",
    "FY2007.head()"
   ]
  },
  {
   "cell_type": "markdown",
   "metadata": {},
   "source": [
    "#  Read EG FY2006 Real Estate Tax Roll - assessed 12/31/2004"
   ]
  },
  {
   "cell_type": "code",
   "execution_count": null,
   "metadata": {},
   "outputs": [],
   "source": [
    "dd = {}\n",
    "dd['FYear']     = []  \n",
    "dd['parcel']    = []\n",
    "dd['address']   = []\n",
    "dd['sc']        = []\n",
    "dd['scd']       = []\n",
    "dd['valuation'] = []\n",
    "dd['exemption'] = []\n",
    "dd['tax']       = []\n",
    "dd['taxbill']   = []\n",
    "dd['est_fd']    = []\n",
    "\n",
    "with open(\"../EG_RE_Tax_Roll_assessed_12_31_2004.txt\", \"rt\") as in_file:\n",
    "    text = in_file.readlines()\n",
    "\n",
    "nprint = len(text)\n",
    "    \n",
    "fyear   = '2006'\n",
    "fd_rate = 1.95\n",
    "taxrate = 18.33\n",
    "\n",
    "for line in text[0:nprint]:\n",
    "    if (line.find(' RE ')>0):\n",
    "        words = line.split()\n",
    "        for word in words:\n",
    "            if ((word.count('-')>=3) & (len(word) > 13)):\n",
    "                parcel = word\n",
    "                address=line[line.index(word)+17:98]\n",
    "                REix = line.index(' RE ')\n",
    "                sc = line[(REix+4):(REix+6)]\n",
    "                scd    = line[(REix+6):line.index(word)]\n",
    "                valuation = line[99:109].replace(',', '').strip()\n",
    "                exemption = line[110:120].replace(',', '').strip()\n",
    "                if (exemption==''):\n",
    "                    exemption='0.0'\n",
    "                tax = line[121:133].replace(',', '').strip()\n",
    "    if (line.find('    TOTALS     ') > 0):\n",
    "        if (len(tax) > 0):                                #skip blank tax\n",
    "            taxbill = line[121:133].replace(',', '').strip()\n",
    "            dd['FYear'].append(fyear)\n",
    "            dd['taxbill'].append(pd.to_numeric(taxbill))\n",
    "            dd['parcel'].append(parcel)     \n",
    "            dd['sc'].append(sc)\n",
    "            dd['scd'].append(scd)\n",
    "            dd['address'].append(address)\n",
    "            dd['valuation'].append(pd.to_numeric(valuation))\n",
    "            dd['exemption'].append(pd.to_numeric(exemption))\n",
    "            dd['tax'].append(pd.to_numeric(tax))\n",
    "            dd['est_fd'].append(fd_rate*pd.to_numeric(taxbill)/taxrate)\n",
    "            tax = ''\n",
    "\n",
    "taxroll_FY2006 = pd.DataFrame.from_dict(dd)\n",
    "\n",
    "print(taxroll_FY2006.shape)\n",
    "\n",
    "print(len(taxroll_FY2006['parcel'].unique()))\n",
    "\n",
    "taxroll_FY2006.head()"
   ]
  },
  {
   "cell_type": "code",
   "execution_count": null,
   "metadata": {},
   "outputs": [],
   "source": [
    "taxroll_FY2006.groupby(taxroll_FY2006['FYear']).sum() #should be 31,506,134.02"
   ]
  },
  {
   "cell_type": "code",
   "execution_count": null,
   "metadata": {
    "collapsed": true
   },
   "outputs": [],
   "source": [
    "with open('../EG_taxroll.csv', 'a') as f:\n",
    "    taxroll_FY2006.to_csv(f, header=False)"
   ]
  },
  {
   "cell_type": "code",
   "execution_count": null,
   "metadata": {},
   "outputs": [],
   "source": [
    "FY2006 = taxroll_FY2006.rename(columns={'address': 'adress_2006', 'exemption': 'exemption_2006', \\\n",
    "            'sc': 'sc_2006', 'scd': 'scd_2006', 'taxbill': 'taxbill_2006', 'valuation': 'valuation_2006', \\\n",
    "            'FYear': 'FY2006','tax': 'tax_2006','est_fd': 'est_fd_2006'})\n",
    "print(FY2006.shape)\n",
    "FY2006.head()"
   ]
  },
  {
   "cell_type": "markdown",
   "metadata": {},
   "source": [
    "#  Read EG FY2005 Real Estate Tax Roll - assessed 12/31/2003"
   ]
  },
  {
   "cell_type": "code",
   "execution_count": null,
   "metadata": {},
   "outputs": [],
   "source": [
    "dd = {}\n",
    "dd['FYear']     = []  \n",
    "dd['parcel']    = []\n",
    "dd['address']   = []\n",
    "dd['sc']        = []\n",
    "dd['scd']       = []\n",
    "dd['valuation'] = []\n",
    "dd['exemption'] = []\n",
    "dd['tax']       = []\n",
    "dd['taxbill']   = []\n",
    "dd['est_fd']    = []\n",
    "\n",
    "with open(\"../EG_RE_Tax_Roll_assessed_12_31_2003.txt\", \"rt\") as in_file:\n",
    "    text = in_file.readlines()\n",
    "\n",
    "nprint = len(text)\n",
    "    \n",
    "fyear = '2005'\n",
    "fd_rate = 1.68\n",
    "taxrate = 17.91\n",
    "\n",
    "for line in text[0:nprint]:\n",
    "    if (line.find(' RE ')>0):\n",
    "        words = line.split()\n",
    "        for word in words:\n",
    "            if ((word.count('-')>=3) & (len(word) > 13)):\n",
    "                parcel = word\n",
    "                address=line[line.index(word)+17:98]\n",
    "                REix = line.index(' RE ')\n",
    "                sc = line[(REix+4):(REix+6)]\n",
    "                scd    = line[(REix+6):line.index(word)]\n",
    "                valuation = line[99:109].replace(',', '').strip()\n",
    "                exemption = line[110:120].replace(',', '').strip()\n",
    "                if (exemption==''):\n",
    "                    exemption='0.0'\n",
    "                tax = line[121:133].replace(',', '').strip()\n",
    "    if (line.find('    TOTALS     ') > 0):\n",
    "        if (len(tax) > 0):                                #skip blank tax\n",
    "            taxbill = line[121:133].replace(',', '').strip()\n",
    "            dd['FYear'].append(fyear)\n",
    "            dd['taxbill'].append(pd.to_numeric(taxbill))\n",
    "            dd['parcel'].append(parcel)     \n",
    "            dd['sc'].append(sc)\n",
    "            dd['scd'].append(scd)\n",
    "            dd['address'].append(address)\n",
    "            dd['valuation'].append(pd.to_numeric(valuation))\n",
    "            dd['exemption'].append(pd.to_numeric(exemption))\n",
    "            dd['tax'].append(pd.to_numeric(tax))\n",
    "            dd['est_fd'].append(fd_rate*pd.to_numeric(taxbill)/taxrate)\n",
    "            tax = ''\n",
    "\n",
    "taxroll_FY2005 = pd.DataFrame.from_dict(dd)\n",
    "\n",
    "print(taxroll_FY2005.shape)\n",
    "\n",
    "print(len(taxroll_FY2005['parcel'].unique()))\n",
    "\n",
    "taxroll_FY2005.head()"
   ]
  },
  {
   "cell_type": "code",
   "execution_count": null,
   "metadata": {},
   "outputs": [],
   "source": [
    "taxroll_FY2005.groupby(taxroll_FY2005['FYear']).sum()  #should be 29,908,445.80"
   ]
  },
  {
   "cell_type": "code",
   "execution_count": null,
   "metadata": {
    "collapsed": true
   },
   "outputs": [],
   "source": [
    "with open('../EG_taxroll.csv', 'a') as f:\n",
    "    taxroll_FY2005.to_csv(f, header=False)"
   ]
  },
  {
   "cell_type": "code",
   "execution_count": null,
   "metadata": {},
   "outputs": [],
   "source": [
    "FY2005 = taxroll_FY2005.rename(columns={'address': 'adress_2005', 'exemption': 'exemption_2005', \\\n",
    "            'sc': 'sc_2005', 'scd': 'scd_2005', 'taxbill': 'taxbill_2005', 'valuation': 'valuation_2005', \\\n",
    "            'FYear': 'FY2005','tax': 'tax_2005','est_fd': 'est_fd_2005'})\n",
    "print(FY2005.shape)\n",
    "FY2005.head()"
   ]
  },
  {
   "cell_type": "markdown",
   "metadata": {},
   "source": [
    "#  Read EG FY2004 Real Estate Tax Roll - assessed 12/31/2002"
   ]
  },
  {
   "cell_type": "code",
   "execution_count": null,
   "metadata": {},
   "outputs": [],
   "source": [
    "dd = {}\n",
    "dd['FYear']     = []  \n",
    "dd['parcel']    = []\n",
    "dd['address']   = []\n",
    "dd['sc']        = []\n",
    "dd['scd']       = []\n",
    "dd['valuation'] = []\n",
    "dd['exemption'] = []\n",
    "dd['tax']       = []\n",
    "dd['taxbill']   = []\n",
    "dd['est_fd']    = []\n",
    "\n",
    "with open(\"../EG_RE_Tax_Roll_assessed_12_31_2002.txt\", \"rt\") as in_file:\n",
    "    text = in_file.readlines()\n",
    "\n",
    "nprint = len(text)\n",
    "    \n",
    "fyear = '2004'\n",
    "fd_rate = 1.54\n",
    "taxrate = 17.14\n",
    "\n",
    "for line in text[0:nprint]:\n",
    "    if (line.find(' RE ')>0):\n",
    "        words = line.split()\n",
    "        for word in words:\n",
    "            if ((word.count('-')>=3) & (len(word) > 13)):\n",
    "                parcel = word\n",
    "                address=line[line.index(word)+17:98]\n",
    "                REix = line.index(' RE ')\n",
    "                sc = line[(REix+4):(REix+6)]\n",
    "                scd    = line[(REix+6):line.index(word)]\n",
    "                valuation = line[99:109].replace(',', '').strip()\n",
    "                exemption = line[110:120].replace(',', '').strip()\n",
    "                if (exemption==''):\n",
    "                    exemption='0.0'\n",
    "                tax = line[121:133].replace(',', '').strip()\n",
    "    if (line.find('    TOTALS     ') > 0):\n",
    "        if (len(tax) > 0):                                #skip blank tax\n",
    "            taxbill = line[121:133].replace(',', '').strip()\n",
    "            dd['FYear'].append(fyear)\n",
    "            dd['taxbill'].append(pd.to_numeric(taxbill))\n",
    "            dd['parcel'].append(parcel)     \n",
    "            dd['sc'].append(sc)\n",
    "            dd['scd'].append(scd)\n",
    "            dd['address'].append(address)\n",
    "            dd['valuation'].append(pd.to_numeric(valuation))\n",
    "            dd['exemption'].append(pd.to_numeric(exemption))\n",
    "            dd['tax'].append(pd.to_numeric(tax))\n",
    "            dd['est_fd'].append(fd_rate*pd.to_numeric(taxbill)/taxrate)\n",
    "            tax = ''\n",
    "\n",
    "taxroll_FY2004 = pd.DataFrame.from_dict(dd)\n",
    "\n",
    "print(taxroll_FY2004.shape)\n",
    "\n",
    "print(len(taxroll_FY2004['parcel'].unique()))\n",
    "\n",
    "taxroll_FY2004.head()"
   ]
  },
  {
   "cell_type": "code",
   "execution_count": null,
   "metadata": {},
   "outputs": [],
   "source": [
    "taxroll_FY2004.groupby(taxroll_FY2004['FYear']).sum() #should be 28,156,848.02"
   ]
  },
  {
   "cell_type": "code",
   "execution_count": null,
   "metadata": {
    "collapsed": true
   },
   "outputs": [],
   "source": [
    "with open('../EG_taxroll.csv', 'a') as f:\n",
    "    taxroll_FY2004.to_csv(f, header=False)"
   ]
  },
  {
   "cell_type": "code",
   "execution_count": null,
   "metadata": {},
   "outputs": [],
   "source": [
    "FY2004 = taxroll_FY2004.rename(columns={'address': 'adress_2004', 'exemption': 'exemption_2004', \\\n",
    "            'sc': 'sc_2004', 'scd': 'scd_2004', 'taxbill': 'taxbill_2004', 'valuation': 'valuation_2004', \\\n",
    "            'FYear': 'FY2004','tax': 'tax_2004','est_fd': 'est_fd_2004'})\n",
    "print(FY2004.shape)\n",
    "FY2004.head()"
   ]
  },
  {
   "cell_type": "markdown",
   "metadata": {},
   "source": [
    "#  Read EG FY2003 Real Estate Tax Roll - assessed 12/31/2001"
   ]
  },
  {
   "cell_type": "code",
   "execution_count": null,
   "metadata": {},
   "outputs": [],
   "source": [
    "dd = {}\n",
    "dd['FYear']     = []  \n",
    "dd['parcel']    = []\n",
    "dd['address']   = []\n",
    "dd['sc']        = []\n",
    "dd['scd']       = []\n",
    "dd['valuation'] = []\n",
    "dd['exemption'] = []\n",
    "dd['tax']       = []\n",
    "dd['taxbill']   = []\n",
    "dd['est_fd']    = []\n",
    "\n",
    "with open(\"../EG_RE_Tax_Roll_assessed_12_31_2001.txt\", \"rt\") as in_file:\n",
    "    text = in_file.readlines()\n",
    "\n",
    "nprint = len(text)\n",
    "    \n",
    "fyear = '2003'\n",
    "fd_rate = 2.46\n",
    "taxrate = 27.58\n",
    "\n",
    "for line in text[0:nprint]:\n",
    "    if (line.find(' RE ')>0):\n",
    "        words = line.split()\n",
    "        for word in words:\n",
    "            if ((word.count('-')>=3) & (len(word) > 13)):\n",
    "                parcel = word\n",
    "                address=line[line.index(word)+17:98]\n",
    "                REix = line.index(' RE ')\n",
    "                sc = line[(REix+4):(REix+6)]\n",
    "                scd    = line[(REix+6):line.index(word)]\n",
    "                valuation = line[99:109].replace(',', '').strip()\n",
    "                exemption = line[110:120].replace(',', '').strip()\n",
    "                if (exemption==''):\n",
    "                    exemption='0.0'\n",
    "                tax = line[121:133].replace(',', '').strip()\n",
    "    if (line.find('    TOTALS     ') > 0):\n",
    "        if (len(tax) > 0):                                #skip blank tax\n",
    "            taxbill = line[121:133].replace(',', '').strip()\n",
    "            dd['FYear'].append(fyear)\n",
    "            dd['taxbill'].append(pd.to_numeric(taxbill))\n",
    "            dd['parcel'].append(parcel)     \n",
    "            dd['sc'].append(sc)\n",
    "            dd['scd'].append(scd)\n",
    "            dd['address'].append(address)\n",
    "            dd['valuation'].append(pd.to_numeric(valuation))\n",
    "            dd['exemption'].append(pd.to_numeric(exemption))\n",
    "            dd['tax'].append(pd.to_numeric(tax))\n",
    "            dd['est_fd'].append(fd_rate*pd.to_numeric(taxbill)/taxrate)\n",
    "            tax = ''\n",
    "\n",
    "taxroll_FY2003 = pd.DataFrame.from_dict(dd)\n",
    "\n",
    "print(taxroll_FY2003.shape)\n",
    "\n",
    "print(len(taxroll_FY2003['parcel'].unique()))\n",
    "\n",
    "taxroll_FY2003.head()"
   ]
  },
  {
   "cell_type": "code",
   "execution_count": null,
   "metadata": {},
   "outputs": [],
   "source": [
    "taxroll_FY2003.groupby(taxroll_FY2003['FYear']).sum()  #should be 25,979,701.21"
   ]
  },
  {
   "cell_type": "code",
   "execution_count": null,
   "metadata": {
    "collapsed": true
   },
   "outputs": [],
   "source": [
    "with open('../EG_taxroll.csv', 'a') as f:\n",
    "    taxroll_FY2003.to_csv(f, header=False)"
   ]
  },
  {
   "cell_type": "code",
   "execution_count": null,
   "metadata": {},
   "outputs": [],
   "source": [
    "FY2003 = taxroll_FY2003.rename(columns={'address': 'adress_2003', 'exemption': 'exemption_2003', \\\n",
    "            'sc': 'sc_2003', 'scd': 'scd_2003', 'taxbill': 'taxbill_2003', 'valuation': 'valuation_2003', \\\n",
    "            'FYear': 'FY2003','tax': 'tax_2003','est_fd': 'est_fd_2003'})\n",
    "print(FY2003.shape)\n",
    "FY2003.head()"
   ]
  },
  {
   "cell_type": "markdown",
   "metadata": {},
   "source": [
    "#  Read EG FY2002 Real Estate Tax Roll - assessed 12/31/2000"
   ]
  },
  {
   "cell_type": "code",
   "execution_count": null,
   "metadata": {},
   "outputs": [],
   "source": [
    "dd = {}\n",
    "dd['FYear']     = []  \n",
    "dd['parcel']    = []\n",
    "dd['address']   = []\n",
    "dd['sc']        = []\n",
    "dd['scd']       = []\n",
    "dd['valuation'] = []\n",
    "dd['exemption'] = []\n",
    "dd['tax']       = []\n",
    "dd['taxbill']   = []\n",
    "dd['est_fd']    = []\n",
    "\n",
    "with open(\"../EG_RE_Tax_Roll_assessed_12_31_2000.txt\", \"rt\") as in_file:\n",
    "    text = in_file.readlines()\n",
    "\n",
    "nprint = len(text)\n",
    "    \n",
    "fyear = '2002'\n",
    "fd_rate = 2.33\n",
    "taxrate = 27.59\n",
    "\n",
    "for line in text[0:nprint]:\n",
    "    if (line.find(' RE ')>0):\n",
    "        words = line.split()\n",
    "        for word in words:\n",
    "            if ((word.count('-')>=3) & (len(word) > 13)):\n",
    "                parcel = word\n",
    "                address=line[line.index(word)+17:98]\n",
    "                REix = line.index(' RE ')\n",
    "                sc = line[(REix+4):(REix+6)]\n",
    "                scd    = line[(REix+6):line.index(word)]\n",
    "                valuation = line[99:109].replace(',', '').strip()\n",
    "                exemption = line[110:120].replace(',', '').strip()\n",
    "                if (exemption==''):\n",
    "                    exemption='0.0'\n",
    "                tax = line[121:133].replace(',', '').strip()\n",
    "    if (line.find('    TOTALS     ') > 0):\n",
    "        if (len(tax) > 0):                                #skip blank tax\n",
    "            taxbill = line[121:133].replace(',', '').strip()\n",
    "            dd['FYear'].append(fyear)\n",
    "            dd['taxbill'].append(pd.to_numeric(taxbill))\n",
    "            dd['parcel'].append(parcel)     \n",
    "            dd['sc'].append(sc)\n",
    "            dd['scd'].append(scd)\n",
    "            dd['address'].append(address)\n",
    "            dd['valuation'].append(pd.to_numeric(valuation))\n",
    "            dd['exemption'].append(pd.to_numeric(exemption))\n",
    "            dd['tax'].append(pd.to_numeric(tax))\n",
    "            dd['est_fd'].append(fd_rate*pd.to_numeric(taxbill)/taxrate)\n",
    "            tax = ''\n",
    "\n",
    "taxroll_FY2002 = pd.DataFrame.from_dict(dd)\n",
    "\n",
    "print(taxroll_FY2002.shape)\n",
    "\n",
    "print(len(taxroll_FY2002['parcel'].unique()))\n",
    "\n",
    "taxroll_FY2002.head()"
   ]
  },
  {
   "cell_type": "code",
   "execution_count": null,
   "metadata": {},
   "outputs": [],
   "source": [
    "taxroll_FY2002.groupby(taxroll_FY2002['FYear']).sum()  #should be 25,292,770.51"
   ]
  },
  {
   "cell_type": "code",
   "execution_count": null,
   "metadata": {
    "collapsed": true
   },
   "outputs": [],
   "source": [
    "with open('../EG_taxroll.csv', 'a') as f:\n",
    "    taxroll_FY2002.to_csv(f, header=False)"
   ]
  },
  {
   "cell_type": "code",
   "execution_count": null,
   "metadata": {},
   "outputs": [],
   "source": [
    "FY2002 = taxroll_FY2002.rename(columns={'address': 'adress_2002', 'exemption': 'exemption_2002', \\\n",
    "            'sc': 'sc_2002', 'scd': 'scd_2002', 'taxbill': 'taxbill_2002', 'valuation': 'valuation_2002', \\\n",
    "            'FYear': 'FY2002','tax': 'tax_2002','est_fd': 'est_fd_2002'})\n",
    "print(FY2002.shape)\n",
    "FY2002.head()"
   ]
  },
  {
   "cell_type": "markdown",
   "metadata": {},
   "source": [
    "#  Read EG FY2001 Real Estate Tax Roll - assessed 12/31/1999"
   ]
  },
  {
   "cell_type": "code",
   "execution_count": null,
   "metadata": {},
   "outputs": [],
   "source": [
    "dd = {}\n",
    "dd['FYear']     = []  \n",
    "dd['parcel']    = []\n",
    "dd['address']   = []\n",
    "dd['sc']        = []\n",
    "dd['scd']       = []\n",
    "dd['valuation'] = []\n",
    "dd['exemption'] = []\n",
    "dd['tax']       = []\n",
    "dd['taxbill']   = []\n",
    "dd['est_fd']    = []\n",
    "\n",
    "with open(\"../EG_RE_Tax_Roll_assessed_12_31_1999.txt\", \"rt\") as in_file:\n",
    "    text = in_file.readlines()\n",
    "\n",
    "nprint = len(text)\n",
    "    \n",
    "fyear = '2001'\n",
    "fd_rate = 2.37\n",
    "taxrate = 26.79\n",
    "\n",
    "\n",
    "for line in text[0:nprint]:\n",
    "    if (line.find(' RE ')>0):\n",
    "        words = line.split()\n",
    "        for word in words:\n",
    "            if ((word.count('-')>=3) & (len(word) > 13)):\n",
    "                parcel = word\n",
    "                address=line[line.index(word)+17:98]\n",
    "                REix = line.index(' RE ')\n",
    "                sc = line[(REix+4):(REix+6)]\n",
    "                scd    = line[(REix+6):line.index(word)]\n",
    "                valuation = line[99:109].replace(',', '').strip()\n",
    "                exemption = line[110:120].replace(',', '').strip()\n",
    "                if (exemption==''):\n",
    "                    exemption='0.0'\n",
    "                tax = line[121:133].replace(',', '').strip()\n",
    "    if (line.find('    TOTALS     ') > 0):\n",
    "        if (len(tax) > 0):                                #skip blank tax\n",
    "            taxbill = line[121:133].replace(',', '').strip()\n",
    "            dd['FYear'].append(fyear)\n",
    "            dd['taxbill'].append(pd.to_numeric(taxbill))\n",
    "            dd['parcel'].append(parcel)     \n",
    "            dd['sc'].append(sc)\n",
    "            dd['scd'].append(scd)\n",
    "            dd['address'].append(address)\n",
    "            dd['valuation'].append(pd.to_numeric(valuation))\n",
    "            dd['exemption'].append(pd.to_numeric(exemption))\n",
    "            dd['tax'].append(pd.to_numeric(tax))\n",
    "            dd['est_fd'].append(fd_rate*pd.to_numeric(taxbill)/taxrate)\n",
    "            tax = ''\n",
    "\n",
    "taxroll_FY2001 = pd.DataFrame.from_dict(dd)\n",
    "\n",
    "print(taxroll_FY2001.shape)\n",
    "\n",
    "print(len(taxroll_FY2001['parcel'].unique()))\n",
    "\n",
    "taxroll_FY2001.head()"
   ]
  },
  {
   "cell_type": "code",
   "execution_count": null,
   "metadata": {},
   "outputs": [],
   "source": [
    "taxroll_FY2001.groupby(taxroll_FY2001['FYear']).sum()  #should be 24,037,334.75"
   ]
  },
  {
   "cell_type": "code",
   "execution_count": null,
   "metadata": {
    "collapsed": true
   },
   "outputs": [],
   "source": [
    "with open('../EG_taxroll.csv', 'a') as f:\n",
    "    taxroll_FY2001.to_csv(f, header=False)"
   ]
  },
  {
   "cell_type": "code",
   "execution_count": null,
   "metadata": {},
   "outputs": [],
   "source": [
    "FY2001 = taxroll_FY2001.rename(columns={'address': 'adress_2001', 'exemption': 'exemption_2001', \\\n",
    "            'sc': 'sc_2001', 'scd': 'scd_2001', 'taxbill': 'taxbill_2001', 'valuation': 'valuation_2001', \\\n",
    "            'FYear': 'FY2001','tax': 'tax_2001','est_fd': 'est_fd_2001'})\n",
    "print(FY2001.shape)\n",
    "FY2001.head()"
   ]
  },
  {
   "cell_type": "markdown",
   "metadata": {},
   "source": [
    "#  Read EG FY2000 Real Estate Tax Roll - assessed 12/31/1998"
   ]
  },
  {
   "cell_type": "code",
   "execution_count": null,
   "metadata": {},
   "outputs": [],
   "source": [
    "dd = {}\n",
    "dd['FYear']     = []  \n",
    "dd['parcel']    = []\n",
    "dd['address']   = []\n",
    "dd['sc']        = []\n",
    "dd['scd']       = []\n",
    "dd['valuation'] = []\n",
    "dd['exemption'] = []\n",
    "dd['tax']       = []\n",
    "dd['taxbill']   = []\n",
    "dd['est_fd']    = []\n",
    "\n",
    "with open(\"../EG_RE_Tax_Roll_assessed_12_31_1998.txt\", \"rt\") as in_file:\n",
    "    text = in_file.readlines()\n",
    "\n",
    "nprint = len(text)\n",
    "    \n",
    "fyear = '2000'\n",
    "fd_rate = 2.39\n",
    "taxrate = 24.84\n",
    "\n",
    "for line in text[0:nprint]:\n",
    "    if (line.find(' RE ')>0):\n",
    "        words = line.split()\n",
    "        for word in words:\n",
    "            if ((word.count('-')>=3) & (len(word) > 13)):\n",
    "                parcel = word\n",
    "                address=line[line.index(word)+17:98]\n",
    "                REix = line.index(' RE ')\n",
    "                sc = line[(REix+4):(REix+6)]\n",
    "                scd    = line[(REix+6):line.index(word)]\n",
    "                valuation = line[99:109].replace(',', '').strip()\n",
    "                exemption = line[110:120].replace(',', '').strip()\n",
    "                if (exemption==''):\n",
    "                    exemption='0.0'\n",
    "                tax = line[121:133].replace(',', '').strip()\n",
    "    if (line.find('    TOTALS     ') > 0):\n",
    "        if (len(tax) > 0):                                #skip blank tax\n",
    "            taxbill = line[121:133].replace(',', '').strip()\n",
    "            dd['FYear'].append(fyear)\n",
    "            dd['taxbill'].append(pd.to_numeric(taxbill))\n",
    "            dd['parcel'].append(parcel)     \n",
    "            dd['sc'].append(sc)\n",
    "            dd['scd'].append(scd)\n",
    "            dd['address'].append(address)\n",
    "            dd['valuation'].append(pd.to_numeric(valuation))\n",
    "            dd['exemption'].append(pd.to_numeric(exemption))\n",
    "            dd['tax'].append(pd.to_numeric(tax))\n",
    "            dd['est_fd'].append(fd_rate*pd.to_numeric(taxbill)/taxrate)\n",
    "            tax = ''\n",
    "\n",
    "taxroll_FY2000 = pd.DataFrame.from_dict(dd)\n",
    "\n",
    "print(taxroll_FY2000.shape)\n",
    "\n",
    "print(len(taxroll_FY2000['parcel'].unique()))\n",
    "\n",
    "taxroll_FY2000.head()"
   ]
  },
  {
   "cell_type": "code",
   "execution_count": null,
   "metadata": {},
   "outputs": [],
   "source": [
    "taxroll_FY2000.groupby(taxroll_FY2000['FYear']).sum()  #should be 21,748,204.92"
   ]
  },
  {
   "cell_type": "code",
   "execution_count": null,
   "metadata": {
    "collapsed": true
   },
   "outputs": [],
   "source": [
    "with open('../EG_taxroll.csv', 'a') as f:\n",
    "    taxroll_FY2000.to_csv(f, header=False)"
   ]
  },
  {
   "cell_type": "code",
   "execution_count": null,
   "metadata": {},
   "outputs": [],
   "source": [
    "FY2000 = taxroll_FY2000.rename(columns={'address': 'adress_2000', 'exemption': 'exemption_2000', \\\n",
    "            'sc': 'sc_2000', 'scd': 'scd_2000', 'taxbill': 'taxbill_2000', 'valuation': 'valuation_2000', \\\n",
    "            'FYear': 'FY2000','tax': 'tax_2000','est_fd': 'est_fd_2000'})\n",
    "print(FY2000.shape)\n",
    "FY2000.head()"
   ]
  },
  {
   "cell_type": "markdown",
   "metadata": {},
   "source": [
    "### Merge FY2000 and FY2001 by parcel"
   ]
  },
  {
   "cell_type": "code",
   "execution_count": null,
   "metadata": {},
   "outputs": [],
   "source": [
    "merg1 = FY2000.merge(FY2001,how='outer',on='parcel')\n",
    "print(merg1.shape)\n",
    "merg1.head()"
   ]
  },
  {
   "cell_type": "markdown",
   "metadata": {},
   "source": [
    "### Parcels in FY2000 but not in FY2001"
   ]
  },
  {
   "cell_type": "code",
   "execution_count": null,
   "metadata": {},
   "outputs": [],
   "source": [
    "in_FY2000_not_in_FY2001 = merg1.loc[merg1.adress_2001.isnull()][['parcel','FY2000','adress_2000','scd_2000','valuation_2000', \\\n",
    "            'taxbill_2000','est_fd_2000','exemption_2000']].rename(columns={'FY2000' : 'FY','adress_2000': 'adress', \\\n",
    "            'valuation_2000':'valuation','taxbill_2000':'taxbill','est_fd_2000':'est_fd','scd_2000': 'scd', \\\n",
    "            'exemption_2000':'exemption'})\n",
    "in_FY2000_not_in_FY2001"
   ]
  },
  {
   "cell_type": "code",
   "execution_count": null,
   "metadata": {},
   "outputs": [],
   "source": [
    "in_FY2000_not_in_FY2001.groupby(in_FY2000_not_in_FY2001['FY']).sum()"
   ]
  },
  {
   "cell_type": "markdown",
   "metadata": {},
   "source": [
    "### New in FY2001"
   ]
  },
  {
   "cell_type": "code",
   "execution_count": null,
   "metadata": {},
   "outputs": [],
   "source": [
    "new_in_FY2001 = merg1.loc[merg1.adress_2000.isnull()][['parcel','FY2001','adress_2001','scd_2001','valuation_2001', \\\n",
    "            'taxbill_2001','est_fd_2001','exemption_2001']].rename(columns={'FY2001' : 'FY','adress_2001': 'adress', \\\n",
    "            'valuation_2001':'valuation','taxbill_2001':'taxbill','est_fd_2001':'est_fd','scd_2001': 'scd', \\\n",
    "            'exemption_2001':'exemption'})\n",
    "new_in_FY2001"
   ]
  },
  {
   "cell_type": "code",
   "execution_count": null,
   "metadata": {},
   "outputs": [],
   "source": [
    "new_in_FY2001.groupby(new_in_FY2001['FY']).sum()"
   ]
  },
  {
   "cell_type": "code",
   "execution_count": null,
   "metadata": {},
   "outputs": [],
   "source": [
    "merg2 = FY2001.merge(FY2002,how='outer',on='parcel')\n",
    "print(merg2.shape)\n",
    "merg2.head()"
   ]
  },
  {
   "cell_type": "code",
   "execution_count": null,
   "metadata": {},
   "outputs": [],
   "source": [
    "in_FY2001_not_in_FY2002 = merg2.loc[merg2.adress_2002.isnull()][['parcel','FY2001','adress_2001','scd_2001','valuation_2001', \\\n",
    "            'taxbill_2001','est_fd_2001','exemption_2001']].rename(columns={'FY2001' : 'FY','adress_2001': 'adress', \\\n",
    "            'valuation_2001':'valuation','taxbill_2001':'taxbill','est_fd_2001':'est_fd','scd_2001': 'scd', \\\n",
    "            'exemption_2001':'exemption'})\n",
    "in_FY2001_not_in_FY2002"
   ]
  },
  {
   "cell_type": "code",
   "execution_count": null,
   "metadata": {},
   "outputs": [],
   "source": [
    "in_FY2001_not_in_FY2002.groupby(in_FY2001_not_in_FY2002['FY']).sum()"
   ]
  },
  {
   "cell_type": "code",
   "execution_count": null,
   "metadata": {},
   "outputs": [],
   "source": [
    "new_in_FY2002 = merg2.loc[merg2.adress_2001.isnull()][['parcel','FY2002','adress_2002','scd_2002','valuation_2002', \\\n",
    "            'taxbill_2002','est_fd_2002','exemption_2002']].rename(columns={'FY2002' : 'FY','adress_2002': 'adress', \\\n",
    "            'valuation_2002':'valuation','taxbill_2002':'taxbill','est_fd_2002':'est_fd','scd_2002': 'scd', \\\n",
    "            'exemption_2002':'exemption'})\n",
    "new_in_FY2002"
   ]
  },
  {
   "cell_type": "code",
   "execution_count": null,
   "metadata": {},
   "outputs": [],
   "source": [
    "new_in_FY2002.groupby(new_in_FY2001['FY']).sum()"
   ]
  },
  {
   "cell_type": "code",
   "execution_count": null,
   "metadata": {},
   "outputs": [],
   "source": [
    "merg3 = FY2002.merge(FY2003,how='outer',on='parcel')\n",
    "print(merg3.shape)\n",
    "merg3.head()"
   ]
  },
  {
   "cell_type": "code",
   "execution_count": null,
   "metadata": {},
   "outputs": [],
   "source": [
    "in_FY2002_not_in_FY2003 = merg3.loc[merg3.adress_2003.isnull()][['parcel','FY2002','adress_2002','scd_2002','valuation_2002', \\\n",
    "            'taxbill_2002','est_fd_2002','exemption_2002']].rename(columns={'FY2002' : 'FY','adress_2002': 'adress', \\\n",
    "            'valuation_2002':'valuation','taxbill_2002':'taxbill','est_fd_2002':'est_fd','scd_2002': 'scd', \\\n",
    "            'exemption_2002':'exemption'})\n",
    "in_FY2002_not_in_FY2003"
   ]
  },
  {
   "cell_type": "code",
   "execution_count": null,
   "metadata": {},
   "outputs": [],
   "source": [
    "in_FY2002_not_in_FY2003.groupby(in_FY2002_not_in_FY2003['FY']).sum()"
   ]
  },
  {
   "cell_type": "code",
   "execution_count": null,
   "metadata": {},
   "outputs": [],
   "source": [
    "new_in_FY2003 = merg3.loc[merg3.adress_2002.isnull()][['parcel','FY2003','adress_2003','scd_2003','valuation_2003', \\\n",
    "            'taxbill_2003','est_fd_2003','exemption_2003']].rename(columns={'FY2003' : 'FY','adress_2003': 'adress', \\\n",
    "            'valuation_2003':'valuation','taxbill_2003':'taxbill','est_fd_2003':'est_fd','scd_2003': 'scd', \\\n",
    "            'exemption_2003':'exemption'})\n",
    "new_in_FY2003"
   ]
  },
  {
   "cell_type": "code",
   "execution_count": null,
   "metadata": {},
   "outputs": [],
   "source": [
    "new_in_FY2003.groupby(new_in_FY2003['FY']).sum()"
   ]
  },
  {
   "cell_type": "code",
   "execution_count": null,
   "metadata": {},
   "outputs": [],
   "source": [
    "merg4 = FY2003.merge(FY2004,how='outer',on='parcel')\n",
    "print(merg4.shape)\n",
    "merg4.head()"
   ]
  },
  {
   "cell_type": "code",
   "execution_count": null,
   "metadata": {},
   "outputs": [],
   "source": [
    "in_FY2003_not_in_FY2004 = merg4.loc[merg4.adress_2004.isnull()][['parcel','FY2003','adress_2003','scd_2003','valuation_2003', \\\n",
    "            'taxbill_2003','est_fd_2003','exemption_2003']].rename(columns={'FY2003' : 'FY','adress_2003': 'adress', \\\n",
    "            'valuation_2003':'valuation','taxbill_2003':'taxbill','est_fd_2003':'est_fd','scd_2003': 'scd', \\\n",
    "            'exemption_2003':'exemption'})\n",
    "in_FY2003_not_in_FY2004"
   ]
  },
  {
   "cell_type": "code",
   "execution_count": null,
   "metadata": {},
   "outputs": [],
   "source": [
    "in_FY2003_not_in_FY2004.groupby(in_FY2003_not_in_FY2004['FY']).sum()"
   ]
  },
  {
   "cell_type": "code",
   "execution_count": null,
   "metadata": {},
   "outputs": [],
   "source": [
    "new_in_FY2004 = merg4.loc[merg4.adress_2003.isnull()][['parcel','FY2004','adress_2004','scd_2004','valuation_2004', \\\n",
    "            'taxbill_2004','est_fd_2004','exemption_2004']].rename(columns={'FY2004' : 'FY','adress_2004': 'adress', \\\n",
    "            'valuation_2004':'valuation','taxbill_2004':'taxbill','est_fd_2004':'est_fd','scd_2004': 'scd', \\\n",
    "            'exemption_2004':'exemption'})\n",
    "new_in_FY2004"
   ]
  },
  {
   "cell_type": "code",
   "execution_count": null,
   "metadata": {},
   "outputs": [],
   "source": [
    "new_in_FY2004.groupby(new_in_FY2004['FY']).sum()"
   ]
  },
  {
   "cell_type": "code",
   "execution_count": null,
   "metadata": {},
   "outputs": [],
   "source": [
    "merg5 = FY2004.merge(FY2005,how='outer',on='parcel')\n",
    "print(merg5.shape)\n",
    "merg5.head()"
   ]
  },
  {
   "cell_type": "code",
   "execution_count": null,
   "metadata": {},
   "outputs": [],
   "source": [
    "in_FY2004_not_in_FY2005 = merg5.loc[merg5.adress_2005.isnull()][['parcel','FY2004','adress_2004','scd_2004','valuation_2004', \\\n",
    "            'taxbill_2004','est_fd_2004','exemption_2004']].rename(columns={'FY2004' : 'FY','adress_2004': 'adress', \\\n",
    "            'valuation_2004':'valuation','taxbill_2004':'taxbill','est_fd_2004':'est_fd','scd_2004': 'scd', \\\n",
    "            'exemption_2004':'exemption'})\n",
    "in_FY2004_not_in_FY2005"
   ]
  },
  {
   "cell_type": "code",
   "execution_count": null,
   "metadata": {},
   "outputs": [],
   "source": [
    "in_FY2004_not_in_FY2005.groupby(in_FY2004_not_in_FY2005['FY']).sum()"
   ]
  },
  {
   "cell_type": "code",
   "execution_count": null,
   "metadata": {},
   "outputs": [],
   "source": [
    "new_in_FY2005 = merg5.loc[merg5.adress_2004.isnull()][['parcel','FY2005','adress_2005','scd_2005','valuation_2005', \\\n",
    "            'taxbill_2005','est_fd_2005','exemption_2005']].rename(columns={'FY2005' : 'FY','adress_2005': 'adress', \\\n",
    "            'valuation_2005':'valuation','taxbill_2005':'taxbill','est_fd_2005':'est_fd','scd_2005': 'scd', \\\n",
    "            'exemption_2005':'exemption'})\n",
    "new_in_FY2005"
   ]
  },
  {
   "cell_type": "code",
   "execution_count": null,
   "metadata": {
    "scrolled": false
   },
   "outputs": [],
   "source": [
    "new_in_FY2005.groupby(new_in_FY2005['FY']).sum()"
   ]
  },
  {
   "cell_type": "code",
   "execution_count": null,
   "metadata": {},
   "outputs": [],
   "source": [
    "merg6 = FY2005.merge(FY2006,how='outer',on='parcel')\n",
    "print(merg6.shape)\n",
    "merg6.head()"
   ]
  },
  {
   "cell_type": "code",
   "execution_count": null,
   "metadata": {},
   "outputs": [],
   "source": [
    "in_FY2005_not_in_FY2006 = merg6.loc[merg6.adress_2006.isnull()][['parcel','FY2005','adress_2005','scd_2005','valuation_2005', \\\n",
    "            'taxbill_2005','est_fd_2005','exemption_2005']].rename(columns={'FY2005' : 'FY','adress_2005': 'adress', \\\n",
    "            'valuation_2005':'valuation','taxbill_2005':'taxbill','est_fd_2005':'est_fd','scd_2005': 'scd', \\\n",
    "            'exemption_2005':'exemption'})\n",
    "in_FY2005_not_in_FY2006"
   ]
  },
  {
   "cell_type": "code",
   "execution_count": null,
   "metadata": {},
   "outputs": [],
   "source": [
    "in_FY2005_not_in_FY2006.groupby(in_FY2005_not_in_FY2006['FY']).sum()"
   ]
  },
  {
   "cell_type": "code",
   "execution_count": null,
   "metadata": {},
   "outputs": [],
   "source": [
    "new_in_FY2006 = merg6.loc[merg6.adress_2005.isnull()][['parcel','FY2006','adress_2006','scd_2006','valuation_2006', \\\n",
    "            'taxbill_2006','est_fd_2006','exemption_2006']].rename(columns={'FY2006' : 'FY','adress_2006': 'adress', \\\n",
    "            'valuation_2006':'valuation','taxbill_2006':'taxbill','est_fd_2006':'est_fd','scd_2006': 'scd', \\\n",
    "            'exemption_2006':'exemption'})\n",
    "new_in_FY2006"
   ]
  },
  {
   "cell_type": "code",
   "execution_count": null,
   "metadata": {
    "scrolled": false
   },
   "outputs": [],
   "source": [
    "new_in_FY2006.groupby(new_in_FY2006['FY']).sum()"
   ]
  },
  {
   "cell_type": "code",
   "execution_count": null,
   "metadata": {},
   "outputs": [],
   "source": [
    "merg7 = FY2006.merge(FY2007,how='outer',on='parcel')\n",
    "print(merg7.shape)\n",
    "merg7.head()"
   ]
  },
  {
   "cell_type": "code",
   "execution_count": null,
   "metadata": {},
   "outputs": [],
   "source": [
    "in_FY2006_not_in_FY2007 = merg7.loc[merg7.adress_2007.isnull()][['parcel','FY2006','adress_2006','scd_2006','valuation_2006', \\\n",
    "            'taxbill_2006','est_fd_2006','exemption_2006']].rename(columns={'FY2006' : 'FY','adress_2006': 'adress', \\\n",
    "            'valuation_2006':'valuation','taxbill_2006':'taxbill','est_fd_2006':'est_fd','scd_2006': 'scd', \\\n",
    "            'exemption_2006':'exemption'})\n",
    "in_FY2006_not_in_FY2007"
   ]
  },
  {
   "cell_type": "code",
   "execution_count": null,
   "metadata": {},
   "outputs": [],
   "source": [
    "in_FY2006_not_in_FY2007.groupby(in_FY2006_not_in_FY2007['FY']).sum()"
   ]
  },
  {
   "cell_type": "code",
   "execution_count": null,
   "metadata": {},
   "outputs": [],
   "source": [
    "new_in_FY2007 = merg7.loc[merg7.adress_2006.isnull()][['parcel','FY2007','adress_2007','scd_2007','valuation_2007', \\\n",
    "            'taxbill_2007','est_fd_2007','exemption_2007']].rename(columns={'FY2007' : 'FY','adress_2007': 'adress', \\\n",
    "            'valuation_2007':'valuation','taxbill_2007':'taxbill','est_fd_2007':'est_fd','scd_2007': 'scd', \\\n",
    "            'exemption_2007':'exemption'})\n",
    "new_in_FY2007"
   ]
  },
  {
   "cell_type": "code",
   "execution_count": null,
   "metadata": {
    "scrolled": false
   },
   "outputs": [],
   "source": [
    "new_in_FY2007.groupby(new_in_FY2007['FY']).sum()"
   ]
  },
  {
   "cell_type": "code",
   "execution_count": null,
   "metadata": {},
   "outputs": [],
   "source": [
    "merg8 = FY2007.merge(FY2008,how='outer',on='parcel')\n",
    "print(merg8.shape)\n",
    "merg8.head()"
   ]
  },
  {
   "cell_type": "code",
   "execution_count": null,
   "metadata": {},
   "outputs": [],
   "source": [
    "in_FY2007_not_in_FY2008 = merg8.loc[merg8.adress_2008.isnull()][['parcel','FY2007','adress_2007','scd_2007','valuation_2007', \\\n",
    "            'taxbill_2007','est_fd_2007','exemption_2007']].rename(columns={'FY2007' : 'FY','adress_2007': 'adress', \\\n",
    "            'valuation_2007':'valuation','taxbill_2007':'taxbill','est_fd_2007':'est_fd','scd_2007': 'scd', \\\n",
    "            'exemption_2007':'exemption'})\n",
    "in_FY2007_not_in_FY2008"
   ]
  },
  {
   "cell_type": "code",
   "execution_count": null,
   "metadata": {},
   "outputs": [],
   "source": [
    "in_FY2007_not_in_FY2008.groupby(in_FY2007_not_in_FY2008['FY']).sum()"
   ]
  },
  {
   "cell_type": "code",
   "execution_count": null,
   "metadata": {},
   "outputs": [],
   "source": [
    "new_in_FY2008 = merg8.loc[merg8.adress_2007.isnull()][['parcel','FY2008','adress_2008','scd_2008','valuation_2008', \\\n",
    "            'taxbill_2008','est_fd_2008','exemption_2008']].rename(columns={'FY2008' : 'FY','adress_2008': 'adress', \\\n",
    "            'valuation_2008':'valuation','taxbill_2008':'taxbill','est_fd_2008':'est_fd','scd_2008': 'scd', \\\n",
    "            'exemption_2008':'exemption'})\n",
    "new_in_FY2008"
   ]
  },
  {
   "cell_type": "code",
   "execution_count": null,
   "metadata": {
    "scrolled": false
   },
   "outputs": [],
   "source": [
    "new_in_FY2008.groupby(new_in_FY2008['FY']).sum()"
   ]
  },
  {
   "cell_type": "code",
   "execution_count": null,
   "metadata": {},
   "outputs": [],
   "source": [
    "merg9 = FY2010.merge(FY2008,how='outer',on='parcel')\n",
    "print(merg9.shape)\n",
    "merg9.head()"
   ]
  },
  {
   "cell_type": "code",
   "execution_count": null,
   "metadata": {},
   "outputs": [],
   "source": [
    "merg10 = FY2010.merge(FY2008,how='outer',on='parcel')\n",
    "print(merg10.shape)\n",
    "merg10.head()"
   ]
  },
  {
   "cell_type": "code",
   "execution_count": null,
   "metadata": {},
   "outputs": [],
   "source": [
    "in_FY2008_not_in_FY2010 = merg10.loc[merg10.adress_2010.isnull()][['parcel','FY2008','adress_2008','scd_2008','valuation_2008', \\\n",
    "            'taxbill_2008','est_fd_2008','exemption_2008']].rename(columns={'FY2008' : 'FY','adress_2008': 'adress', \\\n",
    "            'valuation_2008':'valuation','taxbill_2008':'taxbill','est_fd_2008':'est_fd','scd_2008': 'scd', \\\n",
    "            'exemption_2008':'exemption'})\n",
    "in_FY2008_not_in_FY2010"
   ]
  },
  {
   "cell_type": "code",
   "execution_count": null,
   "metadata": {},
   "outputs": [],
   "source": [
    "in_FY2008_not_in_FY2010.groupby(in_FY2008_not_in_FY2010['FY']).sum()"
   ]
  },
  {
   "cell_type": "code",
   "execution_count": null,
   "metadata": {},
   "outputs": [],
   "source": [
    "new_in_FY2010 = merg10.loc[merg10.adress_2008.isnull()][['parcel','FY2010','adress_2010','scd_2010','valuation_2010', \\\n",
    "            'taxbill_2010','est_fd_2010','exemption_2010']].rename(columns={'FY2010' : 'FY','adress_2010': 'adress', \\\n",
    "            'valuation_2010':'valuation','taxbill_2010':'taxbill','est_fd_2010':'est_fd','scd_2010': 'scd', \\\n",
    "            'exemption_2010':'exemption'})\n",
    "new_in_FY2010"
   ]
  },
  {
   "cell_type": "code",
   "execution_count": null,
   "metadata": {
    "scrolled": false
   },
   "outputs": [],
   "source": [
    "new_in_FY2010.groupby(new_in_FY2010['FY']).sum()"
   ]
  },
  {
   "cell_type": "code",
   "execution_count": null,
   "metadata": {},
   "outputs": [],
   "source": [
    "merg11 = FY2011.merge(FY2010,how='outer',on='parcel')\n",
    "print(merg11.shape)\n",
    "merg11.head()"
   ]
  },
  {
   "cell_type": "code",
   "execution_count": null,
   "metadata": {},
   "outputs": [],
   "source": [
    "in_FY2010_not_in_FY2011 = merg11.loc[merg11.adress_2011.isnull()][['parcel','FY2010','adress_2010','scd_2010','valuation_2010', \\\n",
    "            'taxbill_2010','est_fd_2010','exemption_2010']].rename(columns={'FY2010' : 'FY','adress_2010': 'adress', \\\n",
    "            'valuation_2010':'valuation','taxbill_2010':'taxbill','est_fd_2010':'est_fd','scd_2010': 'scd', \\\n",
    "            'exemption_2010':'exemption'})\n",
    "in_FY2010_not_in_FY2011"
   ]
  },
  {
   "cell_type": "code",
   "execution_count": null,
   "metadata": {},
   "outputs": [],
   "source": [
    "in_FY2010_not_in_FY2011.groupby(in_FY2010_not_in_FY2011['FY']).sum()"
   ]
  },
  {
   "cell_type": "code",
   "execution_count": null,
   "metadata": {},
   "outputs": [],
   "source": [
    "new_in_FY2011 = merg11.loc[merg11.adress_2010.isnull()][['parcel','FY2011','adress_2011','scd_2011','valuation_2011', \\\n",
    "            'taxbill_2011','est_fd_2011','exemption_2011']].rename(columns={'FY2011' : 'FY','adress_2011': 'adress', \\\n",
    "            'valuation_2011':'valuation','taxbill_2011':'taxbill','est_fd_2011':'est_fd','scd_2011': 'scd', \\\n",
    "            'exemption_2011':'exemption'})\n",
    "new_in_FY2011"
   ]
  },
  {
   "cell_type": "code",
   "execution_count": null,
   "metadata": {
    "scrolled": false
   },
   "outputs": [],
   "source": [
    "new_in_FY2011.groupby(new_in_FY2011['FY']).sum()"
   ]
  },
  {
   "cell_type": "code",
   "execution_count": null,
   "metadata": {},
   "outputs": [],
   "source": [
    "merg12 = FY2012.merge(FY2011,how='outer',on='parcel')\n",
    "print(merg12.shape)\n",
    "merg12.head()"
   ]
  },
  {
   "cell_type": "code",
   "execution_count": null,
   "metadata": {},
   "outputs": [],
   "source": [
    "in_FY2011_not_in_FY2012 = merg12.loc[merg12.adress_2012.isnull()][['parcel','FY2011','adress_2011','scd_2011','valuation_2011', \\\n",
    "            'taxbill_2011','est_fd_2011','exemption_2011']].rename(columns={'FY2011' : 'FY','adress_2011': 'adress', \\\n",
    "            'valuation_2011':'valuation','taxbill_2011':'taxbill','est_fd_2011':'est_fd','scd_2011': 'scd', \\\n",
    "            'exemption_2011':'exemption'})\n",
    "in_FY2011_not_in_FY2012"
   ]
  },
  {
   "cell_type": "code",
   "execution_count": null,
   "metadata": {},
   "outputs": [],
   "source": [
    "in_FY2011_not_in_FY2012.groupby(in_FY2011_not_in_FY2012['FY']).sum()"
   ]
  },
  {
   "cell_type": "code",
   "execution_count": null,
   "metadata": {},
   "outputs": [],
   "source": [
    "new_in_FY2012 = merg12.loc[merg12.adress_2011.isnull()][['parcel','FY2012','adress_2012','scd_2012','valuation_2012', \\\n",
    "            'taxbill_2012','est_fd_2012','exemption_2012']].rename(columns={'FY2012' : 'FY','adress_2012': 'adress', \\\n",
    "            'valuation_2012':'valuation','taxbill_2012':'taxbill','est_fd_2012':'est_fd','scd_2012': 'scd', \\\n",
    "            'exemption_2012':'exemption'})\n",
    "new_in_FY2012"
   ]
  },
  {
   "cell_type": "code",
   "execution_count": null,
   "metadata": {
    "scrolled": false
   },
   "outputs": [],
   "source": [
    "new_in_FY2012.groupby(new_in_FY2012['FY']).sum()"
   ]
  },
  {
   "cell_type": "code",
   "execution_count": null,
   "metadata": {},
   "outputs": [],
   "source": [
    "merg13 = FY2013.merge(FY2012,how='outer',on='parcel')\n",
    "print(merg13.shape)\n",
    "merg13.head()"
   ]
  },
  {
   "cell_type": "code",
   "execution_count": null,
   "metadata": {},
   "outputs": [],
   "source": [
    "in_FY2012_not_in_FY2013 = merg13.loc[merg13.adress_2013.isnull()][['parcel','FY2012','adress_2012','scd_2012','valuation_2012', \\\n",
    "            'taxbill_2012','est_fd_2012','exemption_2012']].rename(columns={'FY2012' : 'FY','adress_2012': 'adress', \\\n",
    "            'valuation_2012':'valuation','taxbill_2012':'taxbill','est_fd_2012':'est_fd','scd_2012': 'scd', \\\n",
    "            'exemption_2012':'exemption'})\n",
    "in_FY2012_not_in_FY2013"
   ]
  },
  {
   "cell_type": "code",
   "execution_count": null,
   "metadata": {},
   "outputs": [],
   "source": [
    "in_FY2012_not_in_FY2013.groupby(in_FY2012_not_in_FY2013['FY']).sum()"
   ]
  },
  {
   "cell_type": "code",
   "execution_count": null,
   "metadata": {},
   "outputs": [],
   "source": [
    "new_in_FY2013 = merg13.loc[merg13.adress_2012.isnull()][['parcel','FY2013','adress_2013','scd_2013','valuation_2013', \\\n",
    "            'taxbill_2013','est_fd_2013','exemption_2013']].rename(columns={'FY2013' : 'FY','adress_2013': 'adress', \\\n",
    "            'valuation_2013':'valuation','taxbill_2013':'taxbill','est_fd_2013':'est_fd','scd_2013': 'scd', \\\n",
    "            'exemption_2013':'exemption'})\n",
    "new_in_FY2013"
   ]
  },
  {
   "cell_type": "code",
   "execution_count": null,
   "metadata": {
    "scrolled": false
   },
   "outputs": [],
   "source": [
    "new_in_FY2013.groupby(new_in_FY2013['FY']).sum()"
   ]
  },
  {
   "cell_type": "code",
   "execution_count": null,
   "metadata": {},
   "outputs": [],
   "source": [
    "merg14 = FY2014.merge(FY2013,how='outer',on='parcel')\n",
    "print(merg14.shape)\n",
    "merg14.head()"
   ]
  },
  {
   "cell_type": "code",
   "execution_count": null,
   "metadata": {},
   "outputs": [],
   "source": [
    "in_FY2013_not_in_FY2014 = merg14.loc[merg14.adress_2014.isnull()][['parcel','FY2013','adress_2013','scd_2013','valuation_2013', \\\n",
    "            'taxbill_2013','est_fd_2013','exemption_2013']].rename(columns={'FY2013' : 'FY','adress_2013': 'adress', \\\n",
    "            'valuation_2013':'valuation','taxbill_2013':'taxbill','est_fd_2013':'est_fd','scd_2013': 'scd', \\\n",
    "            'exemption_2013':'exemption'})\n",
    "in_FY2013_not_in_FY2014"
   ]
  },
  {
   "cell_type": "code",
   "execution_count": null,
   "metadata": {},
   "outputs": [],
   "source": [
    "in_FY2013_not_in_FY2014.groupby(in_FY2013_not_in_FY2014['FY']).sum()"
   ]
  },
  {
   "cell_type": "code",
   "execution_count": null,
   "metadata": {},
   "outputs": [],
   "source": [
    "new_in_FY2014 = merg14.loc[merg14.adress_2013.isnull()][['parcel','FY2014','adress_2014','scd_2014','valuation_2014', \\\n",
    "            'taxbill_2014','est_fd_2014','exemption_2014']].rename(columns={'FY2014' : 'FY','adress_2014': 'adress', \\\n",
    "            'valuation_2014':'valuation','taxbill_2014':'taxbill','est_fd_2014':'est_fd','scd_2014': 'scd', \\\n",
    "            'exemption_2014':'exemption'})\n",
    "new_in_FY2014"
   ]
  },
  {
   "cell_type": "code",
   "execution_count": null,
   "metadata": {
    "scrolled": false
   },
   "outputs": [],
   "source": [
    "new_in_FY2014.groupby(new_in_FY2014['FY']).sum()"
   ]
  },
  {
   "cell_type": "code",
   "execution_count": null,
   "metadata": {},
   "outputs": [],
   "source": [
    "merg15 = FY2015.merge(merg14,how='outer',on='parcel')\n",
    "print(merg15.shape)\n",
    "merg15.head()"
   ]
  },
  {
   "cell_type": "code",
   "execution_count": null,
   "metadata": {},
   "outputs": [],
   "source": [
    "merg16 = FY2016.merge(merg15,how='outer',on='parcel')\n",
    "print(merg16.shape)\n",
    "merg16.head()"
   ]
  },
  {
   "cell_type": "code",
   "execution_count": null,
   "metadata": {},
   "outputs": [],
   "source": [
    "merg17 = FY2017.merge(merg16,how='outer',on='parcel')\n",
    "print(merg17.shape)\n",
    "merg17.head()"
   ]
  },
  {
   "cell_type": "code",
   "execution_count": null,
   "metadata": {},
   "outputs": [],
   "source": [
    "merg18 = FY2018.merge(merg17,how='outer',on='parcel')\n",
    "print(merg18.shape)\n",
    "merg18.head()"
   ]
  },
  {
   "cell_type": "code",
   "execution_count": null,
   "metadata": {},
   "outputs": [],
   "source": [
    "match = FY2000.merge(FY2001,how='outer',on='parcel')\n",
    "match = FY2002.merge(match,how='outer',on='parcel')\n",
    "match = FY2003.merge(match,how='outer',on='parcel')\n",
    "match = FY2004.merge(match,how='outer',on='parcel')\n",
    "match = FY2005.merge(match,how='outer',on='parcel')\n",
    "match = FY2006.merge(match,how='outer',on='parcel')\n",
    "match = FY2007.merge(match,how='outer',on='parcel')\n",
    "match = FY2008.merge(match,how='outer',on='parcel')\n",
    "match = FY2009.merge(match,how='outer',on='parcel')\n",
    "match = FY2010.merge(match,how='outer',on='parcel')\n",
    "match = FY2011.merge(match,how='outer',on='parcel')\n",
    "match = FY2012.merge(match,how='outer',on='parcel')\n",
    "match = FY2013.merge(match,how='outer',on='parcel')\n",
    "match = FY2014.merge(match,how='outer',on='parcel')\n",
    "match = FY2015.merge(match,how='outer',on='parcel')\n",
    "match = FY2016.merge(match,how='outer',on='parcel')\n",
    "match = FY2017.merge(match,how='outer',on='parcel')\n",
    "match = FY2018.merge(match,how='outer',on='parcel')\n",
    "print(match.shape)"
   ]
  },
  {
   "cell_type": "code",
   "execution_count": null,
   "metadata": {},
   "outputs": [],
   "source": [
    "match.columns"
   ]
  },
  {
   "cell_type": "code",
   "execution_count": null,
   "metadata": {},
   "outputs": [],
   "source": [
    "match.describe()"
   ]
  },
  {
   "cell_type": "code",
   "execution_count": null,
   "metadata": {},
   "outputs": [],
   "source": [
    "parcel = match['parcel']\n",
    "scd = match['scd_2018']\n",
    "address = match['adress_2018']\n",
    "tax_2018 = match['est_fd_2018']+match['taxbill_2018']\n",
    "tax_2017 = match['est_fd_2017']+match['taxbill_2017']\n",
    "tax_2016 = match['est_fd_2016']+match['taxbill_2016']\n",
    "tax_2015 = match['est_fd_2015']+match['taxbill_2015']\n",
    "tax_2014 = match['est_fd_2014']+match['taxbill_2014']\n",
    "tax_2013 = match['est_fd_2013']+match['taxbill_2013']\n",
    "tax_2012 = match['est_fd_2012']+match['taxbill_2012']\n",
    "tax_2011 = match['est_fd_2011']+match['taxbill_2011']\n",
    "tax_2010 = match['est_fd_2010']+match['taxbill_2010']\n",
    "tax_2009 = match['est_fd_2009']+match['taxbill_2009']\n",
    "tax_2008 = match['est_fd_2008']+match['taxbill_2008']\n",
    "tax_2007 = match['est_fd_2007']+match['taxbill_2007']\n",
    "tax_2006 = match['est_fd_2006']+match['taxbill_2006']\n",
    "tax_2005 = match['est_fd_2005']+match['taxbill_2005']\n",
    "tax_2004 = match['est_fd_2004']+match['taxbill_2004']\n",
    "tax_2003 = match['est_fd_2003']+match['taxbill_2003']\n",
    "tax_2002 = match['est_fd_2002']+match['taxbill_2002']\n",
    "tax_2001 = match['est_fd_2001']+match['taxbill_2001']\n",
    "tax_2000 = match['est_fd_2000']+match['taxbill_2000']\n",
    "valuation_2018 = match['valuation_2018']\n",
    "valuation_2017 = match['valuation_2017']\n",
    "valuation_2016 = match['valuation_2016']\n",
    "valuation_2015 = match['valuation_2015']\n",
    "valuation_2014 = match['valuation_2014']\n",
    "valuation_2013 = match['valuation_2013']\n",
    "valuation_2012 = match['valuation_2012']\n",
    "valuation_2011 = match['valuation_2011']\n",
    "valuation_2010 = match['valuation_2010']\n",
    "valuation_2009 = match['valuation_2009']\n",
    "valuation_2008 = match['valuation_2008']\n",
    "valuation_2007 = match['valuation_2007']\n",
    "valuation_2006 = match['valuation_2006']\n",
    "valuation_2005 = match['valuation_2005']\n",
    "valuation_2004 = match['valuation_2004']\n",
    "valuation_2003 = match['valuation_2003']\n",
    "valuation_2002 = match['valuation_2002']\n",
    "valuation_2001 = match['valuation_2001']\n",
    "valuation_2000 = match['valuation_2000']\n",
    "p1817 = tax_2018/tax_2017\n",
    "p1716 = tax_2017/tax_2016\n",
    "p1615 = tax_2016/tax_2015\n",
    "p1514 = tax_2015/tax_2014\n",
    "p1413 = tax_2014/tax_2013\n",
    "p1312 = tax_2013/tax_2012\n",
    "p1211 = tax_2012/tax_2011\n",
    "p1110 = tax_2011/tax_2010\n",
    "p1009 = tax_2010/tax_2009\n",
    "p0908 = tax_2009/tax_2008\n",
    "p0807 = tax_2008/tax_2007\n",
    "p0706 = tax_2007/tax_2006\n",
    "p0605 = tax_2006/tax_2005\n",
    "p0504 = tax_2005/tax_2004\n",
    "p0403 = tax_2004/tax_2003\n",
    "p0302 = tax_2003/tax_2002\n",
    "p0201 = tax_2002/tax_2001\n",
    "p0100 = tax_2001/tax_2000\n",
    "\n",
    "dd = {'parcel':parcel,'scd':scd,'address':address,'tax_2018': tax_2018, 'tax_2017': tax_2017, \\\n",
    "      'tax_2016':tax_2016,'tax_2015':tax_2015,'tax_2014':tax_2014,'tax_2013':tax_2013,'tax_2012':tax_2012, \\\n",
    "      'tax_2011':tax_2011,'tax_2010':tax_2010,'tax_2009':tax_2009, \\\n",
    "     'tax_2008':tax_2008,'tax_2007':tax_2007,'tax_2006':tax_2006,'tax_2005':tax_2005,'tax_2004':tax_2004, \\\n",
    "     'tax_2003':tax_2003,'tax_2002':tax_2002,'tax_2001':tax_2001,'tax_2000':tax_2000,'valuation_2009':valuation_2009, \\\n",
    "     'valuation_2018':valuation_2018,'valuation_2017':valuation_2017,'valuation_2016':valuation_2016, \\\n",
    "     'valuation_2015':valuation_2015,'valuation_2014':valuation_2014,'valuation_2013':valuation_2013, \\\n",
    "     'valuation_2012':valuation_2012,'valuation_2011':valuation_2011,'valuation_2010':valuation_2010, \\\n",
    "     'valuation_2008':valuation_2008,'valuation_2007':valuation_2007,'valuation_2006':valuation_2006, \\\n",
    "     'valuation_2005':valuation_2005,'valuation_2004':valuation_2004,'valuation_2003':valuation_2003, \\\n",
    "     'valuation_2002':valuation_2002,'valuation_2001':valuation_2001,'valuation_2000':valuation_2000}"
   ]
  },
  {
   "cell_type": "code",
   "execution_count": null,
   "metadata": {},
   "outputs": [],
   "source": [
    "df=pd.DataFrame(dd)\n",
    "df.head()"
   ]
  },
  {
   "cell_type": "code",
   "execution_count": null,
   "metadata": {},
   "outputs": [],
   "source": [
    "df.describe()"
   ]
  },
  {
   "cell_type": "code",
   "execution_count": null,
   "metadata": {},
   "outputs": [],
   "source": [
    "df.quantile([.025,.05,.1,.5,.75,.8,.9,.95,.975])"
   ]
  },
  {
   "cell_type": "code",
   "execution_count": null,
   "metadata": {
    "collapsed": true
   },
   "outputs": [],
   "source": [
    "df.to_csv(\"../EG_taxbills.csv\")"
   ]
  },
  {
   "cell_type": "code",
   "execution_count": null,
   "metadata": {
    "collapsed": true
   },
   "outputs": [],
   "source": []
  }
 ],
 "metadata": {
  "kernelspec": {
   "display_name": "Python 3",
   "language": "python",
   "name": "python3"
  },
  "language_info": {
   "codemirror_mode": {
    "name": "ipython",
    "version": 2
   },
   "file_extension": ".py",
   "mimetype": "text/x-python",
   "name": "python",
   "nbconvert_exporter": "python",
   "pygments_lexer": "ipython2",
   "version": "2.7.14"
  }
 },
 "nbformat": 4,
 "nbformat_minor": 2
}
