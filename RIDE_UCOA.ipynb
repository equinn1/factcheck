{
 "cells": [
  {
   "cell_type": "markdown",
   "metadata": {},
   "source": [
    "# RIDE Uniform Charter of Accounts financial analysis"
   ]
  },
  {
   "cell_type": "code",
   "execution_count": null,
   "metadata": {
    "collapsed": true
   },
   "outputs": [],
   "source": [
    "import re\n",
    "import numpy as np\n",
    "import scipy as sc\n",
    "import pandas as pd\n",
    "import matplotlib.pyplot as plt\n",
    "import seaborn as sns\n",
    "%matplotlib inline"
   ]
  },
  {
   "cell_type": "markdown",
   "metadata": {},
   "source": [
    "### Set max_rows option for display"
   ]
  },
  {
   "cell_type": "code",
   "execution_count": null,
   "metadata": {},
   "outputs": [],
   "source": [
    "pd.get_option(\"display.max_rows\")"
   ]
  },
  {
   "cell_type": "code",
   "execution_count": null,
   "metadata": {},
   "outputs": [],
   "source": [
    "pd.set_option(\"display.max_rows\",1000)\n",
    "pd.get_option(\"display.max_rows\")"
   ]
  },
  {
   "cell_type": "markdown",
   "metadata": {},
   "source": [
    "## The following code to reads the RI Uniform Charter of Accounts data from the Rhode Island Department of Education Consolidated District Financial Database\n",
    "\n",
    "See:\n",
    "\n",
    "http://www.ride.ri.gov/FundingFinance/SchoolDistrictFinancialData/UniformChartofAccounts.aspx#18211078-statewide-consolidated-district-financial-databases"
   ]
  },
  {
   "cell_type": "markdown",
   "metadata": {},
   "source": [
    "### Read the FY2016  (2015-2016 school year) data: Expenditures Excluding Capital and Debt Service \n",
    "\n",
    "Source file is: \n",
    "\n",
    "http://media.ride.ri.gov/construction/93-All-Expenditure-Account-Strings-with-Descriptions-no-421-422-FY16.xlsx"
   ]
  },
  {
   "cell_type": "code",
   "execution_count": null,
   "metadata": {},
   "outputs": [],
   "source": [
    "fy16 = pd.read_csv(\"../RIDE/93-All-Expenditure-Account-Strings-with-Descriptions-no-421-422-FY16.csv\")\n",
    "fy16['Year'] = 2016\n",
    "print(fy16.shape)\n",
    "fy16.columns"
   ]
  },
  {
   "cell_type": "markdown",
   "metadata": {},
   "source": [
    "### Read the FY2015  (2014-2015 school year) data: Expenditures Excluding Capital and Debt Service \n",
    "\n",
    "Source file is: \n",
    "\n",
    "http://media.ride.ri.gov/construction/93-All-Expenditure-Account-Strings-with-Descriptions-no-421-422-FY15.xlsx"
   ]
  },
  {
   "cell_type": "code",
   "execution_count": null,
   "metadata": {},
   "outputs": [],
   "source": [
    "fy15 = pd.read_csv(\"../RIDE/93-All-Expenditure-Account-Strings-with-Descriptions-no-421-422-FY15.csv\")\n",
    "fy15['Year'] = 2015\n",
    "print(fy15.shape)\n",
    "fy15.columns"
   ]
  },
  {
   "cell_type": "markdown",
   "metadata": {},
   "source": [
    "### Read the FY2014  (2013-2014 school year) data: Expenditures Excluding Capital and Debt Service \n",
    "\n",
    "Source file is: \n",
    "\n",
    "http://media.ride.ri.gov/construction/93-All-Expenditure-Account-Strings-with-Descriptions-no-421-422-081415.xlsx"
   ]
  },
  {
   "cell_type": "code",
   "execution_count": null,
   "metadata": {},
   "outputs": [],
   "source": [
    "fy14 = pd.read_csv(\"../RIDE/93-All-Expenditure-Account-Strings-with-Descriptions-no-421-422-081415.csv\")\n",
    "fy14['Year'] = 2014\n",
    "print(fy14.shape)\n",
    "fy14.columns"
   ]
  },
  {
   "cell_type": "markdown",
   "metadata": {},
   "source": [
    "### Read the FY2013  (2012-2013 school year) data: Expenditures Excluding Capital and Debt Service \n",
    "\n",
    "Source file is: \n",
    "\n",
    "http://media.ride.ri.gov/construction/93-All-Expenditure-Account-Strings-with-Descriptions-no-421-422-FY13.xlsx"
   ]
  },
  {
   "cell_type": "code",
   "execution_count": null,
   "metadata": {},
   "outputs": [],
   "source": [
    "fy13 = pd.read_csv(\"../RIDE/93-All-Expenditure-Account-Strings-with-Descriptions-no-421-422-FY13.csv\")\n",
    "fy13['Year'] = 2013\n",
    "print(fy13.shape)\n",
    "fy13.columns"
   ]
  },
  {
   "cell_type": "markdown",
   "metadata": {},
   "source": [
    "### Read the FY2012  (2011-2012 school year) data: Expenditures Excluding Capital and Debt Service \n",
    "\n",
    "Source file is: \n",
    "\n",
    "http://media.ride.ri.gov/construction/93-All-Expenditure-Account-Strings-with-Descriptions-no-421-422.xlsx"
   ]
  },
  {
   "cell_type": "code",
   "execution_count": null,
   "metadata": {},
   "outputs": [],
   "source": [
    "fy12 = pd.read_csv(\"../RIDE/93-All-Expenditure-Account-Strings-with-Descriptions-no-421-422.csv\")\n",
    "fy12['Year'] = 2012\n",
    "print(fy12.shape)\n",
    "fy12.columns"
   ]
  },
  {
   "cell_type": "markdown",
   "metadata": {},
   "source": [
    "### Read the FY2011  (2010-2011 school year) data: Expenditures Excluding Capital and Debt Service \n",
    "\n",
    "Source file is: \n",
    "\n",
    "http://media.ride.ri.gov/construction/93-All-Expenditure-Account-Strings-with-Descriptions-no-421-422-FY11.xlsx"
   ]
  },
  {
   "cell_type": "code",
   "execution_count": null,
   "metadata": {},
   "outputs": [],
   "source": [
    "fy11 = pd.read_csv(\"../RIDE/93-All-Expenditure-Account-Strings-with-Descriptions-no-421-422-FY11.csv\")\n",
    "fy11['Year'] = 2011\n",
    "print(fy11.shape)\n",
    "fy11.columns"
   ]
  },
  {
   "cell_type": "markdown",
   "metadata": {},
   "source": [
    "### Read the FY2010  (2009-2010 school year) data: Expenditures Excluding Capital and Debt Service \n",
    "\n",
    "Note:  No Budget information in this year\n",
    "\n",
    "Source file is: \n",
    "\n",
    "http://www.ride.ri.gov/Portals/0/Uploads/Documents/UCOA/2009-2010-Consolidated-UCOA-Database/FY-10-UCOA-Database-Expenditures-Excluding-Capital-and-Debt-Service.xlsx"
   ]
  },
  {
   "cell_type": "code",
   "execution_count": null,
   "metadata": {},
   "outputs": [],
   "source": [
    "fy10 = pd.read_csv(\"../RIDE/FY-10-UCOA-Database-Expenditures-Excluding-Capital-and-Debt-Service.csv\")\n",
    "fy10['Year'] = 2010\n",
    "print(fy10.shape)\n",
    "fy10.columns"
   ]
  },
  {
   "cell_type": "code",
   "execution_count": null,
   "metadata": {},
   "outputs": [],
   "source": [
    "allexp = pd.concat([fy16,fy15,fy14,fy13,fy12,fy11,fy10])\n",
    "print(allexp.shape)"
   ]
  },
  {
   "cell_type": "markdown",
   "metadata": {},
   "source": [
    "### list Districts"
   ]
  },
  {
   "cell_type": "code",
   "execution_count": null,
   "metadata": {},
   "outputs": [],
   "source": [
    "District = allexp.groupby(['Dist No','District Name']).count()\n",
    "print(District.shape)\n",
    "print(District.columns)\n",
    "District"
   ]
  },
  {
   "cell_type": "code",
   "execution_count": null,
   "metadata": {},
   "outputs": [],
   "source": [
    "allexp_EG = allexp.loc[allexp['Dist No']==90.0]\n",
    "print(allexp_EG.shape)\n",
    "Tot = allexp_EG.groupby(['Year']).sum()[['Budget','Actual']]\n",
    "Tot['Variance'] = Tot['Actual'] - Tot['Budget']\n",
    "Tot"
   ]
  },
  {
   "cell_type": "markdown",
   "metadata": {},
   "source": [
    "### Level 1: - Fund  (4 character)"
   ]
  },
  {
   "cell_type": "code",
   "execution_count": null,
   "metadata": {},
   "outputs": [],
   "source": [
    "Fund = allexp_EG.groupby(['Fund','Fund Description']).sum()[['Budget','Actual']]\n",
    "Fund['Variance'] = Fund['Actual'] - Fund['Budget']\n",
    "print(Fund.shape)\n",
    "print(Fund.columns)\n",
    "Fund"
   ]
  },
  {
   "cell_type": "markdown",
   "metadata": {},
   "source": [
    "### Subfund?  (4 char)"
   ]
  },
  {
   "cell_type": "markdown",
   "metadata": {},
   "source": [
    "### Level 2: Location (5 char)"
   ]
  },
  {
   "cell_type": "code",
   "execution_count": null,
   "metadata": {},
   "outputs": [],
   "source": [
    "Location = allexp_EG.groupby(['Loc','Location Description']).sum()[['Budget','Actual']]\n",
    "Location['Variance'] = Location['Actual'] - Location['Budget']\n",
    "print(Location.shape)\n",
    "print(Location.columns)\n",
    "Location"
   ]
  },
  {
   "cell_type": "markdown",
   "metadata": {},
   "source": [
    "### Level 3: Function (5 char)"
   ]
  },
  {
   "cell_type": "code",
   "execution_count": null,
   "metadata": {},
   "outputs": [],
   "source": [
    "Function = allexp_EG.groupby(['Func','Function Description']).sum()[['Budget','Actual']]\n",
    "Function['Variance'] = Function['Actual'] - Function['Budget']\n",
    "print(Function.shape)\n",
    "print(Function.columns)\n",
    "Function"
   ]
  },
  {
   "cell_type": "markdown",
   "metadata": {},
   "source": [
    "### Level 4: Program (2 char)"
   ]
  },
  {
   "cell_type": "code",
   "execution_count": null,
   "metadata": {},
   "outputs": [],
   "source": [
    "Program = allexp_EG.groupby(['Prog','Program Description']).sum()[['Actual','Budget']]\n",
    "Program['Variance'] = Program['Budget'] - Program['Actual']\n",
    "print(Program.shape)\n",
    "print(Program.columns)\n",
    "Program"
   ]
  },
  {
   "cell_type": "markdown",
   "metadata": {},
   "source": [
    "### Level 5: Subject (4 char)"
   ]
  },
  {
   "cell_type": "code",
   "execution_count": null,
   "metadata": {},
   "outputs": [],
   "source": [
    "Subject = allexp_EG.groupby(['Sub','Subject Description']).sum()[['Budget','Actual']]\n",
    "Subject['Variance'] = Subject['Actual'] - Subject['Budget']\n",
    "print(Subject.shape)\n",
    "print(Subject.columns)\n",
    "Subject"
   ]
  },
  {
   "cell_type": "markdown",
   "metadata": {},
   "source": [
    "### Level 6: Job class (4 char)"
   ]
  },
  {
   "cell_type": "code",
   "execution_count": null,
   "metadata": {},
   "outputs": [],
   "source": [
    "Job_class = allexp_EG.groupby(['JC','Job Class Description']).sum()[['Budget','Actual']]\n",
    "Job_class['Variance'] = Job_class['Actual'] - Job_class['Budget']\n",
    "print(Job_class.shape)\n",
    "print(Job_class.columns)\n",
    "Job_class"
   ]
  },
  {
   "cell_type": "markdown",
   "metadata": {},
   "source": [
    "### Object (5 char)"
   ]
  },
  {
   "cell_type": "code",
   "execution_count": null,
   "metadata": {},
   "outputs": [],
   "source": [
    "Object = allexp_EG.groupby(['Obj','Object Description']).sum()[['Budget','Actual']]\n",
    "Object['Variance'] = Object['Actual'] - Object['Budget']\n",
    "print(Object.shape)\n",
    "print(Object.columns)\n",
    "Object"
   ]
  },
  {
   "cell_type": "code",
   "execution_count": null,
   "metadata": {},
   "outputs": [],
   "source": [
    "Job_class = allexp_EG.groupby(['JC','Job Class Description','Obj','Object Description',]).sum()[['Budget','Actual']]\n",
    "Job_class['Variance'] = Job_class['Actual'] - Job_class['Budget']\n",
    "print(Job_class.shape)\n",
    "print(Job_class.columns)\n",
    "Job_class"
   ]
  },
  {
   "cell_type": "code",
   "execution_count": null,
   "metadata": {},
   "outputs": [],
   "source": [
    "Job_class = allexp_EG[['JC','Job Class Description','Obj','Object Description','Budget','Actual']]\n",
    "Job_class['Variance'] = Job_class['Actual'] - Job_class['Budget']\n",
    "print(Job_class.shape)\n",
    "print(Job_class.columns)\n",
    "Job_class"
   ]
  },
  {
   "cell_type": "markdown",
   "metadata": {},
   "source": [
    "### Read the FY2016  (2015-2016 school year) data: Expenditures: Capital and Debt Service Expenditures \n",
    "\n",
    "Source file is:\n",
    "\n",
    "http://www.ride.ri.gov/Portals/0/Uploads/Documents/UCOA/2015-2016-Consolidated/FY16-All-Expenditure-Account-Strings-with-Descriptions-421-422.xlsx"
   ]
  },
  {
   "cell_type": "code",
   "execution_count": null,
   "metadata": {},
   "outputs": [],
   "source": [
    "fy16cap = pd.read_csv(\"../RIDE/FY16-All-Expenditure-Account-Strings-with-Descriptions-421-422.csv\")\n",
    "fy16cap['Year'] = 2016\n",
    "print(fy16cap.shape)\n",
    "fy16cap.columns"
   ]
  },
  {
   "cell_type": "markdown",
   "metadata": {},
   "source": [
    "### Read the FY2015  (2014-2015 school year) data: Expenditures: Capital and Debt Service Expenditures \n",
    "\n",
    "Source file is:\n",
    "\n",
    "http://www.ride.ri.gov/Portals/0/Uploads/Documents/UCOA/2014-2015-Consolidated/93-All-Expenditure-Account-Strings-with-Descriptions-with-budget-421-422-only.xlsx"
   ]
  },
  {
   "cell_type": "code",
   "execution_count": null,
   "metadata": {},
   "outputs": [],
   "source": [
    "fy15cap = pd.read_csv(\"../RIDE/93-All-Expenditure-Account-Strings-with-Descriptions-with-budget-421-422-only.csv\")\n",
    "fy15cap['Year'] = 2015\n",
    "print(fy15cap.shape)\n",
    "fy15cap.columns"
   ]
  },
  {
   "cell_type": "markdown",
   "metadata": {},
   "source": [
    "### Read the FY2014  (2013-2014 school year) data: Expenditures: Capital and Debt Service Expenditures \n",
    "\n",
    "Source file is:\n",
    "\n",
    "http://www.ride.ri.gov/Portals/0/Uploads/Documents/UCOA/93-All-Expenditure-Account-Strings-with-Descriptions-421-422-081415.xlsx"
   ]
  },
  {
   "cell_type": "code",
   "execution_count": null,
   "metadata": {},
   "outputs": [],
   "source": [
    "fy14cap = pd.read_csv(\"../RIDE/94-All-Revenue-Account-Strings-with-Descriptions-081415.csv\")\n",
    "fy14cap['Year'] = 2014\n",
    "print(fy14cap.shape)\n",
    "fy14cap.columns"
   ]
  },
  {
   "cell_type": "markdown",
   "metadata": {},
   "source": [
    "### Read the FY2013  (2012-2013 school year) data: Expenditures: Capital and Debt Service Expenditures \n",
    "\n",
    "Source file is:\n",
    "\n",
    "http://www.ride.ri.gov/Portals/0/Uploads/Documents/UCOA/2012-2013-Consolidated-Data/93%20All%20Expenditure%20Account%20Strings%20with%20Descriptions%20421-422%20ONLY.xlsx"
   ]
  },
  {
   "cell_type": "code",
   "execution_count": null,
   "metadata": {},
   "outputs": [],
   "source": [
    "fy13cap = pd.read_csv(\"../RIDE/93-All-Expenditure-Account-Strings-with-Descriptions-421-422-ONLY.csv\")\n",
    "fy13cap['Year'] = 2013\n",
    "print(fy13cap.shape)\n",
    "fy13cap.columns"
   ]
  },
  {
   "cell_type": "markdown",
   "metadata": {},
   "source": [
    "### Read the FY2012  (2011-2012 school year) data: Expenditures: Capital and Debt Service Expenditures \n",
    "\n",
    "Source file is:\n",
    "\n",
    "http://www.ride.ri.gov/Portals/0/Uploads/Documents/UCOA/2011-2012-Consolidated/93-All-Expenditure-Account-Strings-with-Descriptions-421-422.xlsx"
   ]
  },
  {
   "cell_type": "code",
   "execution_count": null,
   "metadata": {},
   "outputs": [],
   "source": [
    "fy12cap = pd.read_csv(\"../RIDE/93-All-Expenditure-Account-Strings-with-Descriptions-421-422-2011-2012.csv\")\n",
    "fy12cap['Year'] = 2012\n",
    "print(fy12cap.shape)\n",
    "fy12cap.columns"
   ]
  },
  {
   "cell_type": "markdown",
   "metadata": {},
   "source": [
    "### Read the FY2011  (2010-2011 school year) data: Expenditures: Capital and Debt Service Expenditures \n",
    "\n",
    "Source file is:\n",
    "\n",
    "http://www.ride.ri.gov/Portals/0/Uploads/Documents/UCOA/2010-2011-Consolidated-UCOA-Databases/FY11-93-All-Expenditure-Account-Strings-with-Descriptions-421-422.xlsx"
   ]
  },
  {
   "cell_type": "code",
   "execution_count": null,
   "metadata": {},
   "outputs": [],
   "source": [
    "fy11cap = pd.read_csv(\"../RIDE/FY11-93-All-Expenditure-Account-Strings-with-Descriptions-421-422.csv\")\n",
    "fy11cap['Year'] = 2011\n",
    "print(fy11cap.shape)\n",
    "fy11cap.columns"
   ]
  },
  {
   "cell_type": "markdown",
   "metadata": {},
   "source": [
    "### Read the FY2010  (2009-2010 school year) data: Expenditures: Capital and Debt Service Expenditures \n",
    "\n",
    "Note: no Budget information this year\n",
    "\n",
    "Source file is:\n",
    "\n",
    "http://www.ride.ri.gov/Portals/0/Uploads/Documents/UCOA/2009-2010-Consolidated-UCOA-Database/FY-10-UCOA-Database-Expenditures-Capital-and-Debt-Service-Expenditures.xlsx"
   ]
  },
  {
   "cell_type": "code",
   "execution_count": null,
   "metadata": {},
   "outputs": [],
   "source": [
    "fy10cap = pd.read_csv(\"../RIDE/FY-10-UCOA-Database-Expenditures-Capital-and-Debt-Service-Expenditures.csv\")\n",
    "fy10cap['Year'] = 2010\n",
    "print(fy10cap.shape)\n",
    "fy10cap.columns"
   ]
  },
  {
   "cell_type": "code",
   "execution_count": null,
   "metadata": {},
   "outputs": [],
   "source": [
    "allcap = pd.concat([fy16cap,fy15cap,fy14cap,fy13cap,fy12cap,fy11cap,fy10cap])\n",
    "print(allcap.shape)"
   ]
  },
  {
   "cell_type": "code",
   "execution_count": null,
   "metadata": {},
   "outputs": [],
   "source": [
    "allcap_EG = allcap.loc[allcap['Dist No']==90.0]\n",
    "print(allcap_EG.shape)\n",
    "Tot = allcap_EG.groupby(['Year']).sum()[['Budget','Actual']]\n",
    "Tot['Variance'] = Tot['Actual'] - Tot['Budget']\n",
    "Tot"
   ]
  },
  {
   "cell_type": "markdown",
   "metadata": {},
   "source": [
    "### Read the FY2016  (2015-2016 school year) UCOA data:  Revenue \n",
    "\n",
    "Source file is:\n",
    "\n",
    "http://www.ride.ri.gov/Portals/0/Uploads/Documents/UCOA/2015-2016-Consolidated/FY16-All-Revenue-Account-Strings-with-Descriptions.xlsx"
   ]
  },
  {
   "cell_type": "code",
   "execution_count": null,
   "metadata": {},
   "outputs": [],
   "source": [
    "fy16rev = pd.read_csv(\"../RIDE/FY16-All-Revenue-Account-Strings-with-Descriptions.csv\")\n",
    "fy16rev['Year'] = 2016\n",
    "print(fy16rev.shape)\n",
    "fy16rev.columns"
   ]
  },
  {
   "cell_type": "markdown",
   "metadata": {},
   "source": [
    "### Read the FY2015  (2014-2015 school year) UCOA data:  Revenue \n",
    "\n",
    "Source file is:\n",
    "\n",
    "http://www.ride.ri.gov/Portals/0/Uploads/Documents/UCOA/2014-2015-Consolidated/94-All-Revenue-Account-Strings-with-Descriptions-with-budget.xlsx"
   ]
  },
  {
   "cell_type": "code",
   "execution_count": null,
   "metadata": {},
   "outputs": [],
   "source": [
    "fy15rev = pd.read_csv(\"../RIDE/94-All-Revenue-Account-Strings-with-Descriptions-with-budget.csv\")\n",
    "fy15rev['Year'] = 2015\n",
    "print(fy15rev.shape)\n",
    "fy15rev.columns"
   ]
  },
  {
   "cell_type": "markdown",
   "metadata": {},
   "source": [
    "### Read the FY2014  (2013-2014 school year) UCOA data:  Revenue \n",
    "\n",
    "Source file is:\n",
    "\n",
    "http://www.ride.ri.gov/Portals/0/Uploads/Documents/UCOA/94-All-Revenue-Account-Strings-with-Descriptions-081415.xlsx"
   ]
  },
  {
   "cell_type": "code",
   "execution_count": null,
   "metadata": {},
   "outputs": [],
   "source": [
    "fy14rev = pd.read_csv(\"../RIDE/94-All-Revenue-Account-Strings-with-Descriptions-081415.csv\")\n",
    "fy14rev['Year'] = 2014\n",
    "print(fy14rev.shape)\n",
    "fy14rev.columns"
   ]
  },
  {
   "cell_type": "markdown",
   "metadata": {},
   "source": [
    "### Read the FY2013  (2012-2013 school year) UCOA data:  Revenue \n",
    "\n",
    "Source file is:\n",
    "\n",
    "http://www.ride.ri.gov/Portals/0/Uploads/Documents/UCOA/2012-2013-Consolidated-Data/94-All-Revenue-Account-Strings-with-Descriptions-FY13.xlsx"
   ]
  },
  {
   "cell_type": "code",
   "execution_count": null,
   "metadata": {},
   "outputs": [],
   "source": [
    "fy13rev = pd.read_csv(\"../RIDE/94-All-Revenue-Account-Strings-with-Descriptions-FY13.csv\")\n",
    "fy13rev['Year'] = 2013\n",
    "print(fy13rev.shape)\n",
    "fy13rev.columns"
   ]
  },
  {
   "cell_type": "markdown",
   "metadata": {},
   "source": [
    "### Read the FY2012  (2011-2012 school year) UCOA data:  Revenue \n",
    "\n",
    "Source file is:\n",
    "\n",
    "http://www.ride.ri.gov/Portals/0/Uploads/Documents/UCOA/FY12-Revenue.xlsx"
   ]
  },
  {
   "cell_type": "code",
   "execution_count": null,
   "metadata": {},
   "outputs": [],
   "source": [
    "fy12rev = pd.read_csv(\"../RIDE/FY12-Revenue.csv\")\n",
    "fy12rev['Year'] = 2012\n",
    "print(fy12rev.shape)\n",
    "fy12rev.columns"
   ]
  },
  {
   "cell_type": "markdown",
   "metadata": {},
   "source": [
    "### Read the FY2011  (2010-2011 school year) UCOA data:  Revenue \n",
    "\n",
    "Source file is:\n",
    "\n",
    "http://www.ride.ri.gov/Portals/0/Uploads/Documents/UCOA/2010-2011-Consolidated-UCOA-Databases/FY11-94-All-Revenue-Account-Strings-with-Descriptions.xlsx"
   ]
  },
  {
   "cell_type": "code",
   "execution_count": null,
   "metadata": {},
   "outputs": [],
   "source": [
    "fy11rev = pd.read_csv(\"../RIDE/FY11-94-All-Revenue-Account-Strings-with-Descriptions.csv\")\n",
    "fy11rev['Year'] = 2011\n",
    "print(fy11rev.shape)\n",
    "fy11rev.columns"
   ]
  },
  {
   "cell_type": "markdown",
   "metadata": {},
   "source": [
    "### Read the FY2010  (2009-2010 school year) UCOA data:  Revenue \n",
    "\n",
    "Note: no Budget data for this year\n",
    "\n",
    "Source file is:\n",
    "\n",
    "http://www.ride.ri.gov/Portals/0/Uploads/Documents/UCOA/FY10-Revenue.xlsx"
   ]
  },
  {
   "cell_type": "code",
   "execution_count": null,
   "metadata": {},
   "outputs": [],
   "source": [
    "fy10rev = pd.read_csv(\"../RIDE/FY10-Revenue.csv\")\n",
    "fy10rev['Year'] = 2010\n",
    "fy10rev['District ID'] = fy10rev['Dist No']     #differs from 2011-2016\n",
    "print(fy10rev.shape)\n",
    "fy10rev.columns"
   ]
  },
  {
   "cell_type": "code",
   "execution_count": null,
   "metadata": {},
   "outputs": [],
   "source": [
    "allrev = pd.concat([fy16rev,fy15rev,fy14rev,fy13rev,fy12rev,fy11rev,fy10rev])\n",
    "allrev['Dist No'] = allrev['District ID']            #this is the name used on the expense side\n",
    "print(allrev.shape)"
   ]
  },
  {
   "cell_type": "code",
   "execution_count": null,
   "metadata": {},
   "outputs": [],
   "source": [
    "allrev_EG = allrev.loc[allrev['Dist No']==90.0]\n",
    "print(allrev_EG.shape)\n",
    "Tot = allrev_EG.groupby(['Year']).sum()[['Budget','Actual']]\n",
    "Tot['Variance'] = Tot['Actual'] - Tot['Budget']\n",
    "Tot"
   ]
  },
  {
   "cell_type": "code",
   "execution_count": null,
   "metadata": {
    "collapsed": true
   },
   "outputs": [],
   "source": []
  }
 ],
 "metadata": {
  "kernelspec": {
   "display_name": "Python 3",
   "language": "python",
   "name": "python3"
  },
  "language_info": {
   "codemirror_mode": {
    "name": "ipython",
    "version": 3
   },
   "file_extension": ".py",
   "mimetype": "text/x-python",
   "name": "python",
   "nbconvert_exporter": "python",
   "pygments_lexer": "ipython3",
   "version": "3.6.2"
  }
 },
 "nbformat": 4,
 "nbformat_minor": 2
}
